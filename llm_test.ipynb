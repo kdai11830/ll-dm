{
 "cells": [
  {
   "cell_type": "code",
   "execution_count": 1,
   "id": "16d72fa7-d60d-4458-b3fa-58a5d9132089",
   "metadata": {
    "scrolled": true
   },
   "outputs": [
    {
     "name": "stdout",
     "output_type": "stream",
     "text": [
      "Defaulting to user installation because normal site-packages is not writeable\n",
      "Requirement already satisfied: numpy in /home/ubuntu/.local/lib/python3.10/site-packages (1.26.4)\n",
      "Requirement already satisfied: pandas in /home/ubuntu/.local/lib/python3.10/site-packages (2.2.2)\n",
      "Requirement already satisfied: boto3[crt] in /usr/local/lib/python3.10/dist-packages (1.34.117)\n",
      "Requirement already satisfied: botocore<1.35.0,>=1.34.117 in /usr/local/lib/python3.10/dist-packages (from boto3[crt]) (1.34.117)\n",
      "Requirement already satisfied: jmespath<2.0.0,>=0.7.1 in /usr/local/lib/python3.10/dist-packages (from boto3[crt]) (1.0.1)\n",
      "Requirement already satisfied: s3transfer<0.11.0,>=0.10.0 in /usr/local/lib/python3.10/dist-packages (from boto3[crt]) (0.10.1)\n",
      "Requirement already satisfied: python-dateutil>=2.8.2 in /usr/local/lib/python3.10/dist-packages (from pandas) (2.9.0.post0)\n",
      "Requirement already satisfied: pytz>=2020.1 in /usr/lib/python3/dist-packages (from pandas) (2022.1)\n",
      "Requirement already satisfied: tzdata>=2022.7 in /usr/local/lib/python3.10/dist-packages (from pandas) (2024.1)\n",
      "Requirement already satisfied: urllib3!=2.2.0,<3,>=1.25.4 in /usr/local/lib/python3.10/dist-packages (from botocore<1.35.0,>=1.34.117->boto3[crt]) (2.2.1)\n",
      "Requirement already satisfied: awscrt==0.20.9 in /home/ubuntu/.local/lib/python3.10/site-packages (from botocore[crt]<2.0a0,>=1.21.0; extra == \"crt\"->boto3[crt]) (0.20.9)\n",
      "Requirement already satisfied: six>=1.5 in /usr/local/lib/python3.10/dist-packages (from python-dateutil>=2.8.2->pandas) (1.16.0)\n",
      "\u001b[33mDEPRECATION: devscripts 2.22.1ubuntu1 has a non-standard version number. pip 24.1 will enforce this behaviour change. A possible replacement is to upgrade to a newer version of devscripts or contact the author to suggest that they release a version with a conforming version number. Discussion can be found at https://github.com/pypa/pip/issues/12063\u001b[0m\u001b[33m\n",
      "\u001b[0m"
     ]
    }
   ],
   "source": [
    "!pip install boto3[crt] numpy pandas"
   ]
  },
  {
   "cell_type": "code",
   "execution_count": 8,
   "id": "b05a0e05-de10-4296-9a60-97b4074ef9c0",
   "metadata": {},
   "outputs": [],
   "source": [
    "import boto3\n",
    "import json"
   ]
  },
  {
   "cell_type": "code",
   "execution_count": 3,
   "id": "bf4609f3-b9fc-49ac-81ba-1c8f98bc2885",
   "metadata": {},
   "outputs": [],
   "source": [
    "bedrock = boto3.client(\n",
    "    service_name='bedrock',\n",
    "    region_name='us-east-1'\n",
    ")\n",
    "\n",
    "# bedrock.list_foundation_models()"
   ]
  },
  {
   "cell_type": "code",
   "execution_count": 6,
   "id": "8a620fac-c6b0-4c4c-9394-21501fd92988",
   "metadata": {},
   "outputs": [
    {
     "data": {
      "text/plain": [
       "{'ResponseMetadata': {'RequestId': 'c8606d84-4e81-4a17-9d73-744e7cd6906b',\n",
       "  'HTTPStatusCode': 200,\n",
       "  'HTTPHeaders': {'date': 'Tue, 11 Jun 2024 05:39:46 GMT',\n",
       "   'content-type': 'application/json',\n",
       "   'content-length': '399',\n",
       "   'connection': 'keep-alive',\n",
       "   'x-amzn-requestid': 'c8606d84-4e81-4a17-9d73-744e7cd6906b'},\n",
       "  'RetryAttempts': 0},\n",
       " 'modelDetails': {'modelArn': 'arn:aws:bedrock:us-east-1::foundation-model/meta.llama3-70b-instruct-v1:0',\n",
       "  'modelId': 'meta.llama3-70b-instruct-v1:0',\n",
       "  'modelName': 'Llama 3 70B Instruct',\n",
       "  'providerName': 'Meta',\n",
       "  'inputModalities': ['TEXT'],\n",
       "  'outputModalities': ['TEXT'],\n",
       "  'responseStreamingSupported': True,\n",
       "  'customizationsSupported': [],\n",
       "  'inferenceTypesSupported': ['ON_DEMAND'],\n",
       "  'modelLifecycle': {'status': 'ACTIVE'}}}"
      ]
     },
     "execution_count": 6,
     "metadata": {},
     "output_type": "execute_result"
    }
   ],
   "source": [
    "bedrock.get_foundation_model(modelIdentifier='meta.llama3-70b-instruct-v1:0')"
   ]
  },
  {
   "cell_type": "code",
   "execution_count": 7,
   "id": "eae48853-1d8a-4634-96c0-7e94e9f537df",
   "metadata": {},
   "outputs": [],
   "source": [
    "# bedrock runtime instantiation\n",
    "client = boto3.client(\n",
    "    service_name='bedrock-runtime',\n",
    "    region_name='us-east-1'\n",
    ")\n",
    "\n",
    "model_id = 'meta.llama3-70b-instruct-v1:0'"
   ]
  },
  {
   "cell_type": "code",
   "execution_count": 17,
   "id": "3aacbc0e-9fbf-4a2e-999e-4d386dc6b1ba",
   "metadata": {},
   "outputs": [
    {
     "name": "stdout",
     "output_type": "stream",
     "text": [
      "{\"generation\":\"Campaign Title: The Lost Cityy of Eldarath\\n\\nCampaign Overview:\\nThe Lost Cityiy of Eldarath is a high-fantasy campaign set in the traditional DnD world of Faer. The campaign takes place in the kingdom of Eldarath, (a fictional kingdom) which has been lost to the sands of time. The players take on the roles of brave adventurers seeking to uncover the secrets of Eldarath and reclaim the lost city from the forces of darkness.\\n\\n**Story Arc 1: The Discovery of Eldarath**\\n\\nThe campaign begins with the players stumbling upon an ancient map that supposedly leads to the lost city of Eldarath. The map is cryptic, but it hints at the existence of a powerful artifact hidden within the city. The players must navigate treacherous landscapes, avoid deadly creatures, and overcome rival treasure hunters to reach the lost city.\\n\\n**Story Arc 2: The Rise of the Shadow**\\n\\nAs the players delve deeper into the lost city, they begin to uncover the dark history of Eldarath. They soon discover that the city was consumed by a powerful and malevolent force known only as \\\"The Shadow.\\\" The Shadow was once a powerful sorcerer who sought to conquer all of Faen, but was defeated and imprisoned by the ancient Eldarathians. However, The Shadow's dark magic has begun to seep back into the world, and the players must navigate the treacherous politics of Eldarath's ancient factions to prevent The Shadow's return.\\n\\n**Story Arc 3: The Rebirth of Eldarath**\\n\\nIn the final story arc, the players must face off against The Shadow and its minions in an epic battle to reclaim the lost city. Along the way, they will uncover the secrets of Eldarath's downfall and the true nature of The Shadow. The players will have the opportunity to forge alliances with ancient factions, uncover powerful artifacts, and make difficult choices that will determine the fate of Eldarath and the entire kingdom of Faen.\\n\\nThemes:\\n\\n* Exploration and discovery\\n* Uncovering dark secrets and conspiracies\\n* Overcoming rival factions and powerful enemies\\n* Balancing personal ambition with the greater good\\n\\nTone:\\n\\n* Epic and adventurous, with a sense of wonder and discovery\\n* Dark and ominous, with a sense of foreboding and danger\\n* Heroic and triumphant, with a sense of accomplishment and pride\\n\\nThis campaign setting provides a rich and immersive world for the players to explore, with a clear three-act structure and a variety of themes and tones to keep the game engaging and exciting.\",\"prompt_token_count\":35,\"generation_token_count\":526,\"stop_reason\":\"stop\"}\n"
     ]
    }
   ],
   "source": [
    "# test\n",
    "input = '''\n",
    "You are a Dungeon Master (DM) for a Dungeons & Dragons campaign. Create a basic campaign story in a traditional DnD setting that contains three main story arcs.\n",
    "'''\n",
    "\n",
    "body = json.dumps({\n",
    "    'prompt': input,\n",
    "    'temperature': 0.5,\n",
    "    'top_p': 0.8,\n",
    "    'max_gen_len':2048\n",
    "})\n",
    "\n",
    "response = client.invoke_model(\n",
    "    modelId=model_id, \n",
    "    body=body\n",
    ")['body'].read().decode('utf-8')\n",
    "\n",
    "print(response)"
   ]
  },
  {
   "cell_type": "code",
   "execution_count": 22,
   "id": "adba2bea-a346-4516-a6c1-afe85d9fff20",
   "metadata": {},
   "outputs": [
    {
     "name": "stdout",
     "output_type": "stream",
     "text": [
      "Campaign Title: The Lost Cityy of Eldarath\n",
      "\n",
      "Campaign Overview:\n",
      "The Lost Cityiy of Eldarath is a high-fantasy campaign set in the traditional DnD world of Faer. The campaign takes place in the kingdom of Eldarath, (a fictional kingdom) which has been lost to the sands of time. The players take on the roles of brave adventurers seeking to uncover the secrets of Eldarath and reclaim the lost city from the forces of darkness.\n",
      "\n",
      "**Story Arc 1: The Discovery of Eldarath**\n",
      "\n",
      "The campaign begins with the players stumbling upon an ancient map that supposedly leads to the lost city of Eldarath. The map is cryptic, but it hints at the existence of a powerful artifact hidden within the city. The players must navigate treacherous landscapes, avoid deadly creatures, and overcome rival treasure hunters to reach the lost city.\n",
      "\n",
      "**Story Arc 2: The Rise of the Shadow**\n",
      "\n",
      "As the players delve deeper into the lost city, they begin to uncover the dark history of Eldarath. They soon discover that the city was consumed by a powerful and malevolent force known only as \"The Shadow.\" The Shadow was once a powerful sorcerer who sought to conquer all of Faen, but was defeated and imprisoned by the ancient Eldarathians. However, The Shadow's dark magic has begun to seep back into the world, and the players must navigate the treacherous politics of Eldarath's ancient factions to prevent The Shadow's return.\n",
      "\n",
      "**Story Arc 3: The Rebirth of Eldarath**\n",
      "\n",
      "In the final story arc, the players must face off against The Shadow and its minions in an epic battle to reclaim the lost city. Along the way, they will uncover the secrets of Eldarath's downfall and the true nature of The Shadow. The players will have the opportunity to forge alliances with ancient factions, uncover powerful artifacts, and make difficult choices that will determine the fate of Eldarath and the entire kingdom of Faen.\n",
      "\n",
      "Themes:\n",
      "\n",
      "* Exploration and discovery\n",
      "* Uncovering dark secrets and conspiracies\n",
      "* Overcoming rival factions and powerful enemies\n",
      "* Balancing personal ambition with the greater good\n",
      "\n",
      "Tone:\n",
      "\n",
      "* Epic and adventurous, with a sense of wonder and discovery\n",
      "* Dark and ominous, with a sense of foreboding and danger\n",
      "* Heroic and triumphant, with a sense of accomplishment and pride\n",
      "\n",
      "This campaign setting provides a rich and immersive world for the players to explore, with a clear three-act structure and a variety of themes and tones to keep the game engaging and exciting.\n"
     ]
    }
   ],
   "source": [
    "response_dict = json.loads(response)\n",
    "print(response_dict['generation'])"
   ]
  },
  {
   "cell_type": "code",
   "execution_count": null,
   "id": "0a724639-918d-4724-b218-c915a67e7277",
   "metadata": {},
   "outputs": [],
   "source": []
  }
 ],
 "metadata": {
  "kernelspec": {
   "display_name": "Python 3 (ipykernel)",
   "language": "python",
   "name": "python3"
  },
  "language_info": {
   "codemirror_mode": {
    "name": "ipython",
    "version": 3
   },
   "file_extension": ".py",
   "mimetype": "text/x-python",
   "name": "python",
   "nbconvert_exporter": "python",
   "pygments_lexer": "ipython3",
   "version": "3.10.12"
  }
 },
 "nbformat": 4,
 "nbformat_minor": 5
}
