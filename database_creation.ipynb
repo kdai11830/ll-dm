{
 "cells": [
  {
   "cell_type": "markdown",
   "id": "6a44c40c-74ff-4004-bc9c-bac684ed172c",
   "metadata": {},
   "source": [
    "# Script for Creating SQL Database"
   ]
  },
  {
   "cell_type": "code",
   "execution_count": 1,
   "id": "5613bed6-79e2-47cb-803f-fbdc2e31baa2",
   "metadata": {},
   "outputs": [],
   "source": [
    "import sqlite3\n",
    "import pandas as pd\n",
    "\n",
    "pd.set_option('display.max_colwidth', None)\n",
    "pd.set_option('display.max_columns', None)  "
   ]
  },
  {
   "cell_type": "markdown",
   "id": "d893ad7f-ef4e-42af-86dc-f729aa3b71b1",
   "metadata": {},
   "source": [
    "## DB and Table Creation\n",
    "From DnD excel file"
   ]
  },
  {
   "cell_type": "code",
   "execution_count": 2,
   "id": "1d1b94cc-c087-4d44-9bb4-ef8fddbbc2ba",
   "metadata": {},
   "outputs": [],
   "source": [
    "# If building db from scratch, run this cell\n",
    "import os\n",
    "db_name = \"lldm.db\"\n",
    "if os.path.exists(db_name):\n",
    "    os.remove(db_name)"
   ]
  },
  {
   "cell_type": "code",
   "execution_count": 3,
   "id": "677a5f84-d5af-487d-9b49-0656b193f042",
   "metadata": {},
   "outputs": [
    {
     "name": "stdout",
     "output_type": "stream",
     "text": [
      "Database lldm.db formed.\n"
     ]
    }
   ],
   "source": [
    "db_name = \"lldm.db\"\n",
    "try: \n",
    "    db = sqlite3.connect(db_name) \n",
    "    print(\"Database lldm.db formed.\") \n",
    "except: \n",
    "    print(\"Database lldm.db not formed.\")"
   ]
  },
  {
   "cell_type": "code",
   "execution_count": 4,
   "id": "01014ef2-3089-422d-92ba-15e0af11107e",
   "metadata": {},
   "outputs": [
    {
     "name": "stdout",
     "output_type": "stream",
     "text": [
      "CHARACTER_SHEET\n",
      "INVENTORY\n",
      "WORLD_ITEMS\n",
      "SETTINGS\n",
      "NPCS\n",
      "TREASURES\n",
      "MONSTERS\n",
      "PLOT\n",
      "LOGS\n"
     ]
    }
   ],
   "source": [
    "dfs = pd.read_excel('DnD.xlsx', sheet_name=None)\n",
    "for table, df in dfs.items():\n",
    "    try:\n",
    "        print(table.upper().replace(' ','_').strip())\n",
    "        df.columns = [x.replace(' ','_') for x in df.columns.values]\n",
    "        df.to_sql(table.upper().replace(' ','_').strip(), db)\n",
    "    except:\n",
    "        continue"
   ]
  },
  {
   "cell_type": "code",
   "execution_count": 5,
   "id": "0d9f3f69",
   "metadata": {},
   "outputs": [],
   "source": [
    "# run query and return pandas dataframe\n",
    "def run_query(db, query):\n",
    "    try:\n",
    "        df = pd.read_sql_query(query, db)\n",
    "        return df\n",
    "    # not a select statement\n",
    "    except TypeError:\n",
    "        cursor = db.cursor()\n",
    "        cursor.execute(query)\n",
    "        return    "
   ]
  },
  {
   "cell_type": "code",
   "execution_count": 6,
   "id": "acc3d1b1",
   "metadata": {},
   "outputs": [
    {
     "name": "stdout",
     "output_type": "stream",
     "text": [
      "[('CHARACTER_SHEET',), ('INVENTORY',), ('WORLD_ITEMS',), ('SETTINGS',), ('NPCS',), ('TREASURES',), ('MONSTERS',), ('PLOT',), ('LOGS',)]\n"
     ]
    }
   ],
   "source": [
    "sql_query = \"\"\"\n",
    "SELECT name FROM sqlite_master  \n",
    "WHERE type='table';\n",
    "\"\"\"\n",
    "cursor = db.cursor()\n",
    "cursor.execute(sql_query)\n",
    "print(cursor.fetchall())"
   ]
  },
  {
   "cell_type": "code",
   "execution_count": 8,
   "id": "63794dba",
   "metadata": {},
   "outputs": [
    {
     "data": {
      "text/plain": [
       "<sqlite3.Cursor at 0x2031c150a40>"
      ]
     },
     "execution_count": 8,
     "metadata": {},
     "output_type": "execute_result"
    }
   ],
   "source": [
    "# single script\n",
    "query = '''\n",
    "CREATE TABLE IF NOT EXISTS CAMPAIGN (\n",
    "\tCampaign_ID INTEGER NOT NULL,\n",
    "   \tSetting TEXT NOT NULL,\n",
    "    Start_Time TEXT NOT NULL,\n",
    "    Current_Turns INTEGER NOT NULL DEFAULT 0\n",
    ");\n",
    "\n",
    "--ALTER TABLE CHARACTER_SHEET\n",
    "--RENAME COLUMN index TO Character_ID;\n",
    "--\n",
    "--ALTER TABLE CHARACTER_SHEET\n",
    "--ADD COLUMN Campaign_ID INTEGER;\n",
    "--\n",
    "--ALTER TABLE INVENTORY\n",
    "--RENAME COLUMN index TO Item_ID;\n",
    "--\n",
    "--ALTER TABLE WORLD_ITEMS\n",
    "--RENAME COLUMN index TO Item_ID;\n",
    "--\n",
    "--ALTER TABLE SETTINGS\n",
    "--RENAME COLUMN index TO Setting_ID;\n",
    "--\n",
    "--ALTER TABLE NPCS\n",
    "--RENAME COLUMN index TO NPC_ID;\n",
    "--\n",
    "--ALTER TABLE TREASURES\n",
    "--RENAME COLUMN index TO Treasure_ID;\n",
    "--\n",
    "--ALTER TABLE MONSTERS\n",
    "--RENAME COLUMN index TO Monster_ID;\n",
    "--\n",
    "--ALTER TABLE PLOT\n",
    "--RENAME COLUMN index TO Plot_ID;\n",
    "--\n",
    "--ALTER TABLE PLOT\n",
    "--ADD COLUMN Campaign_ID INTEGER;\n",
    "--\n",
    "--ALTER TABLE LOGS\n",
    "--RENAME COLUMN index TO Log_ID;\n",
    "--\n",
    "--ALTER TABLE LOGS\n",
    "--ADD COLUMN Campaign_ID INTEGER;\n",
    "--\n",
    "--ALTER TABLE LOGS\n",
    "--ADD COLUMN Character_ID INTEGER;\n",
    "\n",
    "CREATE TABLE IF NOT EXISTS CHARACTER_INVENTORY (\n",
    "    Campaign_ID INTEGER NOT NULL,\n",
    "\tCharacter_ID INTEGER NOT NULL,\n",
    "   \tItem_ID INTEGER NOT NULL,\n",
    "\tTotal_Quantity FLOAT DEFAULT 0\n",
    ");\n",
    "\n",
    "CREATE TABLE IF NOT EXISTS CHARACTER_INVENTORY_HISTORY (\n",
    "    Campaign_ID INTEGER NOT NULL,\n",
    "\tCharacter_ID INTEGER NOT NULL,\n",
    "   \tItem_ID INTEGER NOT NULL,\n",
    "\tQuantity FLOAT DEFAULT 0,\n",
    "    Obtain_Time DATETIME DEFAULT CURRENT_TIMESTAMP\n",
    ");\n",
    "\n",
    "CREATE VIEW IF NOT EXISTS CHARACTER_INVENTORY_DETAILS \n",
    "AS\n",
    "SELECT\n",
    "    a.Campaign_ID, a.Character_ID, a.Item_ID, a.Total_Quantity,\n",
    "    b.Weapon_Name, b.Weapon_Description\n",
    "FROM CHARACTER_INVENTORY a\n",
    "JOIN WORLD_ITEMS b ON a.Item_ID = b.Item_ID;\n",
    "\n",
    "CREATE VIEW IF NOT EXISTS CHARACTER_INVENTORY_HISTORY_DETAILS \n",
    "AS\n",
    "SELECT\n",
    "    a.Campaign_ID, a.Character_ID, a.Item_ID, a.Quantity, a.Modify_Time,\n",
    "    b.Weapon_Name, b.Weapon_Description\n",
    "FROM CHARACTER_INVENTORY a\n",
    "JOIN WORLD_ITEMS b ON a.Item_ID = b.Item_ID;\n",
    "'''\n",
    "\n",
    "cursor = db.cursor()\n",
    "cursor.executescript(query)"
   ]
  },
  {
   "cell_type": "code",
   "execution_count": 10,
   "id": "8f1de36c",
   "metadata": {},
   "outputs": [
    {
     "data": {
      "text/html": [
       "<div>\n",
       "<style scoped>\n",
       "    .dataframe tbody tr th:only-of-type {\n",
       "        vertical-align: middle;\n",
       "    }\n",
       "\n",
       "    .dataframe tbody tr th {\n",
       "        vertical-align: top;\n",
       "    }\n",
       "\n",
       "    .dataframe thead th {\n",
       "        text-align: right;\n",
       "    }\n",
       "</style>\n",
       "<table border=\"1\" class=\"dataframe\">\n",
       "  <thead>\n",
       "    <tr style=\"text-align: right;\">\n",
       "      <th></th>\n",
       "      <th>Campaign_ID</th>\n",
       "      <th>Character_ID</th>\n",
       "      <th>Item_ID</th>\n",
       "      <th>Quantity</th>\n",
       "    </tr>\n",
       "  </thead>\n",
       "  <tbody>\n",
       "  </tbody>\n",
       "</table>\n",
       "</div>"
      ],
      "text/plain": [
       "Empty DataFrame\n",
       "Columns: [Campaign_ID, Character_ID, Item_ID, Quantity]\n",
       "Index: []"
      ]
     },
     "execution_count": 10,
     "metadata": {},
     "output_type": "execute_result"
    }
   ],
   "source": [
    "query = '''\n",
    "SELECT * FROM CHARACTER_INVENTORY\n",
    "'''\n",
    "run_query(db, query)"
   ]
  },
  {
   "cell_type": "code",
   "execution_count": 39,
   "id": "6572b394",
   "metadata": {},
   "outputs": [],
   "source": [
    "db.close()"
   ]
  },
  {
   "cell_type": "code",
   "execution_count": null,
   "id": "65b54a14",
   "metadata": {},
   "outputs": [],
   "source": []
  }
 ],
 "metadata": {
  "kernelspec": {
   "display_name": "Python 3 (ipykernel)",
   "language": "python",
   "name": "python3"
  },
  "language_info": {
   "codemirror_mode": {
    "name": "ipython",
    "version": 3
   },
   "file_extension": ".py",
   "mimetype": "text/x-python",
   "name": "python",
   "nbconvert_exporter": "python",
   "pygments_lexer": "ipython3",
   "version": "3.11.9"
  }
 },
 "nbformat": 4,
 "nbformat_minor": 5
}
