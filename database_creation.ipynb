{
 "cells": [
  {
   "cell_type": "markdown",
   "id": "6a44c40c-74ff-4004-bc9c-bac684ed172c",
   "metadata": {},
   "source": [
    "# Script for Creating SQL Database"
   ]
  },
  {
   "cell_type": "code",
   "execution_count": 1,
   "id": "5613bed6-79e2-47cb-803f-fbdc2e31baa2",
   "metadata": {},
   "outputs": [],
   "source": [
    "import sqlite3\n",
    "import pandas as pd\n",
    "\n",
    "pd.set_option('display.max_colwidth', None)\n",
    "pd.set_option('display.max_columns', None)  "
   ]
  },
  {
   "cell_type": "markdown",
   "id": "d893ad7f-ef4e-42af-86dc-f729aa3b71b1",
   "metadata": {},
   "source": [
    "## DB and Table Creation\n",
    "From DnD excel file"
   ]
  },
  {
   "cell_type": "code",
   "execution_count": 2,
   "id": "1d1b94cc-c087-4d44-9bb4-ef8fddbbc2ba",
   "metadata": {},
   "outputs": [],
   "source": [
    "# If building db from scratch, run this cell\n",
    "import os\n",
    "db_name = \"lldm.db\"\n",
    "if os.path.exists(db_name):\n",
    "    os.remove(db_name)"
   ]
  },
  {
   "cell_type": "code",
   "execution_count": 3,
   "id": "677a5f84-d5af-487d-9b49-0656b193f042",
   "metadata": {},
   "outputs": [
    {
     "name": "stdout",
     "output_type": "stream",
     "text": [
      "Database lldm.db formed.\n"
     ]
    }
   ],
   "source": [
    "db_name = \"lldm.db\"\n",
    "try: \n",
    "    db = sqlite3.connect(db_name) \n",
    "    print(\"Database lldm.db formed.\") \n",
    "except: \n",
    "    print(\"Database lldm.db not formed.\")"
   ]
  },
  {
   "cell_type": "code",
   "execution_count": 6,
   "id": "01014ef2-3089-422d-92ba-15e0af11107e",
   "metadata": {},
   "outputs": [
    {
     "name": "stdout",
     "output_type": "stream",
     "text": [
      "CHARACTER_SHEET\n",
      "INVENTORY\n",
      "WORLD_ITEMS\n",
      "SETTINGS\n",
      "NPCS\n",
      "TREASURES\n",
      "MONSTERS\n",
      "PLOT\n",
      "LOGS\n"
     ]
    }
   ],
   "source": [
    "dfs = pd.read_excel('DnD.xlsx', sheet_name=None)\n",
    "for table, df in dfs.items():\n",
    "    try:\n",
    "        print(table.upper().replace(' ','_').strip())\n",
    "        df.columns = [x.replace(' ','_') for x in df.columns.values]\n",
    "        df.to_sql(table.upper().replace(' ','_').strip(), db)\n",
    "    except:\n",
    "        continue"
   ]
  },
  {
   "cell_type": "code",
   "execution_count": 9,
   "id": "0d9f3f69",
   "metadata": {},
   "outputs": [],
   "source": [
    "# run query and return pandas dataframe\n",
    "def run_query(db, query):\n",
    "    try:\n",
    "        df = pd.read_sql_query(query, db)\n",
    "        return df\n",
    "    # not a select statement\n",
    "    except TypeError:\n",
    "        cursor = db.cursor()\n",
    "        cursor.execute(query)\n",
    "        return    "
   ]
  },
  {
   "cell_type": "code",
   "execution_count": 10,
   "id": "aade303c-27ae-4659-bac5-8ff91d845114",
   "metadata": {},
   "outputs": [],
   "source": [
    "# add campaign table\n",
    "query = '''CREATE TABLE IF NOT EXISTS CAMPAIGN (\n",
    "\tCampaign_ID INTEGER NOT NULL,\n",
    "   \tSetting TEXT NOT NULL,\n",
    "    Start_Time TEXT NOT NULL,\n",
    "    Current_Turns INTEGER NOT NULL DEFAULT 0\n",
    ");\n",
    "'''\n",
    "\n",
    "run_query(db, query)"
   ]
  },
  {
   "cell_type": "code",
   "execution_count": 11,
   "id": "84fca680-9b3d-44f3-891a-ed211e38c2ed",
   "metadata": {},
   "outputs": [
    {
     "name": "stdout",
     "output_type": "stream",
     "text": [
      "[('CHARACTER_SHEET',), ('INVENTORY',), ('WORLD_ITEMS',), ('SETTINGS',), ('NPCS',), ('TREASURES',), ('MONSTERS',), ('PLOT',), ('LOGS',), ('CAMPAIGN',)]\n"
     ]
    }
   ],
   "source": [
    "sql_query = \"\"\"\n",
    "SELECT name FROM sqlite_master  \n",
    "WHERE type='table';\n",
    "\"\"\"\n",
    "cursor = db.cursor()\n",
    "cursor.execute(sql_query)\n",
    "print(cursor.fetchall())"
   ]
  },
  {
   "cell_type": "markdown",
   "id": "99f5e822-3f85-42d6-aa02-abe69a733bff",
   "metadata": {},
   "source": [
    "## Data Check"
   ]
  },
  {
   "cell_type": "code",
   "execution_count": 12,
   "id": "7af8faa5-8587-44dd-9d03-90f9e001a6cb",
   "metadata": {},
   "outputs": [
    {
     "data": {
      "text/html": [
       "<div>\n",
       "<style scoped>\n",
       "    .dataframe tbody tr th:only-of-type {\n",
       "        vertical-align: middle;\n",
       "    }\n",
       "\n",
       "    .dataframe tbody tr th {\n",
       "        vertical-align: top;\n",
       "    }\n",
       "\n",
       "    .dataframe thead th {\n",
       "        text-align: right;\n",
       "    }\n",
       "</style>\n",
       "<table border=\"1\" class=\"dataframe\">\n",
       "  <thead>\n",
       "    <tr style=\"text-align: right;\">\n",
       "      <th></th>\n",
       "      <th>index</th>\n",
       "      <th>Name</th>\n",
       "      <th>Pronouns</th>\n",
       "      <th>Race</th>\n",
       "      <th>Class</th>\n",
       "      <th>Alignment</th>\n",
       "      <th>Brief_Description</th>\n",
       "      <th>Appearance</th>\n",
       "      <th>Backstory</th>\n",
       "      <th>Personality</th>\n",
       "      <th>Strength</th>\n",
       "      <th>Intelligence</th>\n",
       "      <th>Wisdom</th>\n",
       "      <th>Constitution</th>\n",
       "      <th>Dexterity</th>\n",
       "      <th>Charisma</th>\n",
       "    </tr>\n",
       "  </thead>\n",
       "  <tbody>\n",
       "    <tr>\n",
       "      <th>0</th>\n",
       "      <td>0</td>\n",
       "      <td>Elara Windrider</td>\n",
       "      <td>She/Her</td>\n",
       "      <td>Human</td>\n",
       "      <td>Fighter</td>\n",
       "      <td>Lawful Good</td>\n",
       "      <td>Courageous warrior with a heart of gold</td>\n",
       "      <td>Tall and athletic, with short brown hair, green eyes, and a determined expression. Wears chain mail and carries a longsword.</td>\n",
       "      <td>Elara was born in a small village and trained by her father, a retired soldier. She left home to protect the innocent and seek justice.</td>\n",
       "      <td>Brave and compassionate, with a strong sense of justice. She is determined and reliable, but can be stubborn at times.</td>\n",
       "      <td>14</td>\n",
       "      <td>10</td>\n",
       "      <td>11</td>\n",
       "      <td>13</td>\n",
       "      <td>12</td>\n",
       "      <td>14</td>\n",
       "    </tr>\n",
       "  </tbody>\n",
       "</table>\n",
       "</div>"
      ],
      "text/plain": [
       "   index             Name Pronouns   Race    Class    Alignment  \\\n",
       "0      0  Elara Windrider  She/Her  Human  Fighter  Lawful Good   \n",
       "\n",
       "                         Brief_Description  \\\n",
       "0  Courageous warrior with a heart of gold   \n",
       "\n",
       "                                                                                                                     Appearance  \\\n",
       "0  Tall and athletic, with short brown hair, green eyes, and a determined expression. Wears chain mail and carries a longsword.   \n",
       "\n",
       "                                                                                                                                 Backstory  \\\n",
       "0  Elara was born in a small village and trained by her father, a retired soldier. She left home to protect the innocent and seek justice.   \n",
       "\n",
       "                                                                                                              Personality  \\\n",
       "0  Brave and compassionate, with a strong sense of justice. She is determined and reliable, but can be stubborn at times.   \n",
       "\n",
       "   Strength  Intelligence  Wisdom  Constitution  Dexterity  Charisma  \n",
       "0        14            10      11            13         12        14  "
      ]
     },
     "execution_count": 12,
     "metadata": {},
     "output_type": "execute_result"
    }
   ],
   "source": [
    "query = '''\n",
    "SELECT * FROM CHARACTER_SHEET\n",
    "'''\n",
    "run_query(db, query)"
   ]
  },
  {
   "cell_type": "code",
   "execution_count": 13,
   "id": "9b586ff1-bc5c-4dbd-9e25-9f0b25f59cf4",
   "metadata": {},
   "outputs": [
    {
     "data": {
      "text/html": [
       "<div>\n",
       "<style scoped>\n",
       "    .dataframe tbody tr th:only-of-type {\n",
       "        vertical-align: middle;\n",
       "    }\n",
       "\n",
       "    .dataframe tbody tr th {\n",
       "        vertical-align: top;\n",
       "    }\n",
       "\n",
       "    .dataframe thead th {\n",
       "        text-align: right;\n",
       "    }\n",
       "</style>\n",
       "<table border=\"1\" class=\"dataframe\">\n",
       "  <thead>\n",
       "    <tr style=\"text-align: right;\">\n",
       "      <th></th>\n",
       "      <th>index</th>\n",
       "      <th>Category</th>\n",
       "      <th>Item</th>\n",
       "      <th>Description</th>\n",
       "    </tr>\n",
       "  </thead>\n",
       "  <tbody>\n",
       "    <tr>\n",
       "      <th>0</th>\n",
       "      <td>0</td>\n",
       "      <td>Weapon</td>\n",
       "      <td>Longsword</td>\n",
       "      <td>Elara's main weapon for combat.</td>\n",
       "    </tr>\n",
       "    <tr>\n",
       "      <th>1</th>\n",
       "      <td>1</td>\n",
       "      <td>Weapon</td>\n",
       "      <td>Dagger</td>\n",
       "      <td>Versatile tool for close combat and utility purposes.</td>\n",
       "    </tr>\n",
       "    <tr>\n",
       "      <th>2</th>\n",
       "      <td>2</td>\n",
       "      <td>Adventuring Gear</td>\n",
       "      <td>Backpack</td>\n",
       "      <td>To carry essential items.</td>\n",
       "    </tr>\n",
       "    <tr>\n",
       "      <th>3</th>\n",
       "      <td>3</td>\n",
       "      <td>Adventuring Gear</td>\n",
       "      <td>Rope (50 feet)</td>\n",
       "      <td>Useful for climbing and securing objects.</td>\n",
       "    </tr>\n",
       "    <tr>\n",
       "      <th>4</th>\n",
       "      <td>4</td>\n",
       "      <td>Adventuring Gear</td>\n",
       "      <td>Rations (5 days)</td>\n",
       "      <td>Enough food for the journey.</td>\n",
       "    </tr>\n",
       "    <tr>\n",
       "      <th>5</th>\n",
       "      <td>5</td>\n",
       "      <td>Adventuring Gear</td>\n",
       "      <td>Water skin</td>\n",
       "      <td>To carry water.</td>\n",
       "    </tr>\n",
       "    <tr>\n",
       "      <th>6</th>\n",
       "      <td>6</td>\n",
       "      <td>Adventuring Gear</td>\n",
       "      <td>Flint and Steel</td>\n",
       "      <td>For starting fires.</td>\n",
       "    </tr>\n",
       "    <tr>\n",
       "      <th>7</th>\n",
       "      <td>7</td>\n",
       "      <td>Adventuring Gear</td>\n",
       "      <td>Healing Potions (2)</td>\n",
       "      <td>For quick recovery in emergencies.</td>\n",
       "    </tr>\n",
       "    <tr>\n",
       "      <th>8</th>\n",
       "      <td>8</td>\n",
       "      <td>Armor</td>\n",
       "      <td>Chain Mail</td>\n",
       "      <td>Provides solid protection while allowing mobility.</td>\n",
       "    </tr>\n",
       "    <tr>\n",
       "      <th>9</th>\n",
       "      <td>9</td>\n",
       "      <td>Armor</td>\n",
       "      <td>Shield</td>\n",
       "      <td>Additional defense against attacks.</td>\n",
       "    </tr>\n",
       "    <tr>\n",
       "      <th>10</th>\n",
       "      <td>10</td>\n",
       "      <td>Transport</td>\n",
       "      <td>Horse (Storm)</td>\n",
       "      <td>A sturdy brown mare for reliable transportation.</td>\n",
       "    </tr>\n",
       "  </tbody>\n",
       "</table>\n",
       "</div>"
      ],
      "text/plain": [
       "    index          Category                 Item  \\\n",
       "0       0            Weapon            Longsword   \n",
       "1       1            Weapon               Dagger   \n",
       "2       2  Adventuring Gear             Backpack   \n",
       "3       3  Adventuring Gear       Rope (50 feet)   \n",
       "4       4  Adventuring Gear     Rations (5 days)   \n",
       "5       5  Adventuring Gear           Water skin   \n",
       "6       6  Adventuring Gear      Flint and Steel   \n",
       "7       7  Adventuring Gear  Healing Potions (2)   \n",
       "8       8             Armor           Chain Mail   \n",
       "9       9             Armor               Shield   \n",
       "10     10         Transport        Horse (Storm)   \n",
       "\n",
       "                                              Description  \n",
       "0                         Elara's main weapon for combat.  \n",
       "1   Versatile tool for close combat and utility purposes.  \n",
       "2                               To carry essential items.  \n",
       "3               Useful for climbing and securing objects.  \n",
       "4                            Enough food for the journey.  \n",
       "5                                         To carry water.  \n",
       "6                                     For starting fires.  \n",
       "7                      For quick recovery in emergencies.  \n",
       "8      Provides solid protection while allowing mobility.  \n",
       "9                     Additional defense against attacks.  \n",
       "10       A sturdy brown mare for reliable transportation.  "
      ]
     },
     "execution_count": 13,
     "metadata": {},
     "output_type": "execute_result"
    }
   ],
   "source": [
    "query = '''\n",
    "SELECT * FROM INVENTORY\n",
    "'''\n",
    "run_query(db, query)"
   ]
  },
  {
   "cell_type": "code",
   "execution_count": 17,
   "id": "5674ef3b",
   "metadata": {},
   "outputs": [
    {
     "data": {
      "text/html": [
       "<div>\n",
       "<style scoped>\n",
       "    .dataframe tbody tr th:only-of-type {\n",
       "        vertical-align: middle;\n",
       "    }\n",
       "\n",
       "    .dataframe tbody tr th {\n",
       "        vertical-align: top;\n",
       "    }\n",
       "\n",
       "    .dataframe thead th {\n",
       "        text-align: right;\n",
       "    }\n",
       "</style>\n",
       "<table border=\"1\" class=\"dataframe\">\n",
       "  <thead>\n",
       "    <tr style=\"text-align: right;\">\n",
       "      <th></th>\n",
       "      <th>Item_ID</th>\n",
       "      <th>Weapon_Name</th>\n",
       "      <th>Weapon_Description</th>\n",
       "      <th>Prompt</th>\n",
       "    </tr>\n",
       "  </thead>\n",
       "  <tbody>\n",
       "    <tr>\n",
       "      <th>0</th>\n",
       "      <td>0</td>\n",
       "      <td>Legendary Wand of Assassin</td>\n",
       "      <td>The Legendary Wand of Assassin is a wand known throughout the realms for its incredible power. Forged in the fires of an ancient forge, this wand is imbued with the essence of mage. It is said that those who wield it gain unmatched abilities, making them formidable in any battle.</td>\n",
       "      <td>Describe the weapon named Legendary Wand of Assassin in detail, including its history, special abilities, and appearance.</td>\n",
       "    </tr>\n",
       "    <tr>\n",
       "      <th>1</th>\n",
       "      <td>1</td>\n",
       "      <td>Forgotten Lance of Knight</td>\n",
       "      <td>The Forgotten Lance of Knight is a lance known throughout the realms for its incredible power. Forged in the fires of an ancient forge, this lance is imbued with the essence of dragon. It is said that those who wield it gain unmatched abilities, making them formidable in any battle.</td>\n",
       "      <td>Describe the weapon named Forgotten Lance of Knight in detail, including its history, special abilities, and appearance.</td>\n",
       "    </tr>\n",
       "    <tr>\n",
       "      <th>2</th>\n",
       "      <td>2</td>\n",
       "      <td>Cursed Armor of Warrior</td>\n",
       "      <td>The Cursed Armor of Warrior is a armor known throughout the realms for its incredible power. Forged in the fires of an ancient forge, this armor is imbued with the essence of ranger. It is said that those who wield it gain unmatched abilities, making them formidable in any battle.</td>\n",
       "      <td>Describe the weapon named Cursed Armor of Warrior in detail, including its history, special abilities, and appearance.</td>\n",
       "    </tr>\n",
       "    <tr>\n",
       "      <th>3</th>\n",
       "      <td>3</td>\n",
       "      <td>Divine Bow of Ranger</td>\n",
       "      <td>The Divine Bow of Ranger is a bow known throughout the realms for its incredible power. Forged in the fires of an ancient forge, this bow is imbued with the essence of mage. It is said that those who wield it gain unmatched abilities, making them formidable in any battle.</td>\n",
       "      <td>Describe the weapon named Divine Bow of Ranger in detail, including its history, special abilities, and appearance.</td>\n",
       "    </tr>\n",
       "    <tr>\n",
       "      <th>4</th>\n",
       "      <td>4</td>\n",
       "      <td>Cursed Armor of Storm</td>\n",
       "      <td>The Cursed Armor of Storm is a armor known throughout the realms for its incredible power. Forged in the fires of an ancient forge, this armor is imbued with the essence of frost. It is said that those who wield it gain unmatched abilities, making them formidable in any battle.</td>\n",
       "      <td>Describe the weapon named Cursed Armor of Storm in detail, including its history, special abilities, and appearance.</td>\n",
       "    </tr>\n",
       "    <tr>\n",
       "      <th>...</th>\n",
       "      <td>...</td>\n",
       "      <td>...</td>\n",
       "      <td>...</td>\n",
       "      <td>...</td>\n",
       "    </tr>\n",
       "    <tr>\n",
       "      <th>95</th>\n",
       "      <td>95</td>\n",
       "      <td>Glowing Armor of Warrior</td>\n",
       "      <td>The Glowing Armor of Warrior is a armor known throughout the realms for its incredible power. Forged in the fires of an ancient forge, this armor is imbued with the essence of warrior. It is said that those who wield it gain unmatched abilities, making them formidable in any battle.</td>\n",
       "      <td>Describe the weapon named Glowing Armor of Warrior in detail, including its history, special abilities, and appearance.</td>\n",
       "    </tr>\n",
       "    <tr>\n",
       "      <th>96</th>\n",
       "      <td>96</td>\n",
       "      <td>Divine Ring of Mage</td>\n",
       "      <td>The Divine Ring of Mage is a ring known throughout the realms for its incredible power. Forged in the fires of an ancient forge, this ring is imbued with the essence of frost. It is said that those who wield it gain unmatched abilities, making them formidable in any battle.</td>\n",
       "      <td>Describe the weapon named Divine Ring of Mage in detail, including its history, special abilities, and appearance.</td>\n",
       "    </tr>\n",
       "    <tr>\n",
       "      <th>97</th>\n",
       "      <td>97</td>\n",
       "      <td>Shadow Lance of Storm</td>\n",
       "      <td>The Shadow Lance of Storm is a lance known throughout the realms for its incredible power. Forged in the fires of an ancient forge, this lance is imbued with the essence of mage. It is said that those who wield it gain unmatched abilities, making them formidable in any battle.</td>\n",
       "      <td>Describe the weapon named Shadow Lance of Storm in detail, including its history, special abilities, and appearance.</td>\n",
       "    </tr>\n",
       "    <tr>\n",
       "      <th>98</th>\n",
       "      <td>98</td>\n",
       "      <td>Forgotten Sword of Flame</td>\n",
       "      <td>The Forgotten Sword of Flame is a sword known throughout the realms for its incredible power. Forged in the fires of an ancient forge, this sword is imbued with the essence of flame. It is said that those who wield it gain unmatched abilities, making them formidable in any battle.</td>\n",
       "      <td>Describe the weapon named Forgotten Sword of Flame in detail, including its history, special abilities, and appearance.</td>\n",
       "    </tr>\n",
       "    <tr>\n",
       "      <th>99</th>\n",
       "      <td>99</td>\n",
       "      <td>Mystic Axe of Phoenix</td>\n",
       "      <td>The Mystic Axe of Phoenix is a axe known throughout the realms for its incredible power. Forged in the fires of an ancient forge, this axe is imbued with the essence of warrior. It is said that those who wield it gain unmatched abilities, making them formidable in any battle.</td>\n",
       "      <td>Describe the weapon named Mystic Axe of Phoenix in detail, including its history, special abilities, and appearance.</td>\n",
       "    </tr>\n",
       "  </tbody>\n",
       "</table>\n",
       "<p>100 rows × 4 columns</p>\n",
       "</div>"
      ],
      "text/plain": [
       "    Item_ID                 Weapon_Name  \\\n",
       "0         0  Legendary Wand of Assassin   \n",
       "1         1   Forgotten Lance of Knight   \n",
       "2         2     Cursed Armor of Warrior   \n",
       "3         3        Divine Bow of Ranger   \n",
       "4         4       Cursed Armor of Storm   \n",
       "..      ...                         ...   \n",
       "95       95    Glowing Armor of Warrior   \n",
       "96       96         Divine Ring of Mage   \n",
       "97       97       Shadow Lance of Storm   \n",
       "98       98    Forgotten Sword of Flame   \n",
       "99       99       Mystic Axe of Phoenix   \n",
       "\n",
       "                                                                                                                                                                                                                                                                             Weapon_Description  \\\n",
       "0      The Legendary Wand of Assassin is a wand known throughout the realms for its incredible power. Forged in the fires of an ancient forge, this wand is imbued with the essence of mage. It is said that those who wield it gain unmatched abilities, making them formidable in any battle.   \n",
       "1   The Forgotten Lance of Knight is a lance known throughout the realms for its incredible power. Forged in the fires of an ancient forge, this lance is imbued with the essence of dragon. It is said that those who wield it gain unmatched abilities, making them formidable in any battle.   \n",
       "2     The Cursed Armor of Warrior is a armor known throughout the realms for its incredible power. Forged in the fires of an ancient forge, this armor is imbued with the essence of ranger. It is said that those who wield it gain unmatched abilities, making them formidable in any battle.   \n",
       "3              The Divine Bow of Ranger is a bow known throughout the realms for its incredible power. Forged in the fires of an ancient forge, this bow is imbued with the essence of mage. It is said that those who wield it gain unmatched abilities, making them formidable in any battle.   \n",
       "4        The Cursed Armor of Storm is a armor known throughout the realms for its incredible power. Forged in the fires of an ancient forge, this armor is imbued with the essence of frost. It is said that those who wield it gain unmatched abilities, making them formidable in any battle.   \n",
       "..                                                                                                                                                                                                                                                                                          ...   \n",
       "95  The Glowing Armor of Warrior is a armor known throughout the realms for its incredible power. Forged in the fires of an ancient forge, this armor is imbued with the essence of warrior. It is said that those who wield it gain unmatched abilities, making them formidable in any battle.   \n",
       "96           The Divine Ring of Mage is a ring known throughout the realms for its incredible power. Forged in the fires of an ancient forge, this ring is imbued with the essence of frost. It is said that those who wield it gain unmatched abilities, making them formidable in any battle.   \n",
       "97        The Shadow Lance of Storm is a lance known throughout the realms for its incredible power. Forged in the fires of an ancient forge, this lance is imbued with the essence of mage. It is said that those who wield it gain unmatched abilities, making them formidable in any battle.   \n",
       "98    The Forgotten Sword of Flame is a sword known throughout the realms for its incredible power. Forged in the fires of an ancient forge, this sword is imbued with the essence of flame. It is said that those who wield it gain unmatched abilities, making them formidable in any battle.   \n",
       "99         The Mystic Axe of Phoenix is a axe known throughout the realms for its incredible power. Forged in the fires of an ancient forge, this axe is imbued with the essence of warrior. It is said that those who wield it gain unmatched abilities, making them formidable in any battle.   \n",
       "\n",
       "                                                                                                                       Prompt  \n",
       "0   Describe the weapon named Legendary Wand of Assassin in detail, including its history, special abilities, and appearance.  \n",
       "1    Describe the weapon named Forgotten Lance of Knight in detail, including its history, special abilities, and appearance.  \n",
       "2      Describe the weapon named Cursed Armor of Warrior in detail, including its history, special abilities, and appearance.  \n",
       "3         Describe the weapon named Divine Bow of Ranger in detail, including its history, special abilities, and appearance.  \n",
       "4        Describe the weapon named Cursed Armor of Storm in detail, including its history, special abilities, and appearance.  \n",
       "..                                                                                                                        ...  \n",
       "95    Describe the weapon named Glowing Armor of Warrior in detail, including its history, special abilities, and appearance.  \n",
       "96         Describe the weapon named Divine Ring of Mage in detail, including its history, special abilities, and appearance.  \n",
       "97       Describe the weapon named Shadow Lance of Storm in detail, including its history, special abilities, and appearance.  \n",
       "98    Describe the weapon named Forgotten Sword of Flame in detail, including its history, special abilities, and appearance.  \n",
       "99       Describe the weapon named Mystic Axe of Phoenix in detail, including its history, special abilities, and appearance.  \n",
       "\n",
       "[100 rows x 4 columns]"
      ]
     },
     "execution_count": 17,
     "metadata": {},
     "output_type": "execute_result"
    }
   ],
   "source": [
    "query = '''\n",
    "SELECT * FROM WORLD_ITEMS\n",
    "'''\n",
    "run_query(db, query)"
   ]
  },
  {
   "cell_type": "code",
   "execution_count": 14,
   "id": "278704ea-5ce3-4014-9c3a-ca7c95d4ac92",
   "metadata": {},
   "outputs": [
    {
     "data": {
      "text/html": [
       "<div>\n",
       "<style scoped>\n",
       "    .dataframe tbody tr th:only-of-type {\n",
       "        vertical-align: middle;\n",
       "    }\n",
       "\n",
       "    .dataframe tbody tr th {\n",
       "        vertical-align: top;\n",
       "    }\n",
       "\n",
       "    .dataframe thead th {\n",
       "        text-align: right;\n",
       "    }\n",
       "</style>\n",
       "<table border=\"1\" class=\"dataframe\">\n",
       "  <thead>\n",
       "    <tr style=\"text-align: right;\">\n",
       "      <th></th>\n",
       "      <th>index</th>\n",
       "      <th>Setting</th>\n",
       "      <th>Name</th>\n",
       "      <th>Description</th>\n",
       "      <th>Key_Events</th>\n",
       "      <th>X_Coordinate</th>\n",
       "      <th>Y_Coordinate</th>\n",
       "    </tr>\n",
       "  </thead>\n",
       "  <tbody>\n",
       "    <tr>\n",
       "      <th>0</th>\n",
       "      <td>0</td>\n",
       "      <td>Traven</td>\n",
       "      <td>The Dragon's Flagon</td>\n",
       "      <td>A bustling tavern located in the heart of the town of Windshade. The tavern is filled with adventurers, merchants, and townsfolk.</td>\n",
       "      <td>Elara hears a rumor about a powerful sword hidden in the Whispering Woods and decides to embark on a quest to find it.</td>\n",
       "      <td>155</td>\n",
       "      <td>155</td>\n",
       "    </tr>\n",
       "    <tr>\n",
       "      <th>1</th>\n",
       "      <td>1</td>\n",
       "      <td>Wilderness</td>\n",
       "      <td>Whispering Woods</td>\n",
       "      <td>A dense and mysterious forest located to the north of Windshade. The woods are known for their eerie silence and are filled with ancient trees.</td>\n",
       "      <td>Elara navigates through the forest, facing various non-combat challenges like tricky terrain, ancient traps, and solving puzzles to find the hidden sword. After overcoming these challenges, she discovers the enchanted sword in a small, overgrown shrine deep within the woods.</td>\n",
       "      <td>220</td>\n",
       "      <td>250</td>\n",
       "    </tr>\n",
       "    <tr>\n",
       "      <th>2</th>\n",
       "      <td>2</td>\n",
       "      <td>Castle</td>\n",
       "      <td>Blackstone Keep</td>\n",
       "      <td>An ancient and abandoned castle perched on a hilltop, surrounded by dark, ominous clouds. It is rumored to be the lair of a fearsome monster.</td>\n",
       "      <td>Armed with the sword, Elara enters Blackstone Keep, faces the fearsome dragon, and engages in a climactic battle, ultimately defeating it.</td>\n",
       "      <td>50</td>\n",
       "      <td>280</td>\n",
       "    </tr>\n",
       "  </tbody>\n",
       "</table>\n",
       "</div>"
      ],
      "text/plain": [
       "   index     Setting                 Name  \\\n",
       "0      0      Traven  The Dragon's Flagon   \n",
       "1      1  Wilderness     Whispering Woods   \n",
       "2      2      Castle      Blackstone Keep   \n",
       "\n",
       "                                                                                                                                       Description  \\\n",
       "0                A bustling tavern located in the heart of the town of Windshade. The tavern is filled with adventurers, merchants, and townsfolk.   \n",
       "1  A dense and mysterious forest located to the north of Windshade. The woods are known for their eerie silence and are filled with ancient trees.   \n",
       "2    An ancient and abandoned castle perched on a hilltop, surrounded by dark, ominous clouds. It is rumored to be the lair of a fearsome monster.   \n",
       "\n",
       "                                                                                                                                                                                                                                                                            Key_Events  \\\n",
       "0                                                                                                                                                               Elara hears a rumor about a powerful sword hidden in the Whispering Woods and decides to embark on a quest to find it.   \n",
       "1  Elara navigates through the forest, facing various non-combat challenges like tricky terrain, ancient traps, and solving puzzles to find the hidden sword. After overcoming these challenges, she discovers the enchanted sword in a small, overgrown shrine deep within the woods.   \n",
       "2                                                                                                                                           Armed with the sword, Elara enters Blackstone Keep, faces the fearsome dragon, and engages in a climactic battle, ultimately defeating it.   \n",
       "\n",
       "   X_Coordinate  Y_Coordinate  \n",
       "0           155           155  \n",
       "1           220           250  \n",
       "2            50           280  "
      ]
     },
     "execution_count": 14,
     "metadata": {},
     "output_type": "execute_result"
    }
   ],
   "source": [
    "query = '''\n",
    "SELECT * FROM SETTINGS\n",
    "'''\n",
    "run_query(db, query)"
   ]
  },
  {
   "cell_type": "markdown",
   "id": "5d5f9c20-f645-4450-94fd-d683748c0cdf",
   "metadata": {},
   "source": [
    "## Modify Tables\n",
    "Add primary keys and rename bad columns"
   ]
  },
  {
   "cell_type": "markdown",
   "id": "891aedf1-c009-4fba-8f9f-566ccbb3e58b",
   "metadata": {},
   "source": [
    "### Character Sheet"
   ]
  },
  {
   "cell_type": "code",
   "execution_count": 33,
   "id": "c3cef481-c4ef-476e-a23d-0f38f504ba89",
   "metadata": {},
   "outputs": [],
   "source": [
    "query = '''\n",
    "ALTER TABLE CHARACTER_SHEET\n",
    "RENAME COLUMN \"index\" TO Character_ID;\n",
    "\n",
    "'''\n",
    "run_query(db, query)"
   ]
  },
  {
   "cell_type": "code",
   "execution_count": 34,
   "id": "3f42ac94-8620-4c39-a7a0-b66b4c832ca1",
   "metadata": {},
   "outputs": [],
   "source": [
    "query = '''\n",
    "ALTER TABLE CHARACTER_SHEET\n",
    "ADD COLUMN Campaign_ID INTEGER;\n",
    "'''\n",
    "run_query(db, query)"
   ]
  },
  {
   "cell_type": "code",
   "execution_count": 35,
   "id": "dd3e069d-6e0e-4dcf-9060-f3464a99301f",
   "metadata": {},
   "outputs": [
    {
     "data": {
      "text/html": [
       "<div>\n",
       "<style scoped>\n",
       "    .dataframe tbody tr th:only-of-type {\n",
       "        vertical-align: middle;\n",
       "    }\n",
       "\n",
       "    .dataframe tbody tr th {\n",
       "        vertical-align: top;\n",
       "    }\n",
       "\n",
       "    .dataframe thead th {\n",
       "        text-align: right;\n",
       "    }\n",
       "</style>\n",
       "<table border=\"1\" class=\"dataframe\">\n",
       "  <thead>\n",
       "    <tr style=\"text-align: right;\">\n",
       "      <th></th>\n",
       "      <th>Character_ID</th>\n",
       "      <th>Name</th>\n",
       "      <th>Pronouns</th>\n",
       "      <th>Race</th>\n",
       "      <th>Class</th>\n",
       "      <th>Alignment</th>\n",
       "      <th>Brief_Description</th>\n",
       "      <th>Appearance</th>\n",
       "      <th>Backstory</th>\n",
       "      <th>Personality</th>\n",
       "      <th>Strength</th>\n",
       "      <th>Intelligence</th>\n",
       "      <th>Wisdom</th>\n",
       "      <th>Constitution</th>\n",
       "      <th>Dexterity</th>\n",
       "      <th>Charisma</th>\n",
       "      <th>Campaign_ID</th>\n",
       "    </tr>\n",
       "  </thead>\n",
       "  <tbody>\n",
       "    <tr>\n",
       "      <th>0</th>\n",
       "      <td>0</td>\n",
       "      <td>Elara Windrider</td>\n",
       "      <td>She/Her</td>\n",
       "      <td>Human</td>\n",
       "      <td>Fighter</td>\n",
       "      <td>Lawful Good</td>\n",
       "      <td>Courageous warrior with a heart of gold</td>\n",
       "      <td>Tall and athletic, with short brown hair, green eyes, and a determined expression. Wears chain mail and carries a longsword.</td>\n",
       "      <td>Elara was born in a small village and trained by her father, a retired soldier. She left home to protect the innocent and seek justice.</td>\n",
       "      <td>Brave and compassionate, with a strong sense of justice. She is determined and reliable, but can be stubborn at times.</td>\n",
       "      <td>14</td>\n",
       "      <td>10</td>\n",
       "      <td>11</td>\n",
       "      <td>13</td>\n",
       "      <td>12</td>\n",
       "      <td>14</td>\n",
       "      <td>None</td>\n",
       "    </tr>\n",
       "  </tbody>\n",
       "</table>\n",
       "</div>"
      ],
      "text/plain": [
       "   Character_ID             Name Pronouns   Race    Class    Alignment  \\\n",
       "0             0  Elara Windrider  She/Her  Human  Fighter  Lawful Good   \n",
       "\n",
       "                         Brief_Description  \\\n",
       "0  Courageous warrior with a heart of gold   \n",
       "\n",
       "                                                                                                                     Appearance  \\\n",
       "0  Tall and athletic, with short brown hair, green eyes, and a determined expression. Wears chain mail and carries a longsword.   \n",
       "\n",
       "                                                                                                                                 Backstory  \\\n",
       "0  Elara was born in a small village and trained by her father, a retired soldier. She left home to protect the innocent and seek justice.   \n",
       "\n",
       "                                                                                                              Personality  \\\n",
       "0  Brave and compassionate, with a strong sense of justice. She is determined and reliable, but can be stubborn at times.   \n",
       "\n",
       "   Strength  Intelligence  Wisdom  Constitution  Dexterity  Charisma  \\\n",
       "0        14            10      11            13         12        14   \n",
       "\n",
       "  Campaign_ID  \n",
       "0        None  "
      ]
     },
     "execution_count": 35,
     "metadata": {},
     "output_type": "execute_result"
    }
   ],
   "source": [
    "query = '''\n",
    "SELECT * FROM CHARACTER_SHEET\n",
    "'''\n",
    "run_query(db, query)"
   ]
  },
  {
   "cell_type": "markdown",
   "id": "e99a56e7-81f1-40e0-9719-4e238f1297c9",
   "metadata": {},
   "source": [
    "### Inventory\n",
    "Inventory is essentially a master reference table of all possible items that can be used in a campaign - campaign agnostic. Shouldn't be altered unless functionality to add new items in universe is implemented"
   ]
  },
  {
   "cell_type": "code",
   "execution_count": 36,
   "id": "5aa30d14-ec5f-4fbe-b25d-4abed971a59a",
   "metadata": {},
   "outputs": [],
   "source": [
    "query = '''\n",
    "ALTER TABLE INVENTORY\n",
    "RENAME COLUMN \"index\" TO Item_ID;\n",
    "'''\n",
    "run_query(db, query)"
   ]
  },
  {
   "cell_type": "code",
   "execution_count": 37,
   "id": "0af4a92d-4d67-43b6-a5aa-609d0716a398",
   "metadata": {},
   "outputs": [
    {
     "data": {
      "text/html": [
       "<div>\n",
       "<style scoped>\n",
       "    .dataframe tbody tr th:only-of-type {\n",
       "        vertical-align: middle;\n",
       "    }\n",
       "\n",
       "    .dataframe tbody tr th {\n",
       "        vertical-align: top;\n",
       "    }\n",
       "\n",
       "    .dataframe thead th {\n",
       "        text-align: right;\n",
       "    }\n",
       "</style>\n",
       "<table border=\"1\" class=\"dataframe\">\n",
       "  <thead>\n",
       "    <tr style=\"text-align: right;\">\n",
       "      <th></th>\n",
       "      <th>Item_ID</th>\n",
       "      <th>Category</th>\n",
       "      <th>Item</th>\n",
       "      <th>Description</th>\n",
       "    </tr>\n",
       "  </thead>\n",
       "  <tbody>\n",
       "    <tr>\n",
       "      <th>0</th>\n",
       "      <td>0</td>\n",
       "      <td>Weapon</td>\n",
       "      <td>Longsword</td>\n",
       "      <td>Elara's main weapon for combat.</td>\n",
       "    </tr>\n",
       "    <tr>\n",
       "      <th>1</th>\n",
       "      <td>1</td>\n",
       "      <td>Weapon</td>\n",
       "      <td>Dagger</td>\n",
       "      <td>Versatile tool for close combat and utility purposes.</td>\n",
       "    </tr>\n",
       "    <tr>\n",
       "      <th>2</th>\n",
       "      <td>2</td>\n",
       "      <td>Adventuring Gear</td>\n",
       "      <td>Backpack</td>\n",
       "      <td>To carry essential items.</td>\n",
       "    </tr>\n",
       "    <tr>\n",
       "      <th>3</th>\n",
       "      <td>3</td>\n",
       "      <td>Adventuring Gear</td>\n",
       "      <td>Rope (50 feet)</td>\n",
       "      <td>Useful for climbing and securing objects.</td>\n",
       "    </tr>\n",
       "    <tr>\n",
       "      <th>4</th>\n",
       "      <td>4</td>\n",
       "      <td>Adventuring Gear</td>\n",
       "      <td>Rations (5 days)</td>\n",
       "      <td>Enough food for the journey.</td>\n",
       "    </tr>\n",
       "    <tr>\n",
       "      <th>5</th>\n",
       "      <td>5</td>\n",
       "      <td>Adventuring Gear</td>\n",
       "      <td>Water skin</td>\n",
       "      <td>To carry water.</td>\n",
       "    </tr>\n",
       "    <tr>\n",
       "      <th>6</th>\n",
       "      <td>6</td>\n",
       "      <td>Adventuring Gear</td>\n",
       "      <td>Flint and Steel</td>\n",
       "      <td>For starting fires.</td>\n",
       "    </tr>\n",
       "    <tr>\n",
       "      <th>7</th>\n",
       "      <td>7</td>\n",
       "      <td>Adventuring Gear</td>\n",
       "      <td>Healing Potions (2)</td>\n",
       "      <td>For quick recovery in emergencies.</td>\n",
       "    </tr>\n",
       "    <tr>\n",
       "      <th>8</th>\n",
       "      <td>8</td>\n",
       "      <td>Armor</td>\n",
       "      <td>Chain Mail</td>\n",
       "      <td>Provides solid protection while allowing mobility.</td>\n",
       "    </tr>\n",
       "    <tr>\n",
       "      <th>9</th>\n",
       "      <td>9</td>\n",
       "      <td>Armor</td>\n",
       "      <td>Shield</td>\n",
       "      <td>Additional defense against attacks.</td>\n",
       "    </tr>\n",
       "    <tr>\n",
       "      <th>10</th>\n",
       "      <td>10</td>\n",
       "      <td>Transport</td>\n",
       "      <td>Horse (Storm)</td>\n",
       "      <td>A sturdy brown mare for reliable transportation.</td>\n",
       "    </tr>\n",
       "  </tbody>\n",
       "</table>\n",
       "</div>"
      ],
      "text/plain": [
       "    Item_ID          Category                 Item  \\\n",
       "0         0            Weapon            Longsword   \n",
       "1         1            Weapon               Dagger   \n",
       "2         2  Adventuring Gear             Backpack   \n",
       "3         3  Adventuring Gear       Rope (50 feet)   \n",
       "4         4  Adventuring Gear     Rations (5 days)   \n",
       "5         5  Adventuring Gear           Water skin   \n",
       "6         6  Adventuring Gear      Flint and Steel   \n",
       "7         7  Adventuring Gear  Healing Potions (2)   \n",
       "8         8             Armor           Chain Mail   \n",
       "9         9             Armor               Shield   \n",
       "10       10         Transport        Horse (Storm)   \n",
       "\n",
       "                                              Description  \n",
       "0                         Elara's main weapon for combat.  \n",
       "1   Versatile tool for close combat and utility purposes.  \n",
       "2                               To carry essential items.  \n",
       "3               Useful for climbing and securing objects.  \n",
       "4                            Enough food for the journey.  \n",
       "5                                         To carry water.  \n",
       "6                                     For starting fires.  \n",
       "7                      For quick recovery in emergencies.  \n",
       "8      Provides solid protection while allowing mobility.  \n",
       "9                     Additional defense against attacks.  \n",
       "10       A sturdy brown mare for reliable transportation.  "
      ]
     },
     "execution_count": 37,
     "metadata": {},
     "output_type": "execute_result"
    }
   ],
   "source": [
    "query = '''\n",
    "SELECT * FROM INVENTORY\n",
    "'''\n",
    "run_query(db, query)"
   ]
  },
  {
   "cell_type": "markdown",
   "id": "e6661af3",
   "metadata": {},
   "source": [
    "### World Items"
   ]
  },
  {
   "cell_type": "code",
   "execution_count": 16,
   "id": "a15f1cbf",
   "metadata": {},
   "outputs": [
    {
     "ename": "OperationalError",
     "evalue": "no such column: \"\"index\"\"",
     "output_type": "error",
     "traceback": [
      "\u001b[1;31m---------------------------------------------------------------------------\u001b[0m",
      "\u001b[1;31mTypeError\u001b[0m                                 Traceback (most recent call last)",
      "Cell \u001b[1;32mIn[9], line 4\u001b[0m, in \u001b[0;36mrun_query\u001b[1;34m(db, query)\u001b[0m\n\u001b[0;32m      3\u001b[0m \u001b[38;5;28;01mtry\u001b[39;00m:\n\u001b[1;32m----> 4\u001b[0m     df \u001b[38;5;241m=\u001b[39m \u001b[43mpd\u001b[49m\u001b[38;5;241;43m.\u001b[39;49m\u001b[43mread_sql_query\u001b[49m\u001b[43m(\u001b[49m\u001b[43mquery\u001b[49m\u001b[43m,\u001b[49m\u001b[43m \u001b[49m\u001b[43mdb\u001b[49m\u001b[43m)\u001b[49m\n\u001b[0;32m      5\u001b[0m     \u001b[38;5;28;01mreturn\u001b[39;00m df\n",
      "File \u001b[1;32mc:\\Users\\kdai1\\OneDrive\\Work\\Masters\\W210\\ll-dm\\.conda\\Lib\\site-packages\\pandas\\io\\sql.py:526\u001b[0m, in \u001b[0;36mread_sql_query\u001b[1;34m(sql, con, index_col, coerce_float, params, parse_dates, chunksize, dtype, dtype_backend)\u001b[0m\n\u001b[0;32m    525\u001b[0m \u001b[38;5;28;01mwith\u001b[39;00m pandasSQL_builder(con) \u001b[38;5;28;01mas\u001b[39;00m pandas_sql:\n\u001b[1;32m--> 526\u001b[0m     \u001b[38;5;28;01mreturn\u001b[39;00m \u001b[43mpandas_sql\u001b[49m\u001b[38;5;241;43m.\u001b[39;49m\u001b[43mread_query\u001b[49m\u001b[43m(\u001b[49m\n\u001b[0;32m    527\u001b[0m \u001b[43m        \u001b[49m\u001b[43msql\u001b[49m\u001b[43m,\u001b[49m\n\u001b[0;32m    528\u001b[0m \u001b[43m        \u001b[49m\u001b[43mindex_col\u001b[49m\u001b[38;5;241;43m=\u001b[39;49m\u001b[43mindex_col\u001b[49m\u001b[43m,\u001b[49m\n\u001b[0;32m    529\u001b[0m \u001b[43m        \u001b[49m\u001b[43mparams\u001b[49m\u001b[38;5;241;43m=\u001b[39;49m\u001b[43mparams\u001b[49m\u001b[43m,\u001b[49m\n\u001b[0;32m    530\u001b[0m \u001b[43m        \u001b[49m\u001b[43mcoerce_float\u001b[49m\u001b[38;5;241;43m=\u001b[39;49m\u001b[43mcoerce_float\u001b[49m\u001b[43m,\u001b[49m\n\u001b[0;32m    531\u001b[0m \u001b[43m        \u001b[49m\u001b[43mparse_dates\u001b[49m\u001b[38;5;241;43m=\u001b[39;49m\u001b[43mparse_dates\u001b[49m\u001b[43m,\u001b[49m\n\u001b[0;32m    532\u001b[0m \u001b[43m        \u001b[49m\u001b[43mchunksize\u001b[49m\u001b[38;5;241;43m=\u001b[39;49m\u001b[43mchunksize\u001b[49m\u001b[43m,\u001b[49m\n\u001b[0;32m    533\u001b[0m \u001b[43m        \u001b[49m\u001b[43mdtype\u001b[49m\u001b[38;5;241;43m=\u001b[39;49m\u001b[43mdtype\u001b[49m\u001b[43m,\u001b[49m\n\u001b[0;32m    534\u001b[0m \u001b[43m        \u001b[49m\u001b[43mdtype_backend\u001b[49m\u001b[38;5;241;43m=\u001b[39;49m\u001b[43mdtype_backend\u001b[49m\u001b[43m,\u001b[49m\n\u001b[0;32m    535\u001b[0m \u001b[43m    \u001b[49m\u001b[43m)\u001b[49m\n",
      "File \u001b[1;32mc:\\Users\\kdai1\\OneDrive\\Work\\Masters\\W210\\ll-dm\\.conda\\Lib\\site-packages\\pandas\\io\\sql.py:2739\u001b[0m, in \u001b[0;36mSQLiteDatabase.read_query\u001b[1;34m(self, sql, index_col, coerce_float, parse_dates, params, chunksize, dtype, dtype_backend)\u001b[0m\n\u001b[0;32m   2738\u001b[0m cursor \u001b[38;5;241m=\u001b[39m \u001b[38;5;28mself\u001b[39m\u001b[38;5;241m.\u001b[39mexecute(sql, params)\n\u001b[1;32m-> 2739\u001b[0m columns \u001b[38;5;241m=\u001b[39m \u001b[43m[\u001b[49m\u001b[43mcol_desc\u001b[49m\u001b[43m[\u001b[49m\u001b[38;5;241;43m0\u001b[39;49m\u001b[43m]\u001b[49m\u001b[43m \u001b[49m\u001b[38;5;28;43;01mfor\u001b[39;49;00m\u001b[43m \u001b[49m\u001b[43mcol_desc\u001b[49m\u001b[43m \u001b[49m\u001b[38;5;129;43;01min\u001b[39;49;00m\u001b[43m \u001b[49m\u001b[43mcursor\u001b[49m\u001b[38;5;241;43m.\u001b[39;49m\u001b[43mdescription\u001b[49m\u001b[43m]\u001b[49m\n\u001b[0;32m   2741\u001b[0m \u001b[38;5;28;01mif\u001b[39;00m chunksize \u001b[38;5;129;01mis\u001b[39;00m \u001b[38;5;129;01mnot\u001b[39;00m \u001b[38;5;28;01mNone\u001b[39;00m:\n",
      "\u001b[1;31mTypeError\u001b[0m: 'NoneType' object is not iterable",
      "\nDuring handling of the above exception, another exception occurred:\n",
      "\u001b[1;31mOperationalError\u001b[0m                          Traceback (most recent call last)",
      "Cell \u001b[1;32mIn[16], line 5\u001b[0m\n\u001b[0;32m      1\u001b[0m query \u001b[38;5;241m=\u001b[39m \u001b[38;5;124m'''\u001b[39m\n\u001b[0;32m      2\u001b[0m \u001b[38;5;124mALTER TABLE WORLD_ITEMS\u001b[39m\n\u001b[0;32m      3\u001b[0m \u001b[38;5;124mRENAME COLUMN \u001b[39m\u001b[38;5;124m\"\u001b[39m\u001b[38;5;124mindex\u001b[39m\u001b[38;5;124m\"\u001b[39m\u001b[38;5;124m TO Item_ID;\u001b[39m\n\u001b[0;32m      4\u001b[0m \u001b[38;5;124m'''\u001b[39m\n\u001b[1;32m----> 5\u001b[0m \u001b[43mrun_query\u001b[49m\u001b[43m(\u001b[49m\u001b[43mdb\u001b[49m\u001b[43m,\u001b[49m\u001b[43m \u001b[49m\u001b[43mquery\u001b[49m\u001b[43m)\u001b[49m\n",
      "Cell \u001b[1;32mIn[9], line 9\u001b[0m, in \u001b[0;36mrun_query\u001b[1;34m(db, query)\u001b[0m\n\u001b[0;32m      7\u001b[0m \u001b[38;5;28;01mexcept\u001b[39;00m \u001b[38;5;167;01mTypeError\u001b[39;00m:\n\u001b[0;32m      8\u001b[0m     cursor \u001b[38;5;241m=\u001b[39m db\u001b[38;5;241m.\u001b[39mcursor()\n\u001b[1;32m----> 9\u001b[0m     \u001b[43mcursor\u001b[49m\u001b[38;5;241;43m.\u001b[39;49m\u001b[43mexecute\u001b[49m\u001b[43m(\u001b[49m\u001b[43mquery\u001b[49m\u001b[43m)\u001b[49m\n\u001b[0;32m     10\u001b[0m     \u001b[38;5;28;01mreturn\u001b[39;00m\n",
      "\u001b[1;31mOperationalError\u001b[0m: no such column: \"\"index\"\""
     ]
    }
   ],
   "source": [
    "query = '''\n",
    "ALTER TABLE WORLD_ITEMS\n",
    "RENAME COLUMN \"index\" TO Item_ID;\n",
    "'''\n",
    "run_query(db, query)"
   ]
  },
  {
   "cell_type": "markdown",
   "id": "5eab1ed9-02d6-4b0c-bbec-bc9cca238f86",
   "metadata": {},
   "source": [
    "### Settings\n",
    "Reference table for possible campaign settings, campaign agnostic. For now, should only be referenced, not modified during campaigns."
   ]
  },
  {
   "cell_type": "code",
   "execution_count": 18,
   "id": "00fbe41b-1277-497a-9dc4-2abc7473eee1",
   "metadata": {},
   "outputs": [
    {
     "ename": "OperationalError",
     "evalue": "no such column: \"\"index\"\"",
     "output_type": "error",
     "traceback": [
      "\u001b[1;31m---------------------------------------------------------------------------\u001b[0m",
      "\u001b[1;31mTypeError\u001b[0m                                 Traceback (most recent call last)",
      "Cell \u001b[1;32mIn[9], line 4\u001b[0m, in \u001b[0;36mrun_query\u001b[1;34m(db, query)\u001b[0m\n\u001b[0;32m      3\u001b[0m \u001b[38;5;28;01mtry\u001b[39;00m:\n\u001b[1;32m----> 4\u001b[0m     df \u001b[38;5;241m=\u001b[39m \u001b[43mpd\u001b[49m\u001b[38;5;241;43m.\u001b[39;49m\u001b[43mread_sql_query\u001b[49m\u001b[43m(\u001b[49m\u001b[43mquery\u001b[49m\u001b[43m,\u001b[49m\u001b[43m \u001b[49m\u001b[43mdb\u001b[49m\u001b[43m)\u001b[49m\n\u001b[0;32m      5\u001b[0m     \u001b[38;5;28;01mreturn\u001b[39;00m df\n",
      "File \u001b[1;32mc:\\Users\\kdai1\\OneDrive\\Work\\Masters\\W210\\ll-dm\\.conda\\Lib\\site-packages\\pandas\\io\\sql.py:526\u001b[0m, in \u001b[0;36mread_sql_query\u001b[1;34m(sql, con, index_col, coerce_float, params, parse_dates, chunksize, dtype, dtype_backend)\u001b[0m\n\u001b[0;32m    525\u001b[0m \u001b[38;5;28;01mwith\u001b[39;00m pandasSQL_builder(con) \u001b[38;5;28;01mas\u001b[39;00m pandas_sql:\n\u001b[1;32m--> 526\u001b[0m     \u001b[38;5;28;01mreturn\u001b[39;00m \u001b[43mpandas_sql\u001b[49m\u001b[38;5;241;43m.\u001b[39;49m\u001b[43mread_query\u001b[49m\u001b[43m(\u001b[49m\n\u001b[0;32m    527\u001b[0m \u001b[43m        \u001b[49m\u001b[43msql\u001b[49m\u001b[43m,\u001b[49m\n\u001b[0;32m    528\u001b[0m \u001b[43m        \u001b[49m\u001b[43mindex_col\u001b[49m\u001b[38;5;241;43m=\u001b[39;49m\u001b[43mindex_col\u001b[49m\u001b[43m,\u001b[49m\n\u001b[0;32m    529\u001b[0m \u001b[43m        \u001b[49m\u001b[43mparams\u001b[49m\u001b[38;5;241;43m=\u001b[39;49m\u001b[43mparams\u001b[49m\u001b[43m,\u001b[49m\n\u001b[0;32m    530\u001b[0m \u001b[43m        \u001b[49m\u001b[43mcoerce_float\u001b[49m\u001b[38;5;241;43m=\u001b[39;49m\u001b[43mcoerce_float\u001b[49m\u001b[43m,\u001b[49m\n\u001b[0;32m    531\u001b[0m \u001b[43m        \u001b[49m\u001b[43mparse_dates\u001b[49m\u001b[38;5;241;43m=\u001b[39;49m\u001b[43mparse_dates\u001b[49m\u001b[43m,\u001b[49m\n\u001b[0;32m    532\u001b[0m \u001b[43m        \u001b[49m\u001b[43mchunksize\u001b[49m\u001b[38;5;241;43m=\u001b[39;49m\u001b[43mchunksize\u001b[49m\u001b[43m,\u001b[49m\n\u001b[0;32m    533\u001b[0m \u001b[43m        \u001b[49m\u001b[43mdtype\u001b[49m\u001b[38;5;241;43m=\u001b[39;49m\u001b[43mdtype\u001b[49m\u001b[43m,\u001b[49m\n\u001b[0;32m    534\u001b[0m \u001b[43m        \u001b[49m\u001b[43mdtype_backend\u001b[49m\u001b[38;5;241;43m=\u001b[39;49m\u001b[43mdtype_backend\u001b[49m\u001b[43m,\u001b[49m\n\u001b[0;32m    535\u001b[0m \u001b[43m    \u001b[49m\u001b[43m)\u001b[49m\n",
      "File \u001b[1;32mc:\\Users\\kdai1\\OneDrive\\Work\\Masters\\W210\\ll-dm\\.conda\\Lib\\site-packages\\pandas\\io\\sql.py:2739\u001b[0m, in \u001b[0;36mSQLiteDatabase.read_query\u001b[1;34m(self, sql, index_col, coerce_float, parse_dates, params, chunksize, dtype, dtype_backend)\u001b[0m\n\u001b[0;32m   2738\u001b[0m cursor \u001b[38;5;241m=\u001b[39m \u001b[38;5;28mself\u001b[39m\u001b[38;5;241m.\u001b[39mexecute(sql, params)\n\u001b[1;32m-> 2739\u001b[0m columns \u001b[38;5;241m=\u001b[39m \u001b[43m[\u001b[49m\u001b[43mcol_desc\u001b[49m\u001b[43m[\u001b[49m\u001b[38;5;241;43m0\u001b[39;49m\u001b[43m]\u001b[49m\u001b[43m \u001b[49m\u001b[38;5;28;43;01mfor\u001b[39;49;00m\u001b[43m \u001b[49m\u001b[43mcol_desc\u001b[49m\u001b[43m \u001b[49m\u001b[38;5;129;43;01min\u001b[39;49;00m\u001b[43m \u001b[49m\u001b[43mcursor\u001b[49m\u001b[38;5;241;43m.\u001b[39;49m\u001b[43mdescription\u001b[49m\u001b[43m]\u001b[49m\n\u001b[0;32m   2741\u001b[0m \u001b[38;5;28;01mif\u001b[39;00m chunksize \u001b[38;5;129;01mis\u001b[39;00m \u001b[38;5;129;01mnot\u001b[39;00m \u001b[38;5;28;01mNone\u001b[39;00m:\n",
      "\u001b[1;31mTypeError\u001b[0m: 'NoneType' object is not iterable",
      "\nDuring handling of the above exception, another exception occurred:\n",
      "\u001b[1;31mOperationalError\u001b[0m                          Traceback (most recent call last)",
      "Cell \u001b[1;32mIn[18], line 5\u001b[0m\n\u001b[0;32m      1\u001b[0m query \u001b[38;5;241m=\u001b[39m \u001b[38;5;124m'''\u001b[39m\n\u001b[0;32m      2\u001b[0m \u001b[38;5;124mALTER TABLE SETTINGS\u001b[39m\n\u001b[0;32m      3\u001b[0m \u001b[38;5;124mRENAME COLUMN \u001b[39m\u001b[38;5;124m\"\u001b[39m\u001b[38;5;124mindex\u001b[39m\u001b[38;5;124m\"\u001b[39m\u001b[38;5;124m TO Setting_ID;\u001b[39m\n\u001b[0;32m      4\u001b[0m \u001b[38;5;124m'''\u001b[39m\n\u001b[1;32m----> 5\u001b[0m \u001b[43mrun_query\u001b[49m\u001b[43m(\u001b[49m\u001b[43mdb\u001b[49m\u001b[43m,\u001b[49m\u001b[43m \u001b[49m\u001b[43mquery\u001b[49m\u001b[43m)\u001b[49m\n",
      "Cell \u001b[1;32mIn[9], line 9\u001b[0m, in \u001b[0;36mrun_query\u001b[1;34m(db, query)\u001b[0m\n\u001b[0;32m      7\u001b[0m \u001b[38;5;28;01mexcept\u001b[39;00m \u001b[38;5;167;01mTypeError\u001b[39;00m:\n\u001b[0;32m      8\u001b[0m     cursor \u001b[38;5;241m=\u001b[39m db\u001b[38;5;241m.\u001b[39mcursor()\n\u001b[1;32m----> 9\u001b[0m     cursor\u001b[38;5;241m.\u001b[39mexecute(query)\n\u001b[0;32m     10\u001b[0m     \u001b[38;5;28;01mreturn\u001b[39;00m\n",
      "\u001b[1;31mOperationalError\u001b[0m: no such column: \"\"index\"\""
     ]
    }
   ],
   "source": [
    "query = '''\n",
    "ALTER TABLE SETTINGS\n",
    "RENAME COLUMN \"index\" TO Setting_ID;\n",
    "'''\n",
    "run_query(db, query)"
   ]
  },
  {
   "cell_type": "code",
   "execution_count": 19,
   "id": "39ff8fb9-6762-4035-91b6-313565d0e266",
   "metadata": {},
   "outputs": [
    {
     "data": {
      "text/html": [
       "<div>\n",
       "<style scoped>\n",
       "    .dataframe tbody tr th:only-of-type {\n",
       "        vertical-align: middle;\n",
       "    }\n",
       "\n",
       "    .dataframe tbody tr th {\n",
       "        vertical-align: top;\n",
       "    }\n",
       "\n",
       "    .dataframe thead th {\n",
       "        text-align: right;\n",
       "    }\n",
       "</style>\n",
       "<table border=\"1\" class=\"dataframe\">\n",
       "  <thead>\n",
       "    <tr style=\"text-align: right;\">\n",
       "      <th></th>\n",
       "      <th>Setting_ID</th>\n",
       "      <th>Setting</th>\n",
       "      <th>Name</th>\n",
       "      <th>Description</th>\n",
       "      <th>Key_Events</th>\n",
       "      <th>X_Coordinate</th>\n",
       "      <th>Y_Coordinate</th>\n",
       "    </tr>\n",
       "  </thead>\n",
       "  <tbody>\n",
       "    <tr>\n",
       "      <th>0</th>\n",
       "      <td>0</td>\n",
       "      <td>Traven</td>\n",
       "      <td>The Dragon's Flagon</td>\n",
       "      <td>A bustling tavern located in the heart of the town of Windshade. The tavern is filled with adventurers, merchants, and townsfolk.</td>\n",
       "      <td>Elara hears a rumor about a powerful sword hidden in the Whispering Woods and decides to embark on a quest to find it.</td>\n",
       "      <td>155</td>\n",
       "      <td>155</td>\n",
       "    </tr>\n",
       "    <tr>\n",
       "      <th>1</th>\n",
       "      <td>1</td>\n",
       "      <td>Wilderness</td>\n",
       "      <td>Whispering Woods</td>\n",
       "      <td>A dense and mysterious forest located to the north of Windshade. The woods are known for their eerie silence and are filled with ancient trees.</td>\n",
       "      <td>Elara navigates through the forest, facing various non-combat challenges like tricky terrain, ancient traps, and solving puzzles to find the hidden sword. After overcoming these challenges, she discovers the enchanted sword in a small, overgrown shrine deep within the woods.</td>\n",
       "      <td>220</td>\n",
       "      <td>250</td>\n",
       "    </tr>\n",
       "    <tr>\n",
       "      <th>2</th>\n",
       "      <td>2</td>\n",
       "      <td>Castle</td>\n",
       "      <td>Blackstone Keep</td>\n",
       "      <td>An ancient and abandoned castle perched on a hilltop, surrounded by dark, ominous clouds. It is rumored to be the lair of a fearsome monster.</td>\n",
       "      <td>Armed with the sword, Elara enters Blackstone Keep, faces the fearsome dragon, and engages in a climactic battle, ultimately defeating it.</td>\n",
       "      <td>50</td>\n",
       "      <td>280</td>\n",
       "    </tr>\n",
       "  </tbody>\n",
       "</table>\n",
       "</div>"
      ],
      "text/plain": [
       "   Setting_ID     Setting                 Name  \\\n",
       "0           0      Traven  The Dragon's Flagon   \n",
       "1           1  Wilderness     Whispering Woods   \n",
       "2           2      Castle      Blackstone Keep   \n",
       "\n",
       "                                                                                                                                       Description  \\\n",
       "0                A bustling tavern located in the heart of the town of Windshade. The tavern is filled with adventurers, merchants, and townsfolk.   \n",
       "1  A dense and mysterious forest located to the north of Windshade. The woods are known for their eerie silence and are filled with ancient trees.   \n",
       "2    An ancient and abandoned castle perched on a hilltop, surrounded by dark, ominous clouds. It is rumored to be the lair of a fearsome monster.   \n",
       "\n",
       "                                                                                                                                                                                                                                                                            Key_Events  \\\n",
       "0                                                                                                                                                               Elara hears a rumor about a powerful sword hidden in the Whispering Woods and decides to embark on a quest to find it.   \n",
       "1  Elara navigates through the forest, facing various non-combat challenges like tricky terrain, ancient traps, and solving puzzles to find the hidden sword. After overcoming these challenges, she discovers the enchanted sword in a small, overgrown shrine deep within the woods.   \n",
       "2                                                                                                                                           Armed with the sword, Elara enters Blackstone Keep, faces the fearsome dragon, and engages in a climactic battle, ultimately defeating it.   \n",
       "\n",
       "   X_Coordinate  Y_Coordinate  \n",
       "0           155           155  \n",
       "1           220           250  \n",
       "2            50           280  "
      ]
     },
     "execution_count": 19,
     "metadata": {},
     "output_type": "execute_result"
    }
   ],
   "source": [
    "query = '''\n",
    "SELECT * FROM SETTINGS\n",
    "'''\n",
    "run_query(db, query)"
   ]
  },
  {
   "cell_type": "markdown",
   "id": "8fda7959-372b-43fd-a7b3-cfa4bacf9a65",
   "metadata": {},
   "source": [
    "### NPCs\n",
    "NPC reference table, not to be modified"
   ]
  },
  {
   "cell_type": "code",
   "execution_count": 20,
   "id": "8ac07233-5535-4e98-a83e-a58ebcc3eba5",
   "metadata": {},
   "outputs": [
    {
     "ename": "OperationalError",
     "evalue": "no such column: \"\"index\"\"",
     "output_type": "error",
     "traceback": [
      "\u001b[1;31m---------------------------------------------------------------------------\u001b[0m",
      "\u001b[1;31mTypeError\u001b[0m                                 Traceback (most recent call last)",
      "Cell \u001b[1;32mIn[9], line 4\u001b[0m, in \u001b[0;36mrun_query\u001b[1;34m(db, query)\u001b[0m\n\u001b[0;32m      3\u001b[0m \u001b[38;5;28;01mtry\u001b[39;00m:\n\u001b[1;32m----> 4\u001b[0m     df \u001b[38;5;241m=\u001b[39m \u001b[43mpd\u001b[49m\u001b[38;5;241;43m.\u001b[39;49m\u001b[43mread_sql_query\u001b[49m\u001b[43m(\u001b[49m\u001b[43mquery\u001b[49m\u001b[43m,\u001b[49m\u001b[43m \u001b[49m\u001b[43mdb\u001b[49m\u001b[43m)\u001b[49m\n\u001b[0;32m      5\u001b[0m     \u001b[38;5;28;01mreturn\u001b[39;00m df\n",
      "File \u001b[1;32mc:\\Users\\kdai1\\OneDrive\\Work\\Masters\\W210\\ll-dm\\.conda\\Lib\\site-packages\\pandas\\io\\sql.py:526\u001b[0m, in \u001b[0;36mread_sql_query\u001b[1;34m(sql, con, index_col, coerce_float, params, parse_dates, chunksize, dtype, dtype_backend)\u001b[0m\n\u001b[0;32m    525\u001b[0m \u001b[38;5;28;01mwith\u001b[39;00m pandasSQL_builder(con) \u001b[38;5;28;01mas\u001b[39;00m pandas_sql:\n\u001b[1;32m--> 526\u001b[0m     \u001b[38;5;28;01mreturn\u001b[39;00m \u001b[43mpandas_sql\u001b[49m\u001b[38;5;241;43m.\u001b[39;49m\u001b[43mread_query\u001b[49m\u001b[43m(\u001b[49m\n\u001b[0;32m    527\u001b[0m \u001b[43m        \u001b[49m\u001b[43msql\u001b[49m\u001b[43m,\u001b[49m\n\u001b[0;32m    528\u001b[0m \u001b[43m        \u001b[49m\u001b[43mindex_col\u001b[49m\u001b[38;5;241;43m=\u001b[39;49m\u001b[43mindex_col\u001b[49m\u001b[43m,\u001b[49m\n\u001b[0;32m    529\u001b[0m \u001b[43m        \u001b[49m\u001b[43mparams\u001b[49m\u001b[38;5;241;43m=\u001b[39;49m\u001b[43mparams\u001b[49m\u001b[43m,\u001b[49m\n\u001b[0;32m    530\u001b[0m \u001b[43m        \u001b[49m\u001b[43mcoerce_float\u001b[49m\u001b[38;5;241;43m=\u001b[39;49m\u001b[43mcoerce_float\u001b[49m\u001b[43m,\u001b[49m\n\u001b[0;32m    531\u001b[0m \u001b[43m        \u001b[49m\u001b[43mparse_dates\u001b[49m\u001b[38;5;241;43m=\u001b[39;49m\u001b[43mparse_dates\u001b[49m\u001b[43m,\u001b[49m\n\u001b[0;32m    532\u001b[0m \u001b[43m        \u001b[49m\u001b[43mchunksize\u001b[49m\u001b[38;5;241;43m=\u001b[39;49m\u001b[43mchunksize\u001b[49m\u001b[43m,\u001b[49m\n\u001b[0;32m    533\u001b[0m \u001b[43m        \u001b[49m\u001b[43mdtype\u001b[49m\u001b[38;5;241;43m=\u001b[39;49m\u001b[43mdtype\u001b[49m\u001b[43m,\u001b[49m\n\u001b[0;32m    534\u001b[0m \u001b[43m        \u001b[49m\u001b[43mdtype_backend\u001b[49m\u001b[38;5;241;43m=\u001b[39;49m\u001b[43mdtype_backend\u001b[49m\u001b[43m,\u001b[49m\n\u001b[0;32m    535\u001b[0m \u001b[43m    \u001b[49m\u001b[43m)\u001b[49m\n",
      "File \u001b[1;32mc:\\Users\\kdai1\\OneDrive\\Work\\Masters\\W210\\ll-dm\\.conda\\Lib\\site-packages\\pandas\\io\\sql.py:2739\u001b[0m, in \u001b[0;36mSQLiteDatabase.read_query\u001b[1;34m(self, sql, index_col, coerce_float, parse_dates, params, chunksize, dtype, dtype_backend)\u001b[0m\n\u001b[0;32m   2738\u001b[0m cursor \u001b[38;5;241m=\u001b[39m \u001b[38;5;28mself\u001b[39m\u001b[38;5;241m.\u001b[39mexecute(sql, params)\n\u001b[1;32m-> 2739\u001b[0m columns \u001b[38;5;241m=\u001b[39m \u001b[43m[\u001b[49m\u001b[43mcol_desc\u001b[49m\u001b[43m[\u001b[49m\u001b[38;5;241;43m0\u001b[39;49m\u001b[43m]\u001b[49m\u001b[43m \u001b[49m\u001b[38;5;28;43;01mfor\u001b[39;49;00m\u001b[43m \u001b[49m\u001b[43mcol_desc\u001b[49m\u001b[43m \u001b[49m\u001b[38;5;129;43;01min\u001b[39;49;00m\u001b[43m \u001b[49m\u001b[43mcursor\u001b[49m\u001b[38;5;241;43m.\u001b[39;49m\u001b[43mdescription\u001b[49m\u001b[43m]\u001b[49m\n\u001b[0;32m   2741\u001b[0m \u001b[38;5;28;01mif\u001b[39;00m chunksize \u001b[38;5;129;01mis\u001b[39;00m \u001b[38;5;129;01mnot\u001b[39;00m \u001b[38;5;28;01mNone\u001b[39;00m:\n",
      "\u001b[1;31mTypeError\u001b[0m: 'NoneType' object is not iterable",
      "\nDuring handling of the above exception, another exception occurred:\n",
      "\u001b[1;31mOperationalError\u001b[0m                          Traceback (most recent call last)",
      "Cell \u001b[1;32mIn[20], line 5\u001b[0m\n\u001b[0;32m      1\u001b[0m query \u001b[38;5;241m=\u001b[39m \u001b[38;5;124m'''\u001b[39m\n\u001b[0;32m      2\u001b[0m \u001b[38;5;124mALTER TABLE NPCS\u001b[39m\n\u001b[0;32m      3\u001b[0m \u001b[38;5;124mRENAME COLUMN \u001b[39m\u001b[38;5;124m\"\u001b[39m\u001b[38;5;124mindex\u001b[39m\u001b[38;5;124m\"\u001b[39m\u001b[38;5;124m TO NPC_ID;\u001b[39m\n\u001b[0;32m      4\u001b[0m \u001b[38;5;124m'''\u001b[39m\n\u001b[1;32m----> 5\u001b[0m \u001b[43mrun_query\u001b[49m\u001b[43m(\u001b[49m\u001b[43mdb\u001b[49m\u001b[43m,\u001b[49m\u001b[43m \u001b[49m\u001b[43mquery\u001b[49m\u001b[43m)\u001b[49m\n",
      "Cell \u001b[1;32mIn[9], line 9\u001b[0m, in \u001b[0;36mrun_query\u001b[1;34m(db, query)\u001b[0m\n\u001b[0;32m      7\u001b[0m \u001b[38;5;28;01mexcept\u001b[39;00m \u001b[38;5;167;01mTypeError\u001b[39;00m:\n\u001b[0;32m      8\u001b[0m     cursor \u001b[38;5;241m=\u001b[39m db\u001b[38;5;241m.\u001b[39mcursor()\n\u001b[1;32m----> 9\u001b[0m     cursor\u001b[38;5;241m.\u001b[39mexecute(query)\n\u001b[0;32m     10\u001b[0m     \u001b[38;5;28;01mreturn\u001b[39;00m\n",
      "\u001b[1;31mOperationalError\u001b[0m: no such column: \"\"index\"\""
     ]
    }
   ],
   "source": [
    "query = '''\n",
    "ALTER TABLE NPCS\n",
    "RENAME COLUMN \"index\" TO NPC_ID;\n",
    "'''\n",
    "run_query(db, query)"
   ]
  },
  {
   "cell_type": "code",
   "execution_count": 21,
   "id": "3a32806f-bd3a-4ee6-8011-87b6093c4c81",
   "metadata": {},
   "outputs": [
    {
     "data": {
      "text/html": [
       "<div>\n",
       "<style scoped>\n",
       "    .dataframe tbody tr th:only-of-type {\n",
       "        vertical-align: middle;\n",
       "    }\n",
       "\n",
       "    .dataframe tbody tr th {\n",
       "        vertical-align: top;\n",
       "    }\n",
       "\n",
       "    .dataframe thead th {\n",
       "        text-align: right;\n",
       "    }\n",
       "</style>\n",
       "<table border=\"1\" class=\"dataframe\">\n",
       "  <thead>\n",
       "    <tr style=\"text-align: right;\">\n",
       "      <th></th>\n",
       "      <th>NPC_ID</th>\n",
       "    </tr>\n",
       "  </thead>\n",
       "  <tbody>\n",
       "  </tbody>\n",
       "</table>\n",
       "</div>"
      ],
      "text/plain": [
       "Empty DataFrame\n",
       "Columns: [NPC_ID]\n",
       "Index: []"
      ]
     },
     "execution_count": 21,
     "metadata": {},
     "output_type": "execute_result"
    }
   ],
   "source": [
    "query = '''\n",
    "SELECT * FROM NPCS\n",
    "'''\n",
    "run_query(db, query)"
   ]
  },
  {
   "cell_type": "markdown",
   "id": "f81e41b6-b141-423e-9da4-dad812d3f843",
   "metadata": {},
   "source": [
    "### Treasures\n",
    "Trasure reference table, not to be modified"
   ]
  },
  {
   "cell_type": "code",
   "execution_count": 22,
   "id": "0b8eae92-81d6-4b4b-af84-f6f0cf80659a",
   "metadata": {},
   "outputs": [
    {
     "ename": "OperationalError",
     "evalue": "no such column: \"\"index\"\"",
     "output_type": "error",
     "traceback": [
      "\u001b[1;31m---------------------------------------------------------------------------\u001b[0m",
      "\u001b[1;31mTypeError\u001b[0m                                 Traceback (most recent call last)",
      "Cell \u001b[1;32mIn[9], line 4\u001b[0m, in \u001b[0;36mrun_query\u001b[1;34m(db, query)\u001b[0m\n\u001b[0;32m      3\u001b[0m \u001b[38;5;28;01mtry\u001b[39;00m:\n\u001b[1;32m----> 4\u001b[0m     df \u001b[38;5;241m=\u001b[39m \u001b[43mpd\u001b[49m\u001b[38;5;241;43m.\u001b[39;49m\u001b[43mread_sql_query\u001b[49m\u001b[43m(\u001b[49m\u001b[43mquery\u001b[49m\u001b[43m,\u001b[49m\u001b[43m \u001b[49m\u001b[43mdb\u001b[49m\u001b[43m)\u001b[49m\n\u001b[0;32m      5\u001b[0m     \u001b[38;5;28;01mreturn\u001b[39;00m df\n",
      "File \u001b[1;32mc:\\Users\\kdai1\\OneDrive\\Work\\Masters\\W210\\ll-dm\\.conda\\Lib\\site-packages\\pandas\\io\\sql.py:526\u001b[0m, in \u001b[0;36mread_sql_query\u001b[1;34m(sql, con, index_col, coerce_float, params, parse_dates, chunksize, dtype, dtype_backend)\u001b[0m\n\u001b[0;32m    525\u001b[0m \u001b[38;5;28;01mwith\u001b[39;00m pandasSQL_builder(con) \u001b[38;5;28;01mas\u001b[39;00m pandas_sql:\n\u001b[1;32m--> 526\u001b[0m     \u001b[38;5;28;01mreturn\u001b[39;00m \u001b[43mpandas_sql\u001b[49m\u001b[38;5;241;43m.\u001b[39;49m\u001b[43mread_query\u001b[49m\u001b[43m(\u001b[49m\n\u001b[0;32m    527\u001b[0m \u001b[43m        \u001b[49m\u001b[43msql\u001b[49m\u001b[43m,\u001b[49m\n\u001b[0;32m    528\u001b[0m \u001b[43m        \u001b[49m\u001b[43mindex_col\u001b[49m\u001b[38;5;241;43m=\u001b[39;49m\u001b[43mindex_col\u001b[49m\u001b[43m,\u001b[49m\n\u001b[0;32m    529\u001b[0m \u001b[43m        \u001b[49m\u001b[43mparams\u001b[49m\u001b[38;5;241;43m=\u001b[39;49m\u001b[43mparams\u001b[49m\u001b[43m,\u001b[49m\n\u001b[0;32m    530\u001b[0m \u001b[43m        \u001b[49m\u001b[43mcoerce_float\u001b[49m\u001b[38;5;241;43m=\u001b[39;49m\u001b[43mcoerce_float\u001b[49m\u001b[43m,\u001b[49m\n\u001b[0;32m    531\u001b[0m \u001b[43m        \u001b[49m\u001b[43mparse_dates\u001b[49m\u001b[38;5;241;43m=\u001b[39;49m\u001b[43mparse_dates\u001b[49m\u001b[43m,\u001b[49m\n\u001b[0;32m    532\u001b[0m \u001b[43m        \u001b[49m\u001b[43mchunksize\u001b[49m\u001b[38;5;241;43m=\u001b[39;49m\u001b[43mchunksize\u001b[49m\u001b[43m,\u001b[49m\n\u001b[0;32m    533\u001b[0m \u001b[43m        \u001b[49m\u001b[43mdtype\u001b[49m\u001b[38;5;241;43m=\u001b[39;49m\u001b[43mdtype\u001b[49m\u001b[43m,\u001b[49m\n\u001b[0;32m    534\u001b[0m \u001b[43m        \u001b[49m\u001b[43mdtype_backend\u001b[49m\u001b[38;5;241;43m=\u001b[39;49m\u001b[43mdtype_backend\u001b[49m\u001b[43m,\u001b[49m\n\u001b[0;32m    535\u001b[0m \u001b[43m    \u001b[49m\u001b[43m)\u001b[49m\n",
      "File \u001b[1;32mc:\\Users\\kdai1\\OneDrive\\Work\\Masters\\W210\\ll-dm\\.conda\\Lib\\site-packages\\pandas\\io\\sql.py:2739\u001b[0m, in \u001b[0;36mSQLiteDatabase.read_query\u001b[1;34m(self, sql, index_col, coerce_float, parse_dates, params, chunksize, dtype, dtype_backend)\u001b[0m\n\u001b[0;32m   2738\u001b[0m cursor \u001b[38;5;241m=\u001b[39m \u001b[38;5;28mself\u001b[39m\u001b[38;5;241m.\u001b[39mexecute(sql, params)\n\u001b[1;32m-> 2739\u001b[0m columns \u001b[38;5;241m=\u001b[39m \u001b[43m[\u001b[49m\u001b[43mcol_desc\u001b[49m\u001b[43m[\u001b[49m\u001b[38;5;241;43m0\u001b[39;49m\u001b[43m]\u001b[49m\u001b[43m \u001b[49m\u001b[38;5;28;43;01mfor\u001b[39;49;00m\u001b[43m \u001b[49m\u001b[43mcol_desc\u001b[49m\u001b[43m \u001b[49m\u001b[38;5;129;43;01min\u001b[39;49;00m\u001b[43m \u001b[49m\u001b[43mcursor\u001b[49m\u001b[38;5;241;43m.\u001b[39;49m\u001b[43mdescription\u001b[49m\u001b[43m]\u001b[49m\n\u001b[0;32m   2741\u001b[0m \u001b[38;5;28;01mif\u001b[39;00m chunksize \u001b[38;5;129;01mis\u001b[39;00m \u001b[38;5;129;01mnot\u001b[39;00m \u001b[38;5;28;01mNone\u001b[39;00m:\n",
      "\u001b[1;31mTypeError\u001b[0m: 'NoneType' object is not iterable",
      "\nDuring handling of the above exception, another exception occurred:\n",
      "\u001b[1;31mOperationalError\u001b[0m                          Traceback (most recent call last)",
      "Cell \u001b[1;32mIn[22], line 5\u001b[0m\n\u001b[0;32m      1\u001b[0m query \u001b[38;5;241m=\u001b[39m \u001b[38;5;124m'''\u001b[39m\n\u001b[0;32m      2\u001b[0m \u001b[38;5;124mALTER TABLE TREASURES\u001b[39m\n\u001b[0;32m      3\u001b[0m \u001b[38;5;124mRENAME COLUMN \u001b[39m\u001b[38;5;124m\"\u001b[39m\u001b[38;5;124mindex\u001b[39m\u001b[38;5;124m\"\u001b[39m\u001b[38;5;124m TO Treasure_ID;\u001b[39m\n\u001b[0;32m      4\u001b[0m \u001b[38;5;124m'''\u001b[39m\n\u001b[1;32m----> 5\u001b[0m \u001b[43mrun_query\u001b[49m\u001b[43m(\u001b[49m\u001b[43mdb\u001b[49m\u001b[43m,\u001b[49m\u001b[43m \u001b[49m\u001b[43mquery\u001b[49m\u001b[43m)\u001b[49m\n",
      "Cell \u001b[1;32mIn[9], line 9\u001b[0m, in \u001b[0;36mrun_query\u001b[1;34m(db, query)\u001b[0m\n\u001b[0;32m      7\u001b[0m \u001b[38;5;28;01mexcept\u001b[39;00m \u001b[38;5;167;01mTypeError\u001b[39;00m:\n\u001b[0;32m      8\u001b[0m     cursor \u001b[38;5;241m=\u001b[39m db\u001b[38;5;241m.\u001b[39mcursor()\n\u001b[1;32m----> 9\u001b[0m     cursor\u001b[38;5;241m.\u001b[39mexecute(query)\n\u001b[0;32m     10\u001b[0m     \u001b[38;5;28;01mreturn\u001b[39;00m\n",
      "\u001b[1;31mOperationalError\u001b[0m: no such column: \"\"index\"\""
     ]
    }
   ],
   "source": [
    "query = '''\n",
    "ALTER TABLE TREASURES\n",
    "RENAME COLUMN \"index\" TO Treasure_ID;\n",
    "'''\n",
    "run_query(db, query)"
   ]
  },
  {
   "cell_type": "code",
   "execution_count": 23,
   "id": "c215d847-e26a-472f-8e6a-dd8875c123c5",
   "metadata": {},
   "outputs": [
    {
     "data": {
      "text/html": [
       "<div>\n",
       "<style scoped>\n",
       "    .dataframe tbody tr th:only-of-type {\n",
       "        vertical-align: middle;\n",
       "    }\n",
       "\n",
       "    .dataframe tbody tr th {\n",
       "        vertical-align: top;\n",
       "    }\n",
       "\n",
       "    .dataframe thead th {\n",
       "        text-align: right;\n",
       "    }\n",
       "</style>\n",
       "<table border=\"1\" class=\"dataframe\">\n",
       "  <thead>\n",
       "    <tr style=\"text-align: right;\">\n",
       "      <th></th>\n",
       "      <th>Treasure_ID</th>\n",
       "      <th>Name</th>\n",
       "      <th>Type</th>\n",
       "      <th>Description</th>\n",
       "      <th>Properties</th>\n",
       "      <th>Damage</th>\n",
       "      <th>Special_Abilities</th>\n",
       "      <th>Background</th>\n",
       "    </tr>\n",
       "  </thead>\n",
       "  <tbody>\n",
       "    <tr>\n",
       "      <th>0</th>\n",
       "      <td>0</td>\n",
       "      <td>Sword of the Phoenix</td>\n",
       "      <td>Longsword</td>\n",
       "      <td>A beautifully crafted longsword with a hilt shaped like a phoenix, glowing with fiery runes.</td>\n",
       "      <td>+1 to hit and damage rolls, additional fire damage, flame burst ability</td>\n",
       "      <td>1d8+1 slashing damage + 1d6 fire damage</td>\n",
       "      <td>Flame Burst: Once per day, the sword can unleash a burst of flame, dealing 3d6 fire damage to all creatures within a 10-foot radius (save vs. spells for half damage).</td>\n",
       "      <td>Forged in the heart of a volcano by ancient fire giants, the Sword of the Phoenix has been wielded by heroes throughout the ages. It is said to grant its bearer the strength and courage of the mythical phoenix.</td>\n",
       "    </tr>\n",
       "  </tbody>\n",
       "</table>\n",
       "</div>"
      ],
      "text/plain": [
       "   Treasure_ID                  Name       Type  \\\n",
       "0            0  Sword of the Phoenix  Longsword   \n",
       "\n",
       "                                                                                    Description  \\\n",
       "0  A beautifully crafted longsword with a hilt shaped like a phoenix, glowing with fiery runes.   \n",
       "\n",
       "                                                                Properties  \\\n",
       "0  +1 to hit and damage rolls, additional fire damage, flame burst ability   \n",
       "\n",
       "                                    Damage  \\\n",
       "0  1d8+1 slashing damage + 1d6 fire damage   \n",
       "\n",
       "                                                                                                                                                        Special_Abilities  \\\n",
       "0  Flame Burst: Once per day, the sword can unleash a burst of flame, dealing 3d6 fire damage to all creatures within a 10-foot radius (save vs. spells for half damage).   \n",
       "\n",
       "                                                                                                                                                                                                           Background  \n",
       "0  Forged in the heart of a volcano by ancient fire giants, the Sword of the Phoenix has been wielded by heroes throughout the ages. It is said to grant its bearer the strength and courage of the mythical phoenix.  "
      ]
     },
     "execution_count": 23,
     "metadata": {},
     "output_type": "execute_result"
    }
   ],
   "source": [
    "query = '''\n",
    "SELECT * FROM TREASURES\n",
    "'''\n",
    "run_query(db, query)"
   ]
  },
  {
   "cell_type": "markdown",
   "id": "6ca47b62-3590-4afe-bc32-001295411db0",
   "metadata": {},
   "source": [
    "### Monsters\n",
    "Monster reference table, not to be modified"
   ]
  },
  {
   "cell_type": "code",
   "execution_count": 24,
   "id": "794af73b-6bf6-4d62-9bbc-f5c870ba35bc",
   "metadata": {},
   "outputs": [
    {
     "ename": "OperationalError",
     "evalue": "no such column: \"\"index\"\"",
     "output_type": "error",
     "traceback": [
      "\u001b[1;31m---------------------------------------------------------------------------\u001b[0m",
      "\u001b[1;31mTypeError\u001b[0m                                 Traceback (most recent call last)",
      "Cell \u001b[1;32mIn[9], line 4\u001b[0m, in \u001b[0;36mrun_query\u001b[1;34m(db, query)\u001b[0m\n\u001b[0;32m      3\u001b[0m \u001b[38;5;28;01mtry\u001b[39;00m:\n\u001b[1;32m----> 4\u001b[0m     df \u001b[38;5;241m=\u001b[39m \u001b[43mpd\u001b[49m\u001b[38;5;241;43m.\u001b[39;49m\u001b[43mread_sql_query\u001b[49m\u001b[43m(\u001b[49m\u001b[43mquery\u001b[49m\u001b[43m,\u001b[49m\u001b[43m \u001b[49m\u001b[43mdb\u001b[49m\u001b[43m)\u001b[49m\n\u001b[0;32m      5\u001b[0m     \u001b[38;5;28;01mreturn\u001b[39;00m df\n",
      "File \u001b[1;32mc:\\Users\\kdai1\\OneDrive\\Work\\Masters\\W210\\ll-dm\\.conda\\Lib\\site-packages\\pandas\\io\\sql.py:526\u001b[0m, in \u001b[0;36mread_sql_query\u001b[1;34m(sql, con, index_col, coerce_float, params, parse_dates, chunksize, dtype, dtype_backend)\u001b[0m\n\u001b[0;32m    525\u001b[0m \u001b[38;5;28;01mwith\u001b[39;00m pandasSQL_builder(con) \u001b[38;5;28;01mas\u001b[39;00m pandas_sql:\n\u001b[1;32m--> 526\u001b[0m     \u001b[38;5;28;01mreturn\u001b[39;00m \u001b[43mpandas_sql\u001b[49m\u001b[38;5;241;43m.\u001b[39;49m\u001b[43mread_query\u001b[49m\u001b[43m(\u001b[49m\n\u001b[0;32m    527\u001b[0m \u001b[43m        \u001b[49m\u001b[43msql\u001b[49m\u001b[43m,\u001b[49m\n\u001b[0;32m    528\u001b[0m \u001b[43m        \u001b[49m\u001b[43mindex_col\u001b[49m\u001b[38;5;241;43m=\u001b[39;49m\u001b[43mindex_col\u001b[49m\u001b[43m,\u001b[49m\n\u001b[0;32m    529\u001b[0m \u001b[43m        \u001b[49m\u001b[43mparams\u001b[49m\u001b[38;5;241;43m=\u001b[39;49m\u001b[43mparams\u001b[49m\u001b[43m,\u001b[49m\n\u001b[0;32m    530\u001b[0m \u001b[43m        \u001b[49m\u001b[43mcoerce_float\u001b[49m\u001b[38;5;241;43m=\u001b[39;49m\u001b[43mcoerce_float\u001b[49m\u001b[43m,\u001b[49m\n\u001b[0;32m    531\u001b[0m \u001b[43m        \u001b[49m\u001b[43mparse_dates\u001b[49m\u001b[38;5;241;43m=\u001b[39;49m\u001b[43mparse_dates\u001b[49m\u001b[43m,\u001b[49m\n\u001b[0;32m    532\u001b[0m \u001b[43m        \u001b[49m\u001b[43mchunksize\u001b[49m\u001b[38;5;241;43m=\u001b[39;49m\u001b[43mchunksize\u001b[49m\u001b[43m,\u001b[49m\n\u001b[0;32m    533\u001b[0m \u001b[43m        \u001b[49m\u001b[43mdtype\u001b[49m\u001b[38;5;241;43m=\u001b[39;49m\u001b[43mdtype\u001b[49m\u001b[43m,\u001b[49m\n\u001b[0;32m    534\u001b[0m \u001b[43m        \u001b[49m\u001b[43mdtype_backend\u001b[49m\u001b[38;5;241;43m=\u001b[39;49m\u001b[43mdtype_backend\u001b[49m\u001b[43m,\u001b[49m\n\u001b[0;32m    535\u001b[0m \u001b[43m    \u001b[49m\u001b[43m)\u001b[49m\n",
      "File \u001b[1;32mc:\\Users\\kdai1\\OneDrive\\Work\\Masters\\W210\\ll-dm\\.conda\\Lib\\site-packages\\pandas\\io\\sql.py:2739\u001b[0m, in \u001b[0;36mSQLiteDatabase.read_query\u001b[1;34m(self, sql, index_col, coerce_float, parse_dates, params, chunksize, dtype, dtype_backend)\u001b[0m\n\u001b[0;32m   2738\u001b[0m cursor \u001b[38;5;241m=\u001b[39m \u001b[38;5;28mself\u001b[39m\u001b[38;5;241m.\u001b[39mexecute(sql, params)\n\u001b[1;32m-> 2739\u001b[0m columns \u001b[38;5;241m=\u001b[39m \u001b[43m[\u001b[49m\u001b[43mcol_desc\u001b[49m\u001b[43m[\u001b[49m\u001b[38;5;241;43m0\u001b[39;49m\u001b[43m]\u001b[49m\u001b[43m \u001b[49m\u001b[38;5;28;43;01mfor\u001b[39;49;00m\u001b[43m \u001b[49m\u001b[43mcol_desc\u001b[49m\u001b[43m \u001b[49m\u001b[38;5;129;43;01min\u001b[39;49;00m\u001b[43m \u001b[49m\u001b[43mcursor\u001b[49m\u001b[38;5;241;43m.\u001b[39;49m\u001b[43mdescription\u001b[49m\u001b[43m]\u001b[49m\n\u001b[0;32m   2741\u001b[0m \u001b[38;5;28;01mif\u001b[39;00m chunksize \u001b[38;5;129;01mis\u001b[39;00m \u001b[38;5;129;01mnot\u001b[39;00m \u001b[38;5;28;01mNone\u001b[39;00m:\n",
      "\u001b[1;31mTypeError\u001b[0m: 'NoneType' object is not iterable",
      "\nDuring handling of the above exception, another exception occurred:\n",
      "\u001b[1;31mOperationalError\u001b[0m                          Traceback (most recent call last)",
      "Cell \u001b[1;32mIn[24], line 5\u001b[0m\n\u001b[0;32m      1\u001b[0m query \u001b[38;5;241m=\u001b[39m \u001b[38;5;124m'''\u001b[39m\n\u001b[0;32m      2\u001b[0m \u001b[38;5;124mALTER TABLE MONSTERS\u001b[39m\n\u001b[0;32m      3\u001b[0m \u001b[38;5;124mRENAME COLUMN \u001b[39m\u001b[38;5;124m\"\u001b[39m\u001b[38;5;124mindex\u001b[39m\u001b[38;5;124m\"\u001b[39m\u001b[38;5;124m TO Monster_ID;\u001b[39m\n\u001b[0;32m      4\u001b[0m \u001b[38;5;124m'''\u001b[39m\n\u001b[1;32m----> 5\u001b[0m \u001b[43mrun_query\u001b[49m\u001b[43m(\u001b[49m\u001b[43mdb\u001b[49m\u001b[43m,\u001b[49m\u001b[43m \u001b[49m\u001b[43mquery\u001b[49m\u001b[43m)\u001b[49m\n",
      "Cell \u001b[1;32mIn[9], line 9\u001b[0m, in \u001b[0;36mrun_query\u001b[1;34m(db, query)\u001b[0m\n\u001b[0;32m      7\u001b[0m \u001b[38;5;28;01mexcept\u001b[39;00m \u001b[38;5;167;01mTypeError\u001b[39;00m:\n\u001b[0;32m      8\u001b[0m     cursor \u001b[38;5;241m=\u001b[39m db\u001b[38;5;241m.\u001b[39mcursor()\n\u001b[1;32m----> 9\u001b[0m     cursor\u001b[38;5;241m.\u001b[39mexecute(query)\n\u001b[0;32m     10\u001b[0m     \u001b[38;5;28;01mreturn\u001b[39;00m\n",
      "\u001b[1;31mOperationalError\u001b[0m: no such column: \"\"index\"\""
     ]
    }
   ],
   "source": [
    "query = '''\n",
    "ALTER TABLE MONSTERS\n",
    "RENAME COLUMN \"index\" TO Monster_ID;\n",
    "'''\n",
    "run_query(db, query)"
   ]
  },
  {
   "cell_type": "code",
   "execution_count": 25,
   "id": "3774702b-7196-4fb1-8d9f-57abac75c171",
   "metadata": {},
   "outputs": [
    {
     "data": {
      "text/html": [
       "<div>\n",
       "<style scoped>\n",
       "    .dataframe tbody tr th:only-of-type {\n",
       "        vertical-align: middle;\n",
       "    }\n",
       "\n",
       "    .dataframe tbody tr th {\n",
       "        vertical-align: top;\n",
       "    }\n",
       "\n",
       "    .dataframe thead th {\n",
       "        text-align: right;\n",
       "    }\n",
       "</style>\n",
       "<table border=\"1\" class=\"dataframe\">\n",
       "  <thead>\n",
       "    <tr style=\"text-align: right;\">\n",
       "      <th></th>\n",
       "      <th>Monster_ID</th>\n",
       "      <th>Name</th>\n",
       "      <th>Type</th>\n",
       "      <th>Alignment</th>\n",
       "      <th>Hit_Points</th>\n",
       "      <th>Armor_Class</th>\n",
       "      <th>Move</th>\n",
       "      <th>Strength</th>\n",
       "      <th>Dexterity</th>\n",
       "      <th>Constitution</th>\n",
       "      <th>Intelligence</th>\n",
       "      <th>Wisdom</th>\n",
       "      <th>Charisma</th>\n",
       "      <th>Saving_Throws</th>\n",
       "      <th>Special_Abilities</th>\n",
       "      <th>Damage_Immunities</th>\n",
       "      <th>Senses</th>\n",
       "      <th>Languages</th>\n",
       "      <th>Challenge_Level</th>\n",
       "      <th>Actions</th>\n",
       "      <th>Lair_Actions</th>\n",
       "      <th>Description</th>\n",
       "      <th>Encounter</th>\n",
       "    </tr>\n",
       "  </thead>\n",
       "  <tbody>\n",
       "    <tr>\n",
       "      <th>0</th>\n",
       "      <td>0</td>\n",
       "      <td>Shadowflame</td>\n",
       "      <td>Dragon</td>\n",
       "      <td>Chaotic Evil</td>\n",
       "      <td>64 (8d8+24)</td>\n",
       "      <td>2 (descending AC as per 1974 rules)</td>\n",
       "      <td>12\" / 24\" (ground/fly)</td>\n",
       "      <td>Exceptional (Dragons have high strength by default in 1974 D&amp;D)</td>\n",
       "      <td>Average</td>\n",
       "      <td>High (Dragons have significant hit points and resilience)</td>\n",
       "      <td>Average</td>\n",
       "      <td>Average</td>\n",
       "      <td>High (Dragons have a commanding presence)</td>\n",
       "      <td>As 8th-level Fighter (save as per 1974 D&amp;D saving throw tables)</td>\n",
       "      <td>Breath Weapon: Fire, 6\" long and 2\" wide cone, dealing 45 (13d6) fire damage. Save vs. Dragon Breath for half damage.&lt;br&gt;Legendary Resistance: If Shadowflame fails a saving throw, it can choose to succeed instead, up to 3 times per day.</td>\n",
       "      <td>Fire</td>\n",
       "      <td>Vision: Can see in total darkness up to 6\" (infravision)</td>\n",
       "      <td>Common, Dragon</td>\n",
       "      <td>7</td>\n",
       "      <td>Multiattack: Shadowflame makes three attacks: one with its bite and two with its claws.&lt;br&gt;Bite: +9 to hit, 2\" reach, one target. Hit: 15 (2d10+6) damage.&lt;br&gt;Claw: +9 to hit, 1\" reach, one target. Hit: 11 (2d6+6) damage.&lt;br&gt;Tail Swipe: +7 to hit, 2\" reach, all creatures within 2\" of the dragon. Hit: 10 (2d6+4) damage.</td>\n",
       "      <td>On initiative count 20 (losing initiative ties), Shadowflame takes a lair action to cause one of the following effects:&lt;br&gt;Volcanic Gas: A cloud of volcanic gas fills a 2\" radius sphere centered on a point Shadowflame can see within 12\" of it. The sphere spreads around corners, and its area is heavily obscured. It lasts until the initiative count 20 on the next round.&lt;br&gt;Lava Burst: A lava burst erupts from a point on the ground Shadowflame can see within 12\" of it. Each creature within 1\" of that point must make a saving throw, taking 21 (6d6) fire damage on a failed save, or half as much damage on a successful one.</td>\n",
       "      <td>Shadowflame is a fearsome dragon with scales as dark as night, streaked with fiery red veins. Its eyes glow with a sinister light, and its breath weapon spews forth searing flames that can melt stone. The dragon's wings are tattered but powerful, allowing it to soar high above its territory and rain fire upon those who dare to challenge it.</td>\n",
       "      <td>When Elara reaches the grand hall of Blackstone Keep, she finds Shadowflame lying in wait. The dragon immediately attacks, unleashing its fiery breath and using its formidable physical attacks to try and overwhelm her. The battle is fierce and deadly, with Elara using her enchanted sword to finally bring down the beast and end its reign of terror.</td>\n",
       "    </tr>\n",
       "  </tbody>\n",
       "</table>\n",
       "</div>"
      ],
      "text/plain": [
       "   Monster_ID         Name    Type     Alignment   Hit_Points  \\\n",
       "0           0  Shadowflame  Dragon  Chaotic Evil  64 (8d8+24)   \n",
       "\n",
       "                           Armor_Class                    Move  \\\n",
       "0  2 (descending AC as per 1974 rules)  12\" / 24\" (ground/fly)   \n",
       "\n",
       "                                                          Strength Dexterity  \\\n",
       "0  Exceptional (Dragons have high strength by default in 1974 D&D)   Average   \n",
       "\n",
       "                                                Constitution Intelligence  \\\n",
       "0  High (Dragons have significant hit points and resilience)      Average   \n",
       "\n",
       "    Wisdom                                   Charisma  \\\n",
       "0  Average  High (Dragons have a commanding presence)   \n",
       "\n",
       "                                                     Saving_Throws  \\\n",
       "0  As 8th-level Fighter (save as per 1974 D&D saving throw tables)   \n",
       "\n",
       "                                                                                                                                                                                                                              Special_Abilities  \\\n",
       "0  Breath Weapon: Fire, 6\" long and 2\" wide cone, dealing 45 (13d6) fire damage. Save vs. Dragon Breath for half damage.<br>Legendary Resistance: If Shadowflame fails a saving throw, it can choose to succeed instead, up to 3 times per day.   \n",
       "\n",
       "  Damage_Immunities                                                    Senses  \\\n",
       "0              Fire  Vision: Can see in total darkness up to 6\" (infravision)   \n",
       "\n",
       "        Languages  Challenge_Level  \\\n",
       "0  Common, Dragon                7   \n",
       "\n",
       "                                                                                                                                                                                                                                                                                                                           Actions  \\\n",
       "0  Multiattack: Shadowflame makes three attacks: one with its bite and two with its claws.<br>Bite: +9 to hit, 2\" reach, one target. Hit: 15 (2d10+6) damage.<br>Claw: +9 to hit, 1\" reach, one target. Hit: 11 (2d6+6) damage.<br>Tail Swipe: +7 to hit, 2\" reach, all creatures within 2\" of the dragon. Hit: 10 (2d6+4) damage.   \n",
       "\n",
       "                                                                                                                                                                                                                                                                                                                                                                                                                                                                                                                                                                                                                                       Lair_Actions  \\\n",
       "0  On initiative count 20 (losing initiative ties), Shadowflame takes a lair action to cause one of the following effects:<br>Volcanic Gas: A cloud of volcanic gas fills a 2\" radius sphere centered on a point Shadowflame can see within 12\" of it. The sphere spreads around corners, and its area is heavily obscured. It lasts until the initiative count 20 on the next round.<br>Lava Burst: A lava burst erupts from a point on the ground Shadowflame can see within 12\" of it. Each creature within 1\" of that point must make a saving throw, taking 21 (6d6) fire damage on a failed save, or half as much damage on a successful one.   \n",
       "\n",
       "                                                                                                                                                                                                                                                                                                                                              Description  \\\n",
       "0  Shadowflame is a fearsome dragon with scales as dark as night, streaked with fiery red veins. Its eyes glow with a sinister light, and its breath weapon spews forth searing flames that can melt stone. The dragon's wings are tattered but powerful, allowing it to soar high above its territory and rain fire upon those who dare to challenge it.   \n",
       "\n",
       "                                                                                                                                                                                                                                                                                                                                                       Encounter  \n",
       "0  When Elara reaches the grand hall of Blackstone Keep, she finds Shadowflame lying in wait. The dragon immediately attacks, unleashing its fiery breath and using its formidable physical attacks to try and overwhelm her. The battle is fierce and deadly, with Elara using her enchanted sword to finally bring down the beast and end its reign of terror.  "
      ]
     },
     "execution_count": 25,
     "metadata": {},
     "output_type": "execute_result"
    }
   ],
   "source": [
    "query = '''\n",
    "SELECT * FROM MONSTERS\n",
    "'''\n",
    "run_query(db, query)"
   ]
  },
  {
   "cell_type": "markdown",
   "id": "1651fea4-d4b3-49f9-b043-f06d73f7edeb",
   "metadata": {},
   "source": [
    "### Plot\n",
    "Need to figure out whether this is relevant, or if it can be merged with Logs table"
   ]
  },
  {
   "cell_type": "code",
   "execution_count": 26,
   "id": "1163b626-f2f6-4cbd-8638-ed476dc019c3",
   "metadata": {},
   "outputs": [
    {
     "ename": "OperationalError",
     "evalue": "no such column: \"\"index\"\"",
     "output_type": "error",
     "traceback": [
      "\u001b[1;31m---------------------------------------------------------------------------\u001b[0m",
      "\u001b[1;31mTypeError\u001b[0m                                 Traceback (most recent call last)",
      "Cell \u001b[1;32mIn[9], line 4\u001b[0m, in \u001b[0;36mrun_query\u001b[1;34m(db, query)\u001b[0m\n\u001b[0;32m      3\u001b[0m \u001b[38;5;28;01mtry\u001b[39;00m:\n\u001b[1;32m----> 4\u001b[0m     df \u001b[38;5;241m=\u001b[39m \u001b[43mpd\u001b[49m\u001b[38;5;241;43m.\u001b[39;49m\u001b[43mread_sql_query\u001b[49m\u001b[43m(\u001b[49m\u001b[43mquery\u001b[49m\u001b[43m,\u001b[49m\u001b[43m \u001b[49m\u001b[43mdb\u001b[49m\u001b[43m)\u001b[49m\n\u001b[0;32m      5\u001b[0m     \u001b[38;5;28;01mreturn\u001b[39;00m df\n",
      "File \u001b[1;32mc:\\Users\\kdai1\\OneDrive\\Work\\Masters\\W210\\ll-dm\\.conda\\Lib\\site-packages\\pandas\\io\\sql.py:526\u001b[0m, in \u001b[0;36mread_sql_query\u001b[1;34m(sql, con, index_col, coerce_float, params, parse_dates, chunksize, dtype, dtype_backend)\u001b[0m\n\u001b[0;32m    525\u001b[0m \u001b[38;5;28;01mwith\u001b[39;00m pandasSQL_builder(con) \u001b[38;5;28;01mas\u001b[39;00m pandas_sql:\n\u001b[1;32m--> 526\u001b[0m     \u001b[38;5;28;01mreturn\u001b[39;00m \u001b[43mpandas_sql\u001b[49m\u001b[38;5;241;43m.\u001b[39;49m\u001b[43mread_query\u001b[49m\u001b[43m(\u001b[49m\n\u001b[0;32m    527\u001b[0m \u001b[43m        \u001b[49m\u001b[43msql\u001b[49m\u001b[43m,\u001b[49m\n\u001b[0;32m    528\u001b[0m \u001b[43m        \u001b[49m\u001b[43mindex_col\u001b[49m\u001b[38;5;241;43m=\u001b[39;49m\u001b[43mindex_col\u001b[49m\u001b[43m,\u001b[49m\n\u001b[0;32m    529\u001b[0m \u001b[43m        \u001b[49m\u001b[43mparams\u001b[49m\u001b[38;5;241;43m=\u001b[39;49m\u001b[43mparams\u001b[49m\u001b[43m,\u001b[49m\n\u001b[0;32m    530\u001b[0m \u001b[43m        \u001b[49m\u001b[43mcoerce_float\u001b[49m\u001b[38;5;241;43m=\u001b[39;49m\u001b[43mcoerce_float\u001b[49m\u001b[43m,\u001b[49m\n\u001b[0;32m    531\u001b[0m \u001b[43m        \u001b[49m\u001b[43mparse_dates\u001b[49m\u001b[38;5;241;43m=\u001b[39;49m\u001b[43mparse_dates\u001b[49m\u001b[43m,\u001b[49m\n\u001b[0;32m    532\u001b[0m \u001b[43m        \u001b[49m\u001b[43mchunksize\u001b[49m\u001b[38;5;241;43m=\u001b[39;49m\u001b[43mchunksize\u001b[49m\u001b[43m,\u001b[49m\n\u001b[0;32m    533\u001b[0m \u001b[43m        \u001b[49m\u001b[43mdtype\u001b[49m\u001b[38;5;241;43m=\u001b[39;49m\u001b[43mdtype\u001b[49m\u001b[43m,\u001b[49m\n\u001b[0;32m    534\u001b[0m \u001b[43m        \u001b[49m\u001b[43mdtype_backend\u001b[49m\u001b[38;5;241;43m=\u001b[39;49m\u001b[43mdtype_backend\u001b[49m\u001b[43m,\u001b[49m\n\u001b[0;32m    535\u001b[0m \u001b[43m    \u001b[49m\u001b[43m)\u001b[49m\n",
      "File \u001b[1;32mc:\\Users\\kdai1\\OneDrive\\Work\\Masters\\W210\\ll-dm\\.conda\\Lib\\site-packages\\pandas\\io\\sql.py:2739\u001b[0m, in \u001b[0;36mSQLiteDatabase.read_query\u001b[1;34m(self, sql, index_col, coerce_float, parse_dates, params, chunksize, dtype, dtype_backend)\u001b[0m\n\u001b[0;32m   2738\u001b[0m cursor \u001b[38;5;241m=\u001b[39m \u001b[38;5;28mself\u001b[39m\u001b[38;5;241m.\u001b[39mexecute(sql, params)\n\u001b[1;32m-> 2739\u001b[0m columns \u001b[38;5;241m=\u001b[39m \u001b[43m[\u001b[49m\u001b[43mcol_desc\u001b[49m\u001b[43m[\u001b[49m\u001b[38;5;241;43m0\u001b[39;49m\u001b[43m]\u001b[49m\u001b[43m \u001b[49m\u001b[38;5;28;43;01mfor\u001b[39;49;00m\u001b[43m \u001b[49m\u001b[43mcol_desc\u001b[49m\u001b[43m \u001b[49m\u001b[38;5;129;43;01min\u001b[39;49;00m\u001b[43m \u001b[49m\u001b[43mcursor\u001b[49m\u001b[38;5;241;43m.\u001b[39;49m\u001b[43mdescription\u001b[49m\u001b[43m]\u001b[49m\n\u001b[0;32m   2741\u001b[0m \u001b[38;5;28;01mif\u001b[39;00m chunksize \u001b[38;5;129;01mis\u001b[39;00m \u001b[38;5;129;01mnot\u001b[39;00m \u001b[38;5;28;01mNone\u001b[39;00m:\n",
      "\u001b[1;31mTypeError\u001b[0m: 'NoneType' object is not iterable",
      "\nDuring handling of the above exception, another exception occurred:\n",
      "\u001b[1;31mOperationalError\u001b[0m                          Traceback (most recent call last)",
      "Cell \u001b[1;32mIn[26], line 5\u001b[0m\n\u001b[0;32m      1\u001b[0m query \u001b[38;5;241m=\u001b[39m \u001b[38;5;124m'''\u001b[39m\n\u001b[0;32m      2\u001b[0m \u001b[38;5;124mALTER TABLE PLOT\u001b[39m\n\u001b[0;32m      3\u001b[0m \u001b[38;5;124mRENAME COLUMN \u001b[39m\u001b[38;5;124m\"\u001b[39m\u001b[38;5;124mindex\u001b[39m\u001b[38;5;124m\"\u001b[39m\u001b[38;5;124m TO Plot_ID;\u001b[39m\n\u001b[0;32m      4\u001b[0m \u001b[38;5;124m'''\u001b[39m\n\u001b[1;32m----> 5\u001b[0m \u001b[43mrun_query\u001b[49m\u001b[43m(\u001b[49m\u001b[43mdb\u001b[49m\u001b[43m,\u001b[49m\u001b[43m \u001b[49m\u001b[43mquery\u001b[49m\u001b[43m)\u001b[49m\n",
      "Cell \u001b[1;32mIn[9], line 9\u001b[0m, in \u001b[0;36mrun_query\u001b[1;34m(db, query)\u001b[0m\n\u001b[0;32m      7\u001b[0m \u001b[38;5;28;01mexcept\u001b[39;00m \u001b[38;5;167;01mTypeError\u001b[39;00m:\n\u001b[0;32m      8\u001b[0m     cursor \u001b[38;5;241m=\u001b[39m db\u001b[38;5;241m.\u001b[39mcursor()\n\u001b[1;32m----> 9\u001b[0m     cursor\u001b[38;5;241m.\u001b[39mexecute(query)\n\u001b[0;32m     10\u001b[0m     \u001b[38;5;28;01mreturn\u001b[39;00m\n",
      "\u001b[1;31mOperationalError\u001b[0m: no such column: \"\"index\"\""
     ]
    }
   ],
   "source": [
    "query = '''\n",
    "ALTER TABLE PLOT\n",
    "RENAME COLUMN \"index\" TO Plot_ID;\n",
    "'''\n",
    "run_query(db, query)"
   ]
  },
  {
   "cell_type": "code",
   "execution_count": 27,
   "id": "afa7c692-a75f-4dc2-af8b-5b26d95c7a23",
   "metadata": {},
   "outputs": [
    {
     "ename": "OperationalError",
     "evalue": "duplicate column name: Campaign_ID",
     "output_type": "error",
     "traceback": [
      "\u001b[1;31m---------------------------------------------------------------------------\u001b[0m",
      "\u001b[1;31mTypeError\u001b[0m                                 Traceback (most recent call last)",
      "Cell \u001b[1;32mIn[9], line 4\u001b[0m, in \u001b[0;36mrun_query\u001b[1;34m(db, query)\u001b[0m\n\u001b[0;32m      3\u001b[0m \u001b[38;5;28;01mtry\u001b[39;00m:\n\u001b[1;32m----> 4\u001b[0m     df \u001b[38;5;241m=\u001b[39m \u001b[43mpd\u001b[49m\u001b[38;5;241;43m.\u001b[39;49m\u001b[43mread_sql_query\u001b[49m\u001b[43m(\u001b[49m\u001b[43mquery\u001b[49m\u001b[43m,\u001b[49m\u001b[43m \u001b[49m\u001b[43mdb\u001b[49m\u001b[43m)\u001b[49m\n\u001b[0;32m      5\u001b[0m     \u001b[38;5;28;01mreturn\u001b[39;00m df\n",
      "File \u001b[1;32mc:\\Users\\kdai1\\OneDrive\\Work\\Masters\\W210\\ll-dm\\.conda\\Lib\\site-packages\\pandas\\io\\sql.py:526\u001b[0m, in \u001b[0;36mread_sql_query\u001b[1;34m(sql, con, index_col, coerce_float, params, parse_dates, chunksize, dtype, dtype_backend)\u001b[0m\n\u001b[0;32m    525\u001b[0m \u001b[38;5;28;01mwith\u001b[39;00m pandasSQL_builder(con) \u001b[38;5;28;01mas\u001b[39;00m pandas_sql:\n\u001b[1;32m--> 526\u001b[0m     \u001b[38;5;28;01mreturn\u001b[39;00m \u001b[43mpandas_sql\u001b[49m\u001b[38;5;241;43m.\u001b[39;49m\u001b[43mread_query\u001b[49m\u001b[43m(\u001b[49m\n\u001b[0;32m    527\u001b[0m \u001b[43m        \u001b[49m\u001b[43msql\u001b[49m\u001b[43m,\u001b[49m\n\u001b[0;32m    528\u001b[0m \u001b[43m        \u001b[49m\u001b[43mindex_col\u001b[49m\u001b[38;5;241;43m=\u001b[39;49m\u001b[43mindex_col\u001b[49m\u001b[43m,\u001b[49m\n\u001b[0;32m    529\u001b[0m \u001b[43m        \u001b[49m\u001b[43mparams\u001b[49m\u001b[38;5;241;43m=\u001b[39;49m\u001b[43mparams\u001b[49m\u001b[43m,\u001b[49m\n\u001b[0;32m    530\u001b[0m \u001b[43m        \u001b[49m\u001b[43mcoerce_float\u001b[49m\u001b[38;5;241;43m=\u001b[39;49m\u001b[43mcoerce_float\u001b[49m\u001b[43m,\u001b[49m\n\u001b[0;32m    531\u001b[0m \u001b[43m        \u001b[49m\u001b[43mparse_dates\u001b[49m\u001b[38;5;241;43m=\u001b[39;49m\u001b[43mparse_dates\u001b[49m\u001b[43m,\u001b[49m\n\u001b[0;32m    532\u001b[0m \u001b[43m        \u001b[49m\u001b[43mchunksize\u001b[49m\u001b[38;5;241;43m=\u001b[39;49m\u001b[43mchunksize\u001b[49m\u001b[43m,\u001b[49m\n\u001b[0;32m    533\u001b[0m \u001b[43m        \u001b[49m\u001b[43mdtype\u001b[49m\u001b[38;5;241;43m=\u001b[39;49m\u001b[43mdtype\u001b[49m\u001b[43m,\u001b[49m\n\u001b[0;32m    534\u001b[0m \u001b[43m        \u001b[49m\u001b[43mdtype_backend\u001b[49m\u001b[38;5;241;43m=\u001b[39;49m\u001b[43mdtype_backend\u001b[49m\u001b[43m,\u001b[49m\n\u001b[0;32m    535\u001b[0m \u001b[43m    \u001b[49m\u001b[43m)\u001b[49m\n",
      "File \u001b[1;32mc:\\Users\\kdai1\\OneDrive\\Work\\Masters\\W210\\ll-dm\\.conda\\Lib\\site-packages\\pandas\\io\\sql.py:2739\u001b[0m, in \u001b[0;36mSQLiteDatabase.read_query\u001b[1;34m(self, sql, index_col, coerce_float, parse_dates, params, chunksize, dtype, dtype_backend)\u001b[0m\n\u001b[0;32m   2738\u001b[0m cursor \u001b[38;5;241m=\u001b[39m \u001b[38;5;28mself\u001b[39m\u001b[38;5;241m.\u001b[39mexecute(sql, params)\n\u001b[1;32m-> 2739\u001b[0m columns \u001b[38;5;241m=\u001b[39m \u001b[43m[\u001b[49m\u001b[43mcol_desc\u001b[49m\u001b[43m[\u001b[49m\u001b[38;5;241;43m0\u001b[39;49m\u001b[43m]\u001b[49m\u001b[43m \u001b[49m\u001b[38;5;28;43;01mfor\u001b[39;49;00m\u001b[43m \u001b[49m\u001b[43mcol_desc\u001b[49m\u001b[43m \u001b[49m\u001b[38;5;129;43;01min\u001b[39;49;00m\u001b[43m \u001b[49m\u001b[43mcursor\u001b[49m\u001b[38;5;241;43m.\u001b[39;49m\u001b[43mdescription\u001b[49m\u001b[43m]\u001b[49m\n\u001b[0;32m   2741\u001b[0m \u001b[38;5;28;01mif\u001b[39;00m chunksize \u001b[38;5;129;01mis\u001b[39;00m \u001b[38;5;129;01mnot\u001b[39;00m \u001b[38;5;28;01mNone\u001b[39;00m:\n",
      "\u001b[1;31mTypeError\u001b[0m: 'NoneType' object is not iterable",
      "\nDuring handling of the above exception, another exception occurred:\n",
      "\u001b[1;31mOperationalError\u001b[0m                          Traceback (most recent call last)",
      "Cell \u001b[1;32mIn[27], line 5\u001b[0m\n\u001b[0;32m      1\u001b[0m query \u001b[38;5;241m=\u001b[39m \u001b[38;5;124m'''\u001b[39m\n\u001b[0;32m      2\u001b[0m \u001b[38;5;124mALTER TABLE PLOT\u001b[39m\n\u001b[0;32m      3\u001b[0m \u001b[38;5;124mADD COLUMN Campaign_ID INTEGER;\u001b[39m\n\u001b[0;32m      4\u001b[0m \u001b[38;5;124m'''\u001b[39m\n\u001b[1;32m----> 5\u001b[0m \u001b[43mrun_query\u001b[49m\u001b[43m(\u001b[49m\u001b[43mdb\u001b[49m\u001b[43m,\u001b[49m\u001b[43m \u001b[49m\u001b[43mquery\u001b[49m\u001b[43m)\u001b[49m\n",
      "Cell \u001b[1;32mIn[9], line 9\u001b[0m, in \u001b[0;36mrun_query\u001b[1;34m(db, query)\u001b[0m\n\u001b[0;32m      7\u001b[0m \u001b[38;5;28;01mexcept\u001b[39;00m \u001b[38;5;167;01mTypeError\u001b[39;00m:\n\u001b[0;32m      8\u001b[0m     cursor \u001b[38;5;241m=\u001b[39m db\u001b[38;5;241m.\u001b[39mcursor()\n\u001b[1;32m----> 9\u001b[0m     cursor\u001b[38;5;241m.\u001b[39mexecute(query)\n\u001b[0;32m     10\u001b[0m     \u001b[38;5;28;01mreturn\u001b[39;00m\n",
      "\u001b[1;31mOperationalError\u001b[0m: duplicate column name: Campaign_ID"
     ]
    }
   ],
   "source": [
    "query = '''\n",
    "ALTER TABLE PLOT\n",
    "ADD COLUMN Campaign_ID INTEGER;\n",
    "'''\n",
    "run_query(db, query)"
   ]
  },
  {
   "cell_type": "code",
   "execution_count": 28,
   "id": "7c7ba562-8c2c-4007-bf30-e1152ddcfd25",
   "metadata": {},
   "outputs": [
    {
     "data": {
      "text/html": [
       "<div>\n",
       "<style scoped>\n",
       "    .dataframe tbody tr th:only-of-type {\n",
       "        vertical-align: middle;\n",
       "    }\n",
       "\n",
       "    .dataframe tbody tr th {\n",
       "        vertical-align: top;\n",
       "    }\n",
       "\n",
       "    .dataframe thead th {\n",
       "        text-align: right;\n",
       "    }\n",
       "</style>\n",
       "<table border=\"1\" class=\"dataframe\">\n",
       "  <thead>\n",
       "    <tr style=\"text-align: right;\">\n",
       "      <th></th>\n",
       "      <th>Plot_ID</th>\n",
       "      <th>Setting</th>\n",
       "      <th>Description</th>\n",
       "      <th>Events</th>\n",
       "      <th>Campaign_ID</th>\n",
       "    </tr>\n",
       "  </thead>\n",
       "  <tbody>\n",
       "    <tr>\n",
       "      <th>0</th>\n",
       "      <td>0</td>\n",
       "      <td>The Dragon's Flagon (Tavern)</td>\n",
       "      <td>The Dragon's Flagon is a lively tavern with a warm welcoming atmosphere. The walls are adorned with trophies from past adventurers and a large fireplace dominates one side of the room.</td>\n",
       "      <td>Elara listens to stories and rumors from the locals. An old traveler tells her about an enchanted sword hidden in the Whispering Woods said to be the key to defeating a monster terrorizing the region. Inspired, Elara gathers her gear and sets off on her quest.</td>\n",
       "      <td>None</td>\n",
       "    </tr>\n",
       "    <tr>\n",
       "      <th>1</th>\n",
       "      <td>1</td>\n",
       "      <td>Whispering Woods (Wilderness)</td>\n",
       "      <td>Whispering Woods is a foreboding forest with a canopy so thick it blocks out most of the sunlight. The air is filled with the sounds of unseen creatures and the ground is covered with a thick layer of leaves.</td>\n",
       "      <td>Elara encounters several non-combat obstacles including treacherous terrain, ancient traps, and puzzles that test her intellect and resolve. With her determination and skills, she overcomes these challenges and discovers the enchanted sword which is hidden in a small overgrown shrine deep within the woods.</td>\n",
       "      <td>None</td>\n",
       "    </tr>\n",
       "    <tr>\n",
       "      <th>2</th>\n",
       "      <td>2</td>\n",
       "      <td>Blackstone Keep (Castle)</td>\n",
       "      <td>Blackstone Keep is a crumbling fortress with tall dark towers and walls covered in ivy. Inside it is dark and cold with the air thick with the smell of decay.</td>\n",
       "      <td>Elara enters the keep navigating its eerie halls and chambers all of which are eerily quiet. She finally reaches the grand hall where she confronts the monster: a fearsome dragon named Shadowflame. Using the enchanted sword, she engages in an epic battle with the dragon. After a fierce and climactic combat, Elara successfully slays the dragon, lifting the curse over the region and bringing peace to the land.</td>\n",
       "      <td>None</td>\n",
       "    </tr>\n",
       "  </tbody>\n",
       "</table>\n",
       "</div>"
      ],
      "text/plain": [
       "   Plot_ID                        Setting  \\\n",
       "0        0   The Dragon's Flagon (Tavern)   \n",
       "1        1  Whispering Woods (Wilderness)   \n",
       "2        2       Blackstone Keep (Castle)   \n",
       "\n",
       "                                                                                                                                                                                                        Description  \\\n",
       "0                          The Dragon's Flagon is a lively tavern with a warm welcoming atmosphere. The walls are adorned with trophies from past adventurers and a large fireplace dominates one side of the room.   \n",
       "1  Whispering Woods is a foreboding forest with a canopy so thick it blocks out most of the sunlight. The air is filled with the sounds of unseen creatures and the ground is covered with a thick layer of leaves.   \n",
       "2                                                    Blackstone Keep is a crumbling fortress with tall dark towers and walls covered in ivy. Inside it is dark and cold with the air thick with the smell of decay.   \n",
       "\n",
       "                                                                                                                                                                                                                                                                                                                                                                                                                        Events  \\\n",
       "0                                                                                                                                                         Elara listens to stories and rumors from the locals. An old traveler tells her about an enchanted sword hidden in the Whispering Woods said to be the key to defeating a monster terrorizing the region. Inspired, Elara gathers her gear and sets off on her quest.   \n",
       "1                                                                                                          Elara encounters several non-combat obstacles including treacherous terrain, ancient traps, and puzzles that test her intellect and resolve. With her determination and skills, she overcomes these challenges and discovers the enchanted sword which is hidden in a small overgrown shrine deep within the woods.   \n",
       "2  Elara enters the keep navigating its eerie halls and chambers all of which are eerily quiet. She finally reaches the grand hall where she confronts the monster: a fearsome dragon named Shadowflame. Using the enchanted sword, she engages in an epic battle with the dragon. After a fierce and climactic combat, Elara successfully slays the dragon, lifting the curse over the region and bringing peace to the land.   \n",
       "\n",
       "  Campaign_ID  \n",
       "0        None  \n",
       "1        None  \n",
       "2        None  "
      ]
     },
     "execution_count": 28,
     "metadata": {},
     "output_type": "execute_result"
    }
   ],
   "source": [
    "query = '''\n",
    "SELECT * FROM PLOT\n",
    "'''\n",
    "run_query(db, query)"
   ]
  },
  {
   "cell_type": "markdown",
   "id": "a3867c3e-f46a-47f7-8792-35390fcabe4e",
   "metadata": {},
   "source": [
    "### Logs\n",
    "Main campaign summary table to track story events or character events.\n",
    "Character ID will indicate that it is an event that happened, if column value is null then it is overall campaign story event"
   ]
  },
  {
   "cell_type": "code",
   "execution_count": 29,
   "id": "8aa0b630-7dfa-4ccb-9d0a-fbb1483c27ff",
   "metadata": {},
   "outputs": [
    {
     "ename": "OperationalError",
     "evalue": "no such column: \"\"index\"\"",
     "output_type": "error",
     "traceback": [
      "\u001b[1;31m---------------------------------------------------------------------------\u001b[0m",
      "\u001b[1;31mTypeError\u001b[0m                                 Traceback (most recent call last)",
      "Cell \u001b[1;32mIn[9], line 4\u001b[0m, in \u001b[0;36mrun_query\u001b[1;34m(db, query)\u001b[0m\n\u001b[0;32m      3\u001b[0m \u001b[38;5;28;01mtry\u001b[39;00m:\n\u001b[1;32m----> 4\u001b[0m     df \u001b[38;5;241m=\u001b[39m \u001b[43mpd\u001b[49m\u001b[38;5;241;43m.\u001b[39;49m\u001b[43mread_sql_query\u001b[49m\u001b[43m(\u001b[49m\u001b[43mquery\u001b[49m\u001b[43m,\u001b[49m\u001b[43m \u001b[49m\u001b[43mdb\u001b[49m\u001b[43m)\u001b[49m\n\u001b[0;32m      5\u001b[0m     \u001b[38;5;28;01mreturn\u001b[39;00m df\n",
      "File \u001b[1;32mc:\\Users\\kdai1\\OneDrive\\Work\\Masters\\W210\\ll-dm\\.conda\\Lib\\site-packages\\pandas\\io\\sql.py:526\u001b[0m, in \u001b[0;36mread_sql_query\u001b[1;34m(sql, con, index_col, coerce_float, params, parse_dates, chunksize, dtype, dtype_backend)\u001b[0m\n\u001b[0;32m    525\u001b[0m \u001b[38;5;28;01mwith\u001b[39;00m pandasSQL_builder(con) \u001b[38;5;28;01mas\u001b[39;00m pandas_sql:\n\u001b[1;32m--> 526\u001b[0m     \u001b[38;5;28;01mreturn\u001b[39;00m \u001b[43mpandas_sql\u001b[49m\u001b[38;5;241;43m.\u001b[39;49m\u001b[43mread_query\u001b[49m\u001b[43m(\u001b[49m\n\u001b[0;32m    527\u001b[0m \u001b[43m        \u001b[49m\u001b[43msql\u001b[49m\u001b[43m,\u001b[49m\n\u001b[0;32m    528\u001b[0m \u001b[43m        \u001b[49m\u001b[43mindex_col\u001b[49m\u001b[38;5;241;43m=\u001b[39;49m\u001b[43mindex_col\u001b[49m\u001b[43m,\u001b[49m\n\u001b[0;32m    529\u001b[0m \u001b[43m        \u001b[49m\u001b[43mparams\u001b[49m\u001b[38;5;241;43m=\u001b[39;49m\u001b[43mparams\u001b[49m\u001b[43m,\u001b[49m\n\u001b[0;32m    530\u001b[0m \u001b[43m        \u001b[49m\u001b[43mcoerce_float\u001b[49m\u001b[38;5;241;43m=\u001b[39;49m\u001b[43mcoerce_float\u001b[49m\u001b[43m,\u001b[49m\n\u001b[0;32m    531\u001b[0m \u001b[43m        \u001b[49m\u001b[43mparse_dates\u001b[49m\u001b[38;5;241;43m=\u001b[39;49m\u001b[43mparse_dates\u001b[49m\u001b[43m,\u001b[49m\n\u001b[0;32m    532\u001b[0m \u001b[43m        \u001b[49m\u001b[43mchunksize\u001b[49m\u001b[38;5;241;43m=\u001b[39;49m\u001b[43mchunksize\u001b[49m\u001b[43m,\u001b[49m\n\u001b[0;32m    533\u001b[0m \u001b[43m        \u001b[49m\u001b[43mdtype\u001b[49m\u001b[38;5;241;43m=\u001b[39;49m\u001b[43mdtype\u001b[49m\u001b[43m,\u001b[49m\n\u001b[0;32m    534\u001b[0m \u001b[43m        \u001b[49m\u001b[43mdtype_backend\u001b[49m\u001b[38;5;241;43m=\u001b[39;49m\u001b[43mdtype_backend\u001b[49m\u001b[43m,\u001b[49m\n\u001b[0;32m    535\u001b[0m \u001b[43m    \u001b[49m\u001b[43m)\u001b[49m\n",
      "File \u001b[1;32mc:\\Users\\kdai1\\OneDrive\\Work\\Masters\\W210\\ll-dm\\.conda\\Lib\\site-packages\\pandas\\io\\sql.py:2739\u001b[0m, in \u001b[0;36mSQLiteDatabase.read_query\u001b[1;34m(self, sql, index_col, coerce_float, parse_dates, params, chunksize, dtype, dtype_backend)\u001b[0m\n\u001b[0;32m   2738\u001b[0m cursor \u001b[38;5;241m=\u001b[39m \u001b[38;5;28mself\u001b[39m\u001b[38;5;241m.\u001b[39mexecute(sql, params)\n\u001b[1;32m-> 2739\u001b[0m columns \u001b[38;5;241m=\u001b[39m \u001b[43m[\u001b[49m\u001b[43mcol_desc\u001b[49m\u001b[43m[\u001b[49m\u001b[38;5;241;43m0\u001b[39;49m\u001b[43m]\u001b[49m\u001b[43m \u001b[49m\u001b[38;5;28;43;01mfor\u001b[39;49;00m\u001b[43m \u001b[49m\u001b[43mcol_desc\u001b[49m\u001b[43m \u001b[49m\u001b[38;5;129;43;01min\u001b[39;49;00m\u001b[43m \u001b[49m\u001b[43mcursor\u001b[49m\u001b[38;5;241;43m.\u001b[39;49m\u001b[43mdescription\u001b[49m\u001b[43m]\u001b[49m\n\u001b[0;32m   2741\u001b[0m \u001b[38;5;28;01mif\u001b[39;00m chunksize \u001b[38;5;129;01mis\u001b[39;00m \u001b[38;5;129;01mnot\u001b[39;00m \u001b[38;5;28;01mNone\u001b[39;00m:\n",
      "\u001b[1;31mTypeError\u001b[0m: 'NoneType' object is not iterable",
      "\nDuring handling of the above exception, another exception occurred:\n",
      "\u001b[1;31mOperationalError\u001b[0m                          Traceback (most recent call last)",
      "Cell \u001b[1;32mIn[29], line 5\u001b[0m\n\u001b[0;32m      1\u001b[0m query \u001b[38;5;241m=\u001b[39m \u001b[38;5;124m'''\u001b[39m\n\u001b[0;32m      2\u001b[0m \u001b[38;5;124mALTER TABLE LOGS\u001b[39m\n\u001b[0;32m      3\u001b[0m \u001b[38;5;124mRENAME COLUMN \u001b[39m\u001b[38;5;124m\"\u001b[39m\u001b[38;5;124mindex\u001b[39m\u001b[38;5;124m\"\u001b[39m\u001b[38;5;124m TO Log_ID;\u001b[39m\n\u001b[0;32m      4\u001b[0m \u001b[38;5;124m'''\u001b[39m\n\u001b[1;32m----> 5\u001b[0m \u001b[43mrun_query\u001b[49m\u001b[43m(\u001b[49m\u001b[43mdb\u001b[49m\u001b[43m,\u001b[49m\u001b[43m \u001b[49m\u001b[43mquery\u001b[49m\u001b[43m)\u001b[49m\n",
      "Cell \u001b[1;32mIn[9], line 9\u001b[0m, in \u001b[0;36mrun_query\u001b[1;34m(db, query)\u001b[0m\n\u001b[0;32m      7\u001b[0m \u001b[38;5;28;01mexcept\u001b[39;00m \u001b[38;5;167;01mTypeError\u001b[39;00m:\n\u001b[0;32m      8\u001b[0m     cursor \u001b[38;5;241m=\u001b[39m db\u001b[38;5;241m.\u001b[39mcursor()\n\u001b[1;32m----> 9\u001b[0m     cursor\u001b[38;5;241m.\u001b[39mexecute(query)\n\u001b[0;32m     10\u001b[0m     \u001b[38;5;28;01mreturn\u001b[39;00m\n",
      "\u001b[1;31mOperationalError\u001b[0m: no such column: \"\"index\"\""
     ]
    }
   ],
   "source": [
    "query = '''\n",
    "ALTER TABLE LOGS\n",
    "RENAME COLUMN \"index\" TO Log_ID;\n",
    "'''\n",
    "run_query(db, query)"
   ]
  },
  {
   "cell_type": "code",
   "execution_count": 30,
   "id": "3f16892b-a417-4a70-a7c9-c3aa98665ca4",
   "metadata": {},
   "outputs": [
    {
     "ename": "OperationalError",
     "evalue": "duplicate column name: Campaign_ID",
     "output_type": "error",
     "traceback": [
      "\u001b[1;31m---------------------------------------------------------------------------\u001b[0m",
      "\u001b[1;31mTypeError\u001b[0m                                 Traceback (most recent call last)",
      "Cell \u001b[1;32mIn[9], line 4\u001b[0m, in \u001b[0;36mrun_query\u001b[1;34m(db, query)\u001b[0m\n\u001b[0;32m      3\u001b[0m \u001b[38;5;28;01mtry\u001b[39;00m:\n\u001b[1;32m----> 4\u001b[0m     df \u001b[38;5;241m=\u001b[39m \u001b[43mpd\u001b[49m\u001b[38;5;241;43m.\u001b[39;49m\u001b[43mread_sql_query\u001b[49m\u001b[43m(\u001b[49m\u001b[43mquery\u001b[49m\u001b[43m,\u001b[49m\u001b[43m \u001b[49m\u001b[43mdb\u001b[49m\u001b[43m)\u001b[49m\n\u001b[0;32m      5\u001b[0m     \u001b[38;5;28;01mreturn\u001b[39;00m df\n",
      "File \u001b[1;32mc:\\Users\\kdai1\\OneDrive\\Work\\Masters\\W210\\ll-dm\\.conda\\Lib\\site-packages\\pandas\\io\\sql.py:526\u001b[0m, in \u001b[0;36mread_sql_query\u001b[1;34m(sql, con, index_col, coerce_float, params, parse_dates, chunksize, dtype, dtype_backend)\u001b[0m\n\u001b[0;32m    525\u001b[0m \u001b[38;5;28;01mwith\u001b[39;00m pandasSQL_builder(con) \u001b[38;5;28;01mas\u001b[39;00m pandas_sql:\n\u001b[1;32m--> 526\u001b[0m     \u001b[38;5;28;01mreturn\u001b[39;00m \u001b[43mpandas_sql\u001b[49m\u001b[38;5;241;43m.\u001b[39;49m\u001b[43mread_query\u001b[49m\u001b[43m(\u001b[49m\n\u001b[0;32m    527\u001b[0m \u001b[43m        \u001b[49m\u001b[43msql\u001b[49m\u001b[43m,\u001b[49m\n\u001b[0;32m    528\u001b[0m \u001b[43m        \u001b[49m\u001b[43mindex_col\u001b[49m\u001b[38;5;241;43m=\u001b[39;49m\u001b[43mindex_col\u001b[49m\u001b[43m,\u001b[49m\n\u001b[0;32m    529\u001b[0m \u001b[43m        \u001b[49m\u001b[43mparams\u001b[49m\u001b[38;5;241;43m=\u001b[39;49m\u001b[43mparams\u001b[49m\u001b[43m,\u001b[49m\n\u001b[0;32m    530\u001b[0m \u001b[43m        \u001b[49m\u001b[43mcoerce_float\u001b[49m\u001b[38;5;241;43m=\u001b[39;49m\u001b[43mcoerce_float\u001b[49m\u001b[43m,\u001b[49m\n\u001b[0;32m    531\u001b[0m \u001b[43m        \u001b[49m\u001b[43mparse_dates\u001b[49m\u001b[38;5;241;43m=\u001b[39;49m\u001b[43mparse_dates\u001b[49m\u001b[43m,\u001b[49m\n\u001b[0;32m    532\u001b[0m \u001b[43m        \u001b[49m\u001b[43mchunksize\u001b[49m\u001b[38;5;241;43m=\u001b[39;49m\u001b[43mchunksize\u001b[49m\u001b[43m,\u001b[49m\n\u001b[0;32m    533\u001b[0m \u001b[43m        \u001b[49m\u001b[43mdtype\u001b[49m\u001b[38;5;241;43m=\u001b[39;49m\u001b[43mdtype\u001b[49m\u001b[43m,\u001b[49m\n\u001b[0;32m    534\u001b[0m \u001b[43m        \u001b[49m\u001b[43mdtype_backend\u001b[49m\u001b[38;5;241;43m=\u001b[39;49m\u001b[43mdtype_backend\u001b[49m\u001b[43m,\u001b[49m\n\u001b[0;32m    535\u001b[0m \u001b[43m    \u001b[49m\u001b[43m)\u001b[49m\n",
      "File \u001b[1;32mc:\\Users\\kdai1\\OneDrive\\Work\\Masters\\W210\\ll-dm\\.conda\\Lib\\site-packages\\pandas\\io\\sql.py:2739\u001b[0m, in \u001b[0;36mSQLiteDatabase.read_query\u001b[1;34m(self, sql, index_col, coerce_float, parse_dates, params, chunksize, dtype, dtype_backend)\u001b[0m\n\u001b[0;32m   2738\u001b[0m cursor \u001b[38;5;241m=\u001b[39m \u001b[38;5;28mself\u001b[39m\u001b[38;5;241m.\u001b[39mexecute(sql, params)\n\u001b[1;32m-> 2739\u001b[0m columns \u001b[38;5;241m=\u001b[39m \u001b[43m[\u001b[49m\u001b[43mcol_desc\u001b[49m\u001b[43m[\u001b[49m\u001b[38;5;241;43m0\u001b[39;49m\u001b[43m]\u001b[49m\u001b[43m \u001b[49m\u001b[38;5;28;43;01mfor\u001b[39;49;00m\u001b[43m \u001b[49m\u001b[43mcol_desc\u001b[49m\u001b[43m \u001b[49m\u001b[38;5;129;43;01min\u001b[39;49;00m\u001b[43m \u001b[49m\u001b[43mcursor\u001b[49m\u001b[38;5;241;43m.\u001b[39;49m\u001b[43mdescription\u001b[49m\u001b[43m]\u001b[49m\n\u001b[0;32m   2741\u001b[0m \u001b[38;5;28;01mif\u001b[39;00m chunksize \u001b[38;5;129;01mis\u001b[39;00m \u001b[38;5;129;01mnot\u001b[39;00m \u001b[38;5;28;01mNone\u001b[39;00m:\n",
      "\u001b[1;31mTypeError\u001b[0m: 'NoneType' object is not iterable",
      "\nDuring handling of the above exception, another exception occurred:\n",
      "\u001b[1;31mOperationalError\u001b[0m                          Traceback (most recent call last)",
      "Cell \u001b[1;32mIn[30], line 5\u001b[0m\n\u001b[0;32m      1\u001b[0m query \u001b[38;5;241m=\u001b[39m \u001b[38;5;124m'''\u001b[39m\n\u001b[0;32m      2\u001b[0m \u001b[38;5;124mALTER TABLE LOGS\u001b[39m\n\u001b[0;32m      3\u001b[0m \u001b[38;5;124mADD COLUMN Campaign_ID INTEGER;\u001b[39m\n\u001b[0;32m      4\u001b[0m \u001b[38;5;124m'''\u001b[39m\n\u001b[1;32m----> 5\u001b[0m \u001b[43mrun_query\u001b[49m\u001b[43m(\u001b[49m\u001b[43mdb\u001b[49m\u001b[43m,\u001b[49m\u001b[43m \u001b[49m\u001b[43mquery\u001b[49m\u001b[43m)\u001b[49m\n",
      "Cell \u001b[1;32mIn[9], line 9\u001b[0m, in \u001b[0;36mrun_query\u001b[1;34m(db, query)\u001b[0m\n\u001b[0;32m      7\u001b[0m \u001b[38;5;28;01mexcept\u001b[39;00m \u001b[38;5;167;01mTypeError\u001b[39;00m:\n\u001b[0;32m      8\u001b[0m     cursor \u001b[38;5;241m=\u001b[39m db\u001b[38;5;241m.\u001b[39mcursor()\n\u001b[1;32m----> 9\u001b[0m     cursor\u001b[38;5;241m.\u001b[39mexecute(query)\n\u001b[0;32m     10\u001b[0m     \u001b[38;5;28;01mreturn\u001b[39;00m\n",
      "\u001b[1;31mOperationalError\u001b[0m: duplicate column name: Campaign_ID"
     ]
    }
   ],
   "source": [
    "query = '''\n",
    "ALTER TABLE LOGS\n",
    "ADD COLUMN Campaign_ID INTEGER;\n",
    "'''\n",
    "run_query(db, query)"
   ]
  },
  {
   "cell_type": "code",
   "execution_count": 31,
   "id": "6cc19d49-c672-4d3c-91d9-2a2c452f10a4",
   "metadata": {},
   "outputs": [
    {
     "ename": "OperationalError",
     "evalue": "duplicate column name: Character_ID",
     "output_type": "error",
     "traceback": [
      "\u001b[1;31m---------------------------------------------------------------------------\u001b[0m",
      "\u001b[1;31mTypeError\u001b[0m                                 Traceback (most recent call last)",
      "Cell \u001b[1;32mIn[9], line 4\u001b[0m, in \u001b[0;36mrun_query\u001b[1;34m(db, query)\u001b[0m\n\u001b[0;32m      3\u001b[0m \u001b[38;5;28;01mtry\u001b[39;00m:\n\u001b[1;32m----> 4\u001b[0m     df \u001b[38;5;241m=\u001b[39m \u001b[43mpd\u001b[49m\u001b[38;5;241;43m.\u001b[39;49m\u001b[43mread_sql_query\u001b[49m\u001b[43m(\u001b[49m\u001b[43mquery\u001b[49m\u001b[43m,\u001b[49m\u001b[43m \u001b[49m\u001b[43mdb\u001b[49m\u001b[43m)\u001b[49m\n\u001b[0;32m      5\u001b[0m     \u001b[38;5;28;01mreturn\u001b[39;00m df\n",
      "File \u001b[1;32mc:\\Users\\kdai1\\OneDrive\\Work\\Masters\\W210\\ll-dm\\.conda\\Lib\\site-packages\\pandas\\io\\sql.py:526\u001b[0m, in \u001b[0;36mread_sql_query\u001b[1;34m(sql, con, index_col, coerce_float, params, parse_dates, chunksize, dtype, dtype_backend)\u001b[0m\n\u001b[0;32m    525\u001b[0m \u001b[38;5;28;01mwith\u001b[39;00m pandasSQL_builder(con) \u001b[38;5;28;01mas\u001b[39;00m pandas_sql:\n\u001b[1;32m--> 526\u001b[0m     \u001b[38;5;28;01mreturn\u001b[39;00m \u001b[43mpandas_sql\u001b[49m\u001b[38;5;241;43m.\u001b[39;49m\u001b[43mread_query\u001b[49m\u001b[43m(\u001b[49m\n\u001b[0;32m    527\u001b[0m \u001b[43m        \u001b[49m\u001b[43msql\u001b[49m\u001b[43m,\u001b[49m\n\u001b[0;32m    528\u001b[0m \u001b[43m        \u001b[49m\u001b[43mindex_col\u001b[49m\u001b[38;5;241;43m=\u001b[39;49m\u001b[43mindex_col\u001b[49m\u001b[43m,\u001b[49m\n\u001b[0;32m    529\u001b[0m \u001b[43m        \u001b[49m\u001b[43mparams\u001b[49m\u001b[38;5;241;43m=\u001b[39;49m\u001b[43mparams\u001b[49m\u001b[43m,\u001b[49m\n\u001b[0;32m    530\u001b[0m \u001b[43m        \u001b[49m\u001b[43mcoerce_float\u001b[49m\u001b[38;5;241;43m=\u001b[39;49m\u001b[43mcoerce_float\u001b[49m\u001b[43m,\u001b[49m\n\u001b[0;32m    531\u001b[0m \u001b[43m        \u001b[49m\u001b[43mparse_dates\u001b[49m\u001b[38;5;241;43m=\u001b[39;49m\u001b[43mparse_dates\u001b[49m\u001b[43m,\u001b[49m\n\u001b[0;32m    532\u001b[0m \u001b[43m        \u001b[49m\u001b[43mchunksize\u001b[49m\u001b[38;5;241;43m=\u001b[39;49m\u001b[43mchunksize\u001b[49m\u001b[43m,\u001b[49m\n\u001b[0;32m    533\u001b[0m \u001b[43m        \u001b[49m\u001b[43mdtype\u001b[49m\u001b[38;5;241;43m=\u001b[39;49m\u001b[43mdtype\u001b[49m\u001b[43m,\u001b[49m\n\u001b[0;32m    534\u001b[0m \u001b[43m        \u001b[49m\u001b[43mdtype_backend\u001b[49m\u001b[38;5;241;43m=\u001b[39;49m\u001b[43mdtype_backend\u001b[49m\u001b[43m,\u001b[49m\n\u001b[0;32m    535\u001b[0m \u001b[43m    \u001b[49m\u001b[43m)\u001b[49m\n",
      "File \u001b[1;32mc:\\Users\\kdai1\\OneDrive\\Work\\Masters\\W210\\ll-dm\\.conda\\Lib\\site-packages\\pandas\\io\\sql.py:2739\u001b[0m, in \u001b[0;36mSQLiteDatabase.read_query\u001b[1;34m(self, sql, index_col, coerce_float, parse_dates, params, chunksize, dtype, dtype_backend)\u001b[0m\n\u001b[0;32m   2738\u001b[0m cursor \u001b[38;5;241m=\u001b[39m \u001b[38;5;28mself\u001b[39m\u001b[38;5;241m.\u001b[39mexecute(sql, params)\n\u001b[1;32m-> 2739\u001b[0m columns \u001b[38;5;241m=\u001b[39m \u001b[43m[\u001b[49m\u001b[43mcol_desc\u001b[49m\u001b[43m[\u001b[49m\u001b[38;5;241;43m0\u001b[39;49m\u001b[43m]\u001b[49m\u001b[43m \u001b[49m\u001b[38;5;28;43;01mfor\u001b[39;49;00m\u001b[43m \u001b[49m\u001b[43mcol_desc\u001b[49m\u001b[43m \u001b[49m\u001b[38;5;129;43;01min\u001b[39;49;00m\u001b[43m \u001b[49m\u001b[43mcursor\u001b[49m\u001b[38;5;241;43m.\u001b[39;49m\u001b[43mdescription\u001b[49m\u001b[43m]\u001b[49m\n\u001b[0;32m   2741\u001b[0m \u001b[38;5;28;01mif\u001b[39;00m chunksize \u001b[38;5;129;01mis\u001b[39;00m \u001b[38;5;129;01mnot\u001b[39;00m \u001b[38;5;28;01mNone\u001b[39;00m:\n",
      "\u001b[1;31mTypeError\u001b[0m: 'NoneType' object is not iterable",
      "\nDuring handling of the above exception, another exception occurred:\n",
      "\u001b[1;31mOperationalError\u001b[0m                          Traceback (most recent call last)",
      "Cell \u001b[1;32mIn[31], line 5\u001b[0m\n\u001b[0;32m      1\u001b[0m query \u001b[38;5;241m=\u001b[39m \u001b[38;5;124m'''\u001b[39m\n\u001b[0;32m      2\u001b[0m \u001b[38;5;124mALTER TABLE LOGS\u001b[39m\n\u001b[0;32m      3\u001b[0m \u001b[38;5;124mADD COLUMN Character_ID INTEGER;\u001b[39m\n\u001b[0;32m      4\u001b[0m \u001b[38;5;124m'''\u001b[39m\n\u001b[1;32m----> 5\u001b[0m \u001b[43mrun_query\u001b[49m\u001b[43m(\u001b[49m\u001b[43mdb\u001b[49m\u001b[43m,\u001b[49m\u001b[43m \u001b[49m\u001b[43mquery\u001b[49m\u001b[43m)\u001b[49m\n",
      "Cell \u001b[1;32mIn[9], line 9\u001b[0m, in \u001b[0;36mrun_query\u001b[1;34m(db, query)\u001b[0m\n\u001b[0;32m      7\u001b[0m \u001b[38;5;28;01mexcept\u001b[39;00m \u001b[38;5;167;01mTypeError\u001b[39;00m:\n\u001b[0;32m      8\u001b[0m     cursor \u001b[38;5;241m=\u001b[39m db\u001b[38;5;241m.\u001b[39mcursor()\n\u001b[1;32m----> 9\u001b[0m     cursor\u001b[38;5;241m.\u001b[39mexecute(query)\n\u001b[0;32m     10\u001b[0m     \u001b[38;5;28;01mreturn\u001b[39;00m\n",
      "\u001b[1;31mOperationalError\u001b[0m: duplicate column name: Character_ID"
     ]
    }
   ],
   "source": [
    "query = '''\n",
    "ALTER TABLE LOGS\n",
    "ADD COLUMN Character_ID INTEGER;\n",
    "'''\n",
    "run_query(db, query)"
   ]
  },
  {
   "cell_type": "code",
   "execution_count": 32,
   "id": "c0c56b0c-3700-49c1-ac3d-49c9fc57db81",
   "metadata": {},
   "outputs": [
    {
     "data": {
      "text/html": [
       "<div>\n",
       "<style scoped>\n",
       "    .dataframe tbody tr th:only-of-type {\n",
       "        vertical-align: middle;\n",
       "    }\n",
       "\n",
       "    .dataframe tbody tr th {\n",
       "        vertical-align: top;\n",
       "    }\n",
       "\n",
       "    .dataframe thead th {\n",
       "        text-align: right;\n",
       "    }\n",
       "</style>\n",
       "<table border=\"1\" class=\"dataframe\">\n",
       "  <thead>\n",
       "    <tr style=\"text-align: right;\">\n",
       "      <th></th>\n",
       "      <th>Log_ID</th>\n",
       "      <th>Time</th>\n",
       "      <th>Event</th>\n",
       "      <th>X_Coordinate</th>\n",
       "      <th>Y_Coordinate</th>\n",
       "      <th>Campaign_ID</th>\n",
       "      <th>Character_ID</th>\n",
       "    </tr>\n",
       "  </thead>\n",
       "  <tbody>\n",
       "  </tbody>\n",
       "</table>\n",
       "</div>"
      ],
      "text/plain": [
       "Empty DataFrame\n",
       "Columns: [Log_ID, Time, Event, X_Coordinate, Y_Coordinate, Campaign_ID, Character_ID]\n",
       "Index: []"
      ]
     },
     "execution_count": 32,
     "metadata": {},
     "output_type": "execute_result"
    }
   ],
   "source": [
    "query = '''\n",
    "SELECT * FROM LOGS\n",
    "'''\n",
    "run_query(db, query)"
   ]
  },
  {
   "cell_type": "markdown",
   "id": "1b20b41c-777c-41a9-acab-10fbc8163fed",
   "metadata": {},
   "source": [
    "## Add Tracking Tables\n",
    "- player current inventory"
   ]
  },
  {
   "cell_type": "code",
   "execution_count": 33,
   "id": "eaab1b61-a0a9-45ea-ba9e-96ee5350735b",
   "metadata": {},
   "outputs": [],
   "source": [
    "# player inventory tracker\n",
    "query = '''CREATE TABLE IF NOT EXISTS CHARACTER_INVENTORY (\n",
    "    Campaign_ID INTEGER NOT NULL,\n",
    "\tCharacter_ID INTEGER NOT NULL,\n",
    "   \tItem_ID INTEGER NOT NULL,\n",
    "\tQuantity FLOAT DEFAULT 0\n",
    ");\n",
    "'''\n",
    "\n",
    "run_query(db, query)"
   ]
  },
  {
   "cell_type": "code",
   "execution_count": 34,
   "id": "ab7f7492-8135-440a-a39b-36213db5ec06",
   "metadata": {},
   "outputs": [
    {
     "data": {
      "text/html": [
       "<div>\n",
       "<style scoped>\n",
       "    .dataframe tbody tr th:only-of-type {\n",
       "        vertical-align: middle;\n",
       "    }\n",
       "\n",
       "    .dataframe tbody tr th {\n",
       "        vertical-align: top;\n",
       "    }\n",
       "\n",
       "    .dataframe thead th {\n",
       "        text-align: right;\n",
       "    }\n",
       "</style>\n",
       "<table border=\"1\" class=\"dataframe\">\n",
       "  <thead>\n",
       "    <tr style=\"text-align: right;\">\n",
       "      <th></th>\n",
       "      <th>Campaign_ID</th>\n",
       "      <th>Character_ID</th>\n",
       "      <th>Item_ID</th>\n",
       "      <th>Quantity</th>\n",
       "    </tr>\n",
       "  </thead>\n",
       "  <tbody>\n",
       "  </tbody>\n",
       "</table>\n",
       "</div>"
      ],
      "text/plain": [
       "Empty DataFrame\n",
       "Columns: [Campaign_ID, Character_ID, Item_ID, Quantity]\n",
       "Index: []"
      ]
     },
     "execution_count": 34,
     "metadata": {},
     "output_type": "execute_result"
    }
   ],
   "source": [
    "query = '''\n",
    "SELECT * FROM CHARACTER_INVENTORY\n",
    "'''\n",
    "run_query(db, query)"
   ]
  },
  {
   "cell_type": "code",
   "execution_count": null,
   "id": "a3c665a0-9caa-4d4c-9575-162b420e23c4",
   "metadata": {},
   "outputs": [],
   "source": []
  }
 ],
 "metadata": {
  "kernelspec": {
   "display_name": "Python 3 (ipykernel)",
   "language": "python",
   "name": "python3"
  },
  "language_info": {
   "codemirror_mode": {
    "name": "ipython",
    "version": 3
   },
   "file_extension": ".py",
   "mimetype": "text/x-python",
   "name": "python",
   "nbconvert_exporter": "python",
   "pygments_lexer": "ipython3",
   "version": "3.11.9"
  }
 },
 "nbformat": 4,
 "nbformat_minor": 5
}
