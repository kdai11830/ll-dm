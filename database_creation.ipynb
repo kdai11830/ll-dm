{
 "cells": [
  {
   "cell_type": "markdown",
   "id": "6a44c40c-74ff-4004-bc9c-bac684ed172c",
   "metadata": {},
   "source": [
    "# Script for Creating SQL Database"
   ]
  },
  {
   "cell_type": "code",
   "execution_count": 2,
   "id": "5613bed6-79e2-47cb-803f-fbdc2e31baa2",
   "metadata": {},
   "outputs": [],
   "source": [
    "import sqlite3"
   ]
  },
  {
   "cell_type": "code",
   "execution_count": null,
   "id": "677a5f84-d5af-487d-9b49-0656b193f042",
   "metadata": {},
   "outputs": [],
   "source": [
    "db_name = "
   ]
  }
 ],
 "metadata": {
  "kernelspec": {
   "display_name": "Python 3 (ipykernel)",
   "language": "python",
   "name": "python3"
  },
  "language_info": {
   "codemirror_mode": {
    "name": "ipython",
    "version": 3
   },
   "file_extension": ".py",
   "mimetype": "text/x-python",
   "name": "python",
   "nbconvert_exporter": "python",
   "pygments_lexer": "ipython3",
   "version": "3.10.12"
  }
 },
 "nbformat": 4,
 "nbformat_minor": 5
}
