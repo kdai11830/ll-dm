{
 "cells": [
  {
   "cell_type": "code",
   "execution_count": 3,
   "metadata": {},
   "outputs": [],
   "source": [
    "import yaml\n",
    "import json\n",
    "from openai import OpenAI\n",
    "import sqlite3\n",
    "import pandas as pd"
   ]
  },
  {
   "cell_type": "code",
   "execution_count": 4,
   "metadata": {},
   "outputs": [],
   "source": [
    "with open('api_keys.yaml', 'r') as f:\n",
    "    api_keys = yaml.safe_load(f)\n",
    "\n",
    "OPENAI_API_KEY = api_keys['openai-key']\n",
    "client = OpenAI(api_key=OPENAI_API_KEY)"
   ]
  },
  {
   "cell_type": "markdown",
   "metadata": {},
   "source": [
    "## Define tools and functions\n",
    "Need functions to determine what tables to call. Predefined table structure"
   ]
  },
  {
   "cell_type": "code",
   "execution_count": 5,
   "metadata": {},
   "outputs": [
    {
     "name": "stdout",
     "output_type": "stream",
     "text": [
      "Connected to DB\n"
     ]
    }
   ],
   "source": [
    "db_name = \"lldm.db\"\n",
    "try: \n",
    "    db = sqlite3.connect(db_name) \n",
    "    print('Connected to DB')\n",
    "except: \n",
    "    print(\"DB connection failed\")"
   ]
  },
  {
   "cell_type": "code",
   "execution_count": 6,
   "metadata": {},
   "outputs": [],
   "source": [
    "# run query and return pandas dataframe\n",
    "def run_query(db, query):\n",
    "    try:\n",
    "        df = pd.read_sql_query(query, db)\n",
    "        return df\n",
    "    # not a select statement\n",
    "    except TypeError:\n",
    "        cursor = db.cursor()\n",
    "        cursor.execute(query)\n",
    "        return    "
   ]
  },
  {
   "cell_type": "code",
   "execution_count": 7,
   "metadata": {},
   "outputs": [
    {
     "name": "stdout",
     "output_type": "stream",
     "text": [
      "[('CHARACTER_SHEET',), ('INVENTORY',), ('SETTINGS',), ('NPCS',), ('TREASURES',), ('MONSTERS',), ('PLOT',), ('LOGS',), ('CAMPAIGN',), ('CHARACTER_INVENTORY',)]\n"
     ]
    }
   ],
   "source": [
    "sql_query = \"\"\"\n",
    "SELECT name FROM sqlite_master  \n",
    "WHERE type='table';\n",
    "\"\"\"\n",
    "cursor = db.cursor()\n",
    "cursor.execute(sql_query)\n",
    "print(cursor.fetchall())"
   ]
  },
  {
   "cell_type": "code",
   "execution_count": 8,
   "metadata": {},
   "outputs": [
    {
     "data": {
      "text/html": [
       "<div>\n",
       "<style scoped>\n",
       "    .dataframe tbody tr th:only-of-type {\n",
       "        vertical-align: middle;\n",
       "    }\n",
       "\n",
       "    .dataframe tbody tr th {\n",
       "        vertical-align: top;\n",
       "    }\n",
       "\n",
       "    .dataframe thead th {\n",
       "        text-align: right;\n",
       "    }\n",
       "</style>\n",
       "<table border=\"1\" class=\"dataframe\">\n",
       "  <thead>\n",
       "    <tr style=\"text-align: right;\">\n",
       "      <th></th>\n",
       "      <th>Item_ID</th>\n",
       "      <th>Category</th>\n",
       "      <th>Item</th>\n",
       "      <th>Description</th>\n",
       "    </tr>\n",
       "  </thead>\n",
       "  <tbody>\n",
       "    <tr>\n",
       "      <th>0</th>\n",
       "      <td>0</td>\n",
       "      <td>Weapon</td>\n",
       "      <td>Longsword</td>\n",
       "      <td>Elara's main weapon for combat.</td>\n",
       "    </tr>\n",
       "    <tr>\n",
       "      <th>1</th>\n",
       "      <td>1</td>\n",
       "      <td>Weapon</td>\n",
       "      <td>Dagger</td>\n",
       "      <td>Versatile tool for close combat and utility pu...</td>\n",
       "    </tr>\n",
       "    <tr>\n",
       "      <th>2</th>\n",
       "      <td>2</td>\n",
       "      <td>Adventuring Gear</td>\n",
       "      <td>Backpack</td>\n",
       "      <td>To carry essential items.</td>\n",
       "    </tr>\n",
       "    <tr>\n",
       "      <th>3</th>\n",
       "      <td>3</td>\n",
       "      <td>Adventuring Gear</td>\n",
       "      <td>Rope (50 feet)</td>\n",
       "      <td>Useful for climbing and securing objects.</td>\n",
       "    </tr>\n",
       "    <tr>\n",
       "      <th>4</th>\n",
       "      <td>4</td>\n",
       "      <td>Adventuring Gear</td>\n",
       "      <td>Rations (5 days)</td>\n",
       "      <td>Enough food for the journey.</td>\n",
       "    </tr>\n",
       "    <tr>\n",
       "      <th>5</th>\n",
       "      <td>5</td>\n",
       "      <td>Adventuring Gear</td>\n",
       "      <td>Water skin</td>\n",
       "      <td>To carry water.</td>\n",
       "    </tr>\n",
       "    <tr>\n",
       "      <th>6</th>\n",
       "      <td>6</td>\n",
       "      <td>Adventuring Gear</td>\n",
       "      <td>Flint and Steel</td>\n",
       "      <td>For starting fires.</td>\n",
       "    </tr>\n",
       "    <tr>\n",
       "      <th>7</th>\n",
       "      <td>7</td>\n",
       "      <td>Adventuring Gear</td>\n",
       "      <td>Healing Potions (2)</td>\n",
       "      <td>For quick recovery in emergencies.</td>\n",
       "    </tr>\n",
       "    <tr>\n",
       "      <th>8</th>\n",
       "      <td>8</td>\n",
       "      <td>Armor</td>\n",
       "      <td>Chain Mail</td>\n",
       "      <td>Provides solid protection while allowing mobil...</td>\n",
       "    </tr>\n",
       "    <tr>\n",
       "      <th>9</th>\n",
       "      <td>9</td>\n",
       "      <td>Armor</td>\n",
       "      <td>Shield</td>\n",
       "      <td>Additional defense against attacks.</td>\n",
       "    </tr>\n",
       "    <tr>\n",
       "      <th>10</th>\n",
       "      <td>10</td>\n",
       "      <td>Transport</td>\n",
       "      <td>Horse (Storm)</td>\n",
       "      <td>A sturdy brown mare for reliable transportation.</td>\n",
       "    </tr>\n",
       "  </tbody>\n",
       "</table>\n",
       "</div>"
      ],
      "text/plain": [
       "    Item_ID          Category                 Item  \\\n",
       "0         0            Weapon            Longsword   \n",
       "1         1            Weapon               Dagger   \n",
       "2         2  Adventuring Gear             Backpack   \n",
       "3         3  Adventuring Gear       Rope (50 feet)   \n",
       "4         4  Adventuring Gear     Rations (5 days)   \n",
       "5         5  Adventuring Gear           Water skin   \n",
       "6         6  Adventuring Gear      Flint and Steel   \n",
       "7         7  Adventuring Gear  Healing Potions (2)   \n",
       "8         8             Armor           Chain Mail   \n",
       "9         9             Armor               Shield   \n",
       "10       10         Transport        Horse (Storm)   \n",
       "\n",
       "                                          Description  \n",
       "0                     Elara's main weapon for combat.  \n",
       "1   Versatile tool for close combat and utility pu...  \n",
       "2                           To carry essential items.  \n",
       "3           Useful for climbing and securing objects.  \n",
       "4                        Enough food for the journey.  \n",
       "5                                     To carry water.  \n",
       "6                                 For starting fires.  \n",
       "7                  For quick recovery in emergencies.  \n",
       "8   Provides solid protection while allowing mobil...  \n",
       "9                 Additional defense against attacks.  \n",
       "10   A sturdy brown mare for reliable transportation.  "
      ]
     },
     "execution_count": 8,
     "metadata": {},
     "output_type": "execute_result"
    }
   ],
   "source": [
    "query = '''\n",
    "SELECT * FROM INVENTORY;\n",
    "'''\n",
    "run_query(db,query)"
   ]
  },
  {
   "cell_type": "code",
   "execution_count": 9,
   "metadata": {},
   "outputs": [
    {
     "data": {
      "text/html": [
       "<div>\n",
       "<style scoped>\n",
       "    .dataframe tbody tr th:only-of-type {\n",
       "        vertical-align: middle;\n",
       "    }\n",
       "\n",
       "    .dataframe tbody tr th {\n",
       "        vertical-align: top;\n",
       "    }\n",
       "\n",
       "    .dataframe thead th {\n",
       "        text-align: right;\n",
       "    }\n",
       "</style>\n",
       "<table border=\"1\" class=\"dataframe\">\n",
       "  <thead>\n",
       "    <tr style=\"text-align: right;\">\n",
       "      <th></th>\n",
       "      <th>Campaign_ID</th>\n",
       "      <th>Character_ID</th>\n",
       "      <th>Item_ID</th>\n",
       "      <th>Quantity</th>\n",
       "    </tr>\n",
       "  </thead>\n",
       "  <tbody>\n",
       "  </tbody>\n",
       "</table>\n",
       "</div>"
      ],
      "text/plain": [
       "Empty DataFrame\n",
       "Columns: [Campaign_ID, Character_ID, Item_ID, Quantity]\n",
       "Index: []"
      ]
     },
     "execution_count": 9,
     "metadata": {},
     "output_type": "execute_result"
    }
   ],
   "source": [
    "query = '''\n",
    "SELECT * FROM CHARACTER_INVENTORY;\n",
    "'''\n",
    "run_query(db,query)"
   ]
  },
  {
   "cell_type": "markdown",
   "metadata": {},
   "source": [
    "### Picking up item\n",
    "For now, this is the pipeline:\n",
    "- Item must come from INVENTORY table in db\n",
    "- Assume that the item will always be written exactly as it appears in the table\n",
    "- "
   ]
  },
  {
   "cell_type": "code",
   "execution_count": 26,
   "metadata": {},
   "outputs": [],
   "source": [
    "# check if item queried is in INVENTORY table\n",
    "def validate_item(item_name):\n",
    "    query = f'''\n",
    "    SELECT * FROM INVENTORY WHERE UPPER(Item) LIKE \"{item_name.upper()}%\" \n",
    "    '''\n",
    "    tmp = run_query(db, query)\n",
    "    if not tmp.empty:\n",
    "        return tmp['Item_ID'].iloc[0]\n",
    "    return None\n",
    "\n",
    "# update table if item validated, otherwise error message\n",
    "# for now, use temporary campaign and character id\n",
    "def get_obtained_item(item_name, quantity, campaign_id=0, character_id=0):\n",
    "    item_id = validate_item(item_name)\n",
    "    print(item_id, quantity)\n",
    "    if item_id is not None:\n",
    "        # TODO: error handling\n",
    "        cursor = db.cursor()\n",
    "        query = f'''\n",
    "        UPDATE CHARACTER_INVENTORY SET Quantity = Quantity + {quantity}\n",
    "        WHERE Item_ID = {item_id} AND Campaign_ID = {campaign_id} AND Character_ID = {character_id}\n",
    "        '''\n",
    "        cursor.execute(query)\n",
    "        if cursor.rowcount == 0:\n",
    "            query = f'''\n",
    "            INSERT INTO CHARACTER_INVENTORY (Campaign_ID, Character_ID, Item_ID, Quantity) VALUES ({campaign_id}, {character_id}, {item_id}, {quantity})\n",
    "            '''\n",
    "            cursor.execute(query)\n",
    "        return json.dumps({'message':'The item(s) were successfully obtained. Please continue the story.'})\n",
    "    else:\n",
    "        return json.dumps({'message':'Item does not exist. Please prompt user to specify further or provide another action.'})\n",
    "\n",
    "\n",
    "def run_conversation_obtain_item(query):\n",
    "    # Step 1: send the conversation and available functions to the model\n",
    "    messages = [{\"role\": \"user\", \"content\": query}]\n",
    "    tools = [\n",
    "        {\n",
    "            \"type\": \"function\",\n",
    "            \"function\": {\n",
    "                \"name\": \"get_obtained_item\",\n",
    "                \"description\": \"Extract the item that the user has obtained in some manner (such as picked up, purchased, etc.)\",\n",
    "                \"parameters\": {\n",
    "                    \"type\": \"object\",\n",
    "                    \"properties\": {\n",
    "                        \"item_name\": {\n",
    "                            \"type\": \"string\",\n",
    "                            \"description\": \"The name of the obtained item.\",\n",
    "                        },\n",
    "                        \"quantity\": {\n",
    "                            \"type\": \"integer\",\n",
    "                            \"description\": \"The number of said items obtained. If a number is not specified, try and infer based on the surrounding context.\"\n",
    "                        }\n",
    "                    },\n",
    "                    \"required\": [\"item_name\", \"quantity\"],\n",
    "                },\n",
    "            },\n",
    "        }\n",
    "    ]\n",
    "    response = client.chat.completions.create(\n",
    "        model=\"gpt-4o\",\n",
    "        messages=messages,\n",
    "        tools=tools,\n",
    "        #tool_choice=\"auto\",  # auto is default, but we'll be explicit\n",
    "        tool_choice = {\"type\":'function','function':{'name':'get_obtained_item'}}\n",
    "    )\n",
    "    response_message = response.choices[0].message\n",
    "    tool_calls = response_message.tool_calls\n",
    "    # Step 2: check if the model wanted to call a function\n",
    "    if tool_calls:\n",
    "        # Step 3: call the function\n",
    "        # Note: the JSON response may not always be valid; be sure to handle errors\n",
    "        available_functions = {\n",
    "            \"get_obtained_item\": get_obtained_item,\n",
    "        }  # only one function in this example, but you can have multiple\n",
    "        messages.append(response_message)  # extend conversation with assistant's reply\n",
    "        # Step 4: send the info for each function call and function response to the model\n",
    "        for tool_call in tool_calls:\n",
    "            function_name = tool_call.function.name\n",
    "            function_to_call = available_functions[function_name]\n",
    "            function_args = json.loads(tool_call.function.arguments)\n",
    "            function_response = function_to_call(\n",
    "                item_name=function_args.get(\"item_name\"),\n",
    "                quantity=function_args.get(\"quantity\"),\n",
    "            )\n",
    "            messages.append(\n",
    "                {\n",
    "                    \"tool_call_id\": tool_call.id,\n",
    "                    \"role\": \"tool\",\n",
    "                    \"name\": function_name,\n",
    "                    \"content\": function_response,\n",
    "                }\n",
    "            )  # extend conversation with function response\n",
    "        second_response = client.chat.completions.create(\n",
    "            model=\"gpt-4o\",\n",
    "            messages=messages,\n",
    "        )  # get a new response from the model where it can see the function response\n",
    "        return second_response\n"
   ]
  },
  {
   "cell_type": "code",
   "execution_count": 27,
   "metadata": {},
   "outputs": [
    {
     "name": "stdout",
     "output_type": "stream",
     "text": [
      "0 1\n",
      "ChatCompletion(id='chatcmpl-9fc0r6t4YKcP2uX9X3UOB0IAMX0DY', choices=[Choice(finish_reason='stop', index=0, logprobs=None, message=ChatCompletionMessage(content='You pick up the longsword from the bodies of the dead goblins. It has a sturdy blade and the hilt is wrapped in worn leather. Feeling a surge of confidence with this new weapon in hand, you look around and decide your next course of action.\\n\\nYou notice the cave extends deeper to the north, while to the south lies the flickering light of the outside world. Pathways to the east and west are also visible, each shrouded in darkness.\\n\\nWhat do you do next?\\n- Head north, deeper into the cave.\\n- Head south, back towards the cave entrance.\\n- Explore the path to the east.\\n- Explore the path to the west.', role='assistant', function_call=None, tool_calls=None))], created=1719704597, model='gpt-4o-2024-05-13', object='chat.completion', service_tier=None, system_fingerprint='fp_d576307f90', usage=CompletionUsage(completion_tokens=136, prompt_tokens=75, total_tokens=211))\n"
     ]
    }
   ],
   "source": [
    "print(run_conversation_obtain_item(\"I pick up a longsword from the bodies of the dead goblins.\"))"
   ]
  },
  {
   "cell_type": "code",
   "execution_count": 28,
   "metadata": {},
   "outputs": [
    {
     "data": {
      "text/html": [
       "<div>\n",
       "<style scoped>\n",
       "    .dataframe tbody tr th:only-of-type {\n",
       "        vertical-align: middle;\n",
       "    }\n",
       "\n",
       "    .dataframe tbody tr th {\n",
       "        vertical-align: top;\n",
       "    }\n",
       "\n",
       "    .dataframe thead th {\n",
       "        text-align: right;\n",
       "    }\n",
       "</style>\n",
       "<table border=\"1\" class=\"dataframe\">\n",
       "  <thead>\n",
       "    <tr style=\"text-align: right;\">\n",
       "      <th></th>\n",
       "      <th>Campaign_ID</th>\n",
       "      <th>Character_ID</th>\n",
       "      <th>Item_ID</th>\n",
       "      <th>Quantity</th>\n",
       "    </tr>\n",
       "  </thead>\n",
       "  <tbody>\n",
       "    <tr>\n",
       "      <th>0</th>\n",
       "      <td>0</td>\n",
       "      <td>0</td>\n",
       "      <td>0</td>\n",
       "      <td>3.0</td>\n",
       "    </tr>\n",
       "  </tbody>\n",
       "</table>\n",
       "</div>"
      ],
      "text/plain": [
       "   Campaign_ID  Character_ID  Item_ID  Quantity\n",
       "0            0             0        0       3.0"
      ]
     },
     "execution_count": 28,
     "metadata": {},
     "output_type": "execute_result"
    }
   ],
   "source": [
    "# Check to see if tables were updated\n",
    "# TODO: WHY IS THIS UPDATED TWICE??\n",
    "query = '''\n",
    "SELECT * FROM CHARACTER_INVENTORY;\n",
    "'''\n",
    "run_query(db,query)"
   ]
  },
  {
   "cell_type": "code",
   "execution_count": 53,
   "metadata": {},
   "outputs": [],
   "source": [
    "query = '''\n",
    "DELETE FROM CHARACTER_INVENTORY;\n",
    "'''\n",
    "run_query(db,query)"
   ]
  },
  {
   "cell_type": "markdown",
   "metadata": {},
   "source": [
    "### Discarding item\n",
    "For now, this is the pipeline:\n",
    "- Item must come from INVENTORY table in db AND must exist in CHARACTER_INVENTORY\n",
    "- Assume that the item will always be written exactly as it appears in the table"
   ]
  },
  {
   "cell_type": "code",
   "execution_count": 37,
   "metadata": {},
   "outputs": [],
   "source": [
    "# defining custom exceptions to be used with error handling\n",
    "class ItemNotFoundException(Exception):\n",
    "    pass\n",
    "\n",
    "class ItemNotPossessedException(Exception):\n",
    "    pass"
   ]
  },
  {
   "cell_type": "code",
   "execution_count": 40,
   "metadata": {},
   "outputs": [],
   "source": [
    "# check if item queried is in INVENTORY table and character has more than discard amount\n",
    "# might need a third error condition if item exists, user has item, but has less than discard amount\n",
    "def validate_item_discard(item_name, quantity, campaign_id, character_id):\n",
    "    query = f'''\n",
    "    SELECT * FROM INVENTORY WHERE UPPER(Item) LIKE \"{item_name.upper()}%\" \n",
    "    '''\n",
    "    tmp = run_query(db, query)\n",
    "    if not tmp.empty: # item exists in world\n",
    "        item_id = tmp['Item_ID'].iloc[0]\n",
    "        # validate if character has item\n",
    "        query = f'''\n",
    "        SELECT * FROM CHARACTER_INVENTORY \n",
    "        WHERE Campaign_ID = {campaign_id} AND Character_ID = {character_id} AND Item_ID = {item_id} AND Quantity >= {quantity}\n",
    "        '''\n",
    "        # there should theoretically only be one row of the item for each character with the quantity as different values\n",
    "        # need to validate and put checks in place\n",
    "        tmp = run_query(db, query)\n",
    "        if not tmp.empty:\n",
    "            return item_id\n",
    "        raise ItemNotPossessedException(\"Character does not have the item in their inventory.\")\n",
    "    raise ItemNotFoundException(\"Item does not exist in this campaign.\")\n",
    "\n",
    "# update table if item validated, otherwise error message\n",
    "# for now, use temporary campaign and character id\n",
    "# first update with item subtraction, then remove all entries with <=0 values\n",
    "def get_discarded_item(item_name, quantity, campaign_id=0, character_id=0):\n",
    "    try:\n",
    "        item_id = validate_item(item_name)\n",
    "        print(item_id, quantity)\n",
    "        cursor = db.cursor()\n",
    "        query = f'''\n",
    "        UPDATE CHARACTER_INVENTORY SET Quantity = Quantity - {quantity}\n",
    "        WHERE Item_ID = {item_id} AND Campaign_ID = {campaign_id} AND Character_ID = {character_id};\n",
    "        '''\n",
    "        cursor.execute(query)\n",
    "\n",
    "        # housekeeping query, remove rows with invalid quantites (<= 0 items)\n",
    "        query = 'DELETE FROM CHARACTER_INVENTORY WHERE Quantity <= 0'\n",
    "        cursor.execute(query)\n",
    "        return json.dumps({'message':'The item(s) were successfully discarded. Please continue the story.'})\n",
    "    except ItemNotPossessedException as e:\n",
    "        return json.dumps({'message':\"Item is not in character's possession. Please prompt user to specify further or provide another action.\"})\n",
    "    except ItemNotFoundException as e:\n",
    "        return json.dumps({'message':\"Item does not exist. Please prompt user to specify further or provide another action.\"})\n",
    "\n",
    "\n",
    "def run_conversation_discard_item(query):\n",
    "    # Step 1: send the conversation and available functions to the model\n",
    "    messages = [{\"role\": \"user\", \"content\": query}]\n",
    "    tools = [\n",
    "        {\n",
    "            \"type\": \"function\",\n",
    "            \"function\": {\n",
    "                \"name\": \"get_discarded_item\",\n",
    "                \"description\": \"Extract the item that the user has discarded in some manner (such as thrown away, consumed, broken, etc.)\",\n",
    "                \"parameters\": {\n",
    "                    \"type\": \"object\",\n",
    "                    \"properties\": {\n",
    "                        \"item_name\": {\n",
    "                            \"type\": \"string\",\n",
    "                            \"description\": \"The name of the discarded item.\",\n",
    "                        },\n",
    "                        \"quantity\": {\n",
    "                            \"type\": \"integer\",\n",
    "                            \"description\": \"The number of said items discarded. If a number is not specified, try and infer based on the surrounding context.\"\n",
    "                        }\n",
    "                    },\n",
    "                    \"required\": [\"item_name\", \"quantity\"],\n",
    "                },\n",
    "            },\n",
    "        }\n",
    "    ]\n",
    "    response = client.chat.completions.create(\n",
    "        model=\"gpt-4o\",\n",
    "        messages=messages,\n",
    "        tools=tools,\n",
    "        tool_choice=\"auto\",  # auto is default, but we'll be explicit\n",
    "        # tool_choice = {\"type\":'function','function':{'name':'get_discarded_item'}}\n",
    "    )\n",
    "    response_message = response.choices[0].message\n",
    "    tool_calls = response_message.tool_calls\n",
    "    # Step 2: check if the model wanted to call a function\n",
    "    if tool_calls:\n",
    "        # Step 3: call the function\n",
    "        # Note: the JSON response may not always be valid; be sure to handle errors\n",
    "        available_functions = {\n",
    "            \"get_discarded_item\": get_discarded_item,\n",
    "        }  # only one function in this example, but you can have multiple\n",
    "        messages.append(response_message)  # extend conversation with assistant's reply\n",
    "        # Step 4: send the info for each function call and function response to the model\n",
    "        for tool_call in tool_calls:\n",
    "            function_name = tool_call.function.name\n",
    "            function_to_call = available_functions[function_name]\n",
    "            function_args = json.loads(tool_call.function.arguments)\n",
    "            print(function_args.get(\"item_name\"), function_args.get(\"quantity\"))\n",
    "            function_response = function_to_call(\n",
    "                item_name=function_args.get(\"item_name\"),\n",
    "                quantity=function_args.get(\"quantity\"),\n",
    "            )\n",
    "            messages.append(\n",
    "                {\n",
    "                    \"tool_call_id\": tool_call.id,\n",
    "                    \"role\": \"tool\",\n",
    "                    \"name\": function_name,\n",
    "                    \"content\": function_response,\n",
    "                }\n",
    "            )  # extend conversation with function response\n",
    "        second_response = client.chat.completions.create(\n",
    "            model=\"gpt-4o\",\n",
    "            messages=messages,\n",
    "        )  # get a new response from the model where it can see the function response\n",
    "        return second_response\n"
   ]
  },
  {
   "cell_type": "code",
   "execution_count": 41,
   "metadata": {},
   "outputs": [
    {
     "name": "stdout",
     "output_type": "stream",
     "text": [
      "longsword 1\n",
      "0 1\n",
      "ChatCompletion(id='chatcmpl-9fcesxfDTpa3Fl0DvFTa7j6z9p4Fu', choices=[Choice(finish_reason='stop', index=0, logprobs=None, message=ChatCompletionMessage(content='Your longsword sails through the air, glittering in the sunlight before it splashes into the churning sea below. The waves quickly engulf it, leaving no trace of your weapon. The cliffside now feels oddly barren without the familiar weight at your side. What do you do next?', role='assistant', function_call=None, tool_calls=None))], created=1719707078, model='gpt-4o-2024-05-13', object='chat.completion', service_tier=None, system_fingerprint='fp_ce0793330f', usage=CompletionUsage(completion_tokens=58, prompt_tokens=72, total_tokens=130))\n"
     ]
    }
   ],
   "source": [
    "print(run_conversation_discard_item(\"I throw my longsword off the cliff overlooking the sea.\"))"
   ]
  },
  {
   "cell_type": "code",
   "execution_count": 43,
   "metadata": {},
   "outputs": [
    {
     "data": {
      "text/html": [
       "<div>\n",
       "<style scoped>\n",
       "    .dataframe tbody tr th:only-of-type {\n",
       "        vertical-align: middle;\n",
       "    }\n",
       "\n",
       "    .dataframe tbody tr th {\n",
       "        vertical-align: top;\n",
       "    }\n",
       "\n",
       "    .dataframe thead th {\n",
       "        text-align: right;\n",
       "    }\n",
       "</style>\n",
       "<table border=\"1\" class=\"dataframe\">\n",
       "  <thead>\n",
       "    <tr style=\"text-align: right;\">\n",
       "      <th></th>\n",
       "      <th>Campaign_ID</th>\n",
       "      <th>Character_ID</th>\n",
       "      <th>Item_ID</th>\n",
       "      <th>Quantity</th>\n",
       "    </tr>\n",
       "  </thead>\n",
       "  <tbody>\n",
       "    <tr>\n",
       "      <th>0</th>\n",
       "      <td>0</td>\n",
       "      <td>0</td>\n",
       "      <td>0</td>\n",
       "      <td>4.0</td>\n",
       "    </tr>\n",
       "  </tbody>\n",
       "</table>\n",
       "</div>"
      ],
      "text/plain": [
       "   Campaign_ID  Character_ID  Item_ID  Quantity\n",
       "0            0             0        0       4.0"
      ]
     },
     "execution_count": 43,
     "metadata": {},
     "output_type": "execute_result"
    }
   ],
   "source": [
    "# Check to see if tables were updated\n",
    "query = '''\n",
    "SELECT * FROM CHARACTER_INVENTORY;\n",
    "'''\n",
    "run_query(db,query)"
   ]
  },
  {
   "cell_type": "markdown",
   "metadata": {},
   "source": [
    "### Combine the two functions"
   ]
  },
  {
   "cell_type": "code",
   "execution_count": 44,
   "metadata": {},
   "outputs": [],
   "source": [
    "def run_conversation_item(query):\n",
    "    # Step 1: send the conversation and available functions to the model\n",
    "    messages = [{\"role\": \"user\", \"content\": query}]\n",
    "    tools = [\n",
    "        {\n",
    "            \"type\": \"function\",\n",
    "            \"function\": {\n",
    "                \"name\": \"get_obtained_item\",\n",
    "                \"description\": \"Extract the item that the user has obtained in some manner (such as picked up, purchased, etc.)\",\n",
    "                \"parameters\": {\n",
    "                    \"type\": \"object\",\n",
    "                    \"properties\": {\n",
    "                        \"item_name\": {\n",
    "                            \"type\": \"string\",\n",
    "                            \"description\": \"The name of the obtained item.\",\n",
    "                        },\n",
    "                        \"quantity\": {\n",
    "                            \"type\": \"integer\",\n",
    "                            \"description\": \"The number of said items obtained. If a number is not specified, try and infer based on the surrounding context.\"\n",
    "                        }\n",
    "                    },\n",
    "                    \"required\": [\"item_name\", \"quantity\"],\n",
    "                },\n",
    "            },\n",
    "        },\n",
    "        {\n",
    "            \"type\": \"function\",\n",
    "            \"function\": {\n",
    "                \"name\": \"get_discarded_item\",\n",
    "                \"description\": \"Extract the item that the user has discarded in some manner (such as thrown away, consumed, broken, etc.)\",\n",
    "                \"parameters\": {\n",
    "                    \"type\": \"object\",\n",
    "                    \"properties\": {\n",
    "                        \"item_name\": {\n",
    "                            \"type\": \"string\",\n",
    "                            \"description\": \"The name of the discarded item.\",\n",
    "                        },\n",
    "                        \"quantity\": {\n",
    "                            \"type\": \"integer\",\n",
    "                            \"description\": \"The number of said items discarded. If a number is not specified, try and infer based on the surrounding context.\"\n",
    "                        }\n",
    "                    },\n",
    "                    \"required\": [\"item_name\", \"quantity\"],\n",
    "                },\n",
    "            },\n",
    "        }\n",
    "    ]\n",
    "    response = client.chat.completions.create(\n",
    "        model=\"gpt-4o\",\n",
    "        messages=messages,\n",
    "        tools=tools,\n",
    "        tool_choice=\"auto\",  # auto is default, but we'll be explicit\n",
    "        # tool_choice = {\"type\":'function','function':{'name':'get_discarded_item'}}\n",
    "    )\n",
    "    response_message = response.choices[0].message\n",
    "    tool_calls = response_message.tool_calls\n",
    "    # Step 2: check if the model wanted to call a function\n",
    "    if tool_calls:\n",
    "        # Step 3: call the function\n",
    "        # Note: the JSON response may not always be valid; be sure to handle errors\n",
    "        available_functions = {\n",
    "            \"get_obtained_item\": get_obtained_item,\n",
    "            \"get_discarded_item\": get_discarded_item,\n",
    "        }  # only one function in this example, but you can have multiple\n",
    "        messages.append(response_message)  # extend conversation with assistant's reply\n",
    "        # Step 4: send the info for each function call and function response to the model\n",
    "        for tool_call in tool_calls:\n",
    "            function_name = tool_call.function.name\n",
    "            function_to_call = available_functions[function_name]\n",
    "            function_args = json.loads(tool_call.function.arguments)\n",
    "            print(function_args.get(\"item_name\"), function_args.get(\"quantity\"))\n",
    "            function_response = function_to_call(\n",
    "                item_name=function_args.get(\"item_name\"),\n",
    "                quantity=function_args.get(\"quantity\"),\n",
    "            )\n",
    "            messages.append(\n",
    "                {\n",
    "                    \"tool_call_id\": tool_call.id,\n",
    "                    \"role\": \"tool\",\n",
    "                    \"name\": function_name,\n",
    "                    \"content\": function_response,\n",
    "                }\n",
    "            )  # extend conversation with function response\n",
    "        second_response = client.chat.completions.create(\n",
    "            model=\"gpt-4o\",\n",
    "            messages=messages,\n",
    "        )  # get a new response from the model where it can see the function response\n",
    "        return second_response"
   ]
  },
  {
   "cell_type": "code",
   "execution_count": 45,
   "metadata": {},
   "outputs": [
    {
     "name": "stdout",
     "output_type": "stream",
     "text": [
      "longsword 1\n",
      "0 1\n",
      "ChatCompletion(id='chatcmpl-9feodNU7QT8A90NQ6wFIBheWRoEC8', choices=[Choice(finish_reason='stop', index=0, logprobs=None, message=ChatCompletionMessage(content='You pick up the longsword from the bodies of the dead goblins. The blade is slightly chipped and tarnished, but it’s still a functional weapon. You feel its weight in your hand, a reliable addition to your arsenal.\\n\\nAs you stand up, you notice the path ahead branches into two directions: one leads deeper into the darker sections of the cave, where you can hear a faint dripping sound and an occasional growl; the other path seems to rise slightly, leading towards an exit with faint sunlight seeping through.\\n\\nWhat would you like to do next?\\n- Explore the deeper sections of the cave.\\n- Head towards the exit.\\n- Examine the area for more items.\\n- Something else. (Specify)\\n\\n', role='assistant', function_call=None, tool_calls=None))], created=1719715371, model='gpt-4o-2024-05-13', object='chat.completion', service_tier=None, system_fingerprint='fp_d576307f90', usage=CompletionUsage(completion_tokens=144, prompt_tokens=75, total_tokens=219))\n"
     ]
    }
   ],
   "source": [
    "print(run_conversation_item(\"I pick up a longsword from the bodies of the dead goblins.\"))"
   ]
  },
  {
   "cell_type": "code",
   "execution_count": 46,
   "metadata": {},
   "outputs": [
    {
     "data": {
      "text/html": [
       "<div>\n",
       "<style scoped>\n",
       "    .dataframe tbody tr th:only-of-type {\n",
       "        vertical-align: middle;\n",
       "    }\n",
       "\n",
       "    .dataframe tbody tr th {\n",
       "        vertical-align: top;\n",
       "    }\n",
       "\n",
       "    .dataframe thead th {\n",
       "        text-align: right;\n",
       "    }\n",
       "</style>\n",
       "<table border=\"1\" class=\"dataframe\">\n",
       "  <thead>\n",
       "    <tr style=\"text-align: right;\">\n",
       "      <th></th>\n",
       "      <th>Campaign_ID</th>\n",
       "      <th>Character_ID</th>\n",
       "      <th>Item_ID</th>\n",
       "      <th>Quantity</th>\n",
       "    </tr>\n",
       "  </thead>\n",
       "  <tbody>\n",
       "    <tr>\n",
       "      <th>0</th>\n",
       "      <td>0</td>\n",
       "      <td>0</td>\n",
       "      <td>0</td>\n",
       "      <td>5.0</td>\n",
       "    </tr>\n",
       "  </tbody>\n",
       "</table>\n",
       "</div>"
      ],
      "text/plain": [
       "   Campaign_ID  Character_ID  Item_ID  Quantity\n",
       "0            0             0        0       5.0"
      ]
     },
     "execution_count": 46,
     "metadata": {},
     "output_type": "execute_result"
    }
   ],
   "source": [
    "# Check to see if tables were updated\n",
    "query = '''\n",
    "SELECT * FROM CHARACTER_INVENTORY;\n",
    "'''\n",
    "run_query(db,query)"
   ]
  },
  {
   "cell_type": "code",
   "execution_count": 47,
   "metadata": {},
   "outputs": [
    {
     "name": "stdout",
     "output_type": "stream",
     "text": [
      "longsword 1\n",
      "0 1\n",
      "ChatCompletion(id='chatcmpl-9feooyf3E0Pz3s1pSI3Z5LgQ1eod0', choices=[Choice(finish_reason='stop', index=0, logprobs=None, message=ChatCompletionMessage(content='You watch as your longsword spins through the air, glinting in the sunlight before disappearing into the waves far below. The roar of the ocean fills your ears as the weapon vanishes from sight. \\n\\nWhat would you like to do next?', role='assistant', function_call=None, tool_calls=None))], created=1719715382, model='gpt-4o-2024-05-13', object='chat.completion', service_tier=None, system_fingerprint='fp_ce0793330f', usage=CompletionUsage(completion_tokens=50, prompt_tokens=72, total_tokens=122))\n"
     ]
    }
   ],
   "source": [
    "print(run_conversation_item(\"I throw my longsword off the cliff overlooking the sea.\"))"
   ]
  },
  {
   "cell_type": "code",
   "execution_count": 48,
   "metadata": {},
   "outputs": [
    {
     "data": {
      "text/html": [
       "<div>\n",
       "<style scoped>\n",
       "    .dataframe tbody tr th:only-of-type {\n",
       "        vertical-align: middle;\n",
       "    }\n",
       "\n",
       "    .dataframe tbody tr th {\n",
       "        vertical-align: top;\n",
       "    }\n",
       "\n",
       "    .dataframe thead th {\n",
       "        text-align: right;\n",
       "    }\n",
       "</style>\n",
       "<table border=\"1\" class=\"dataframe\">\n",
       "  <thead>\n",
       "    <tr style=\"text-align: right;\">\n",
       "      <th></th>\n",
       "      <th>Campaign_ID</th>\n",
       "      <th>Character_ID</th>\n",
       "      <th>Item_ID</th>\n",
       "      <th>Quantity</th>\n",
       "    </tr>\n",
       "  </thead>\n",
       "  <tbody>\n",
       "    <tr>\n",
       "      <th>0</th>\n",
       "      <td>0</td>\n",
       "      <td>0</td>\n",
       "      <td>0</td>\n",
       "      <td>4.0</td>\n",
       "    </tr>\n",
       "  </tbody>\n",
       "</table>\n",
       "</div>"
      ],
      "text/plain": [
       "   Campaign_ID  Character_ID  Item_ID  Quantity\n",
       "0            0             0        0       4.0"
      ]
     },
     "execution_count": 48,
     "metadata": {},
     "output_type": "execute_result"
    }
   ],
   "source": [
    "# Check to see if tables were updated\n",
    "query = '''\n",
    "SELECT * FROM CHARACTER_INVENTORY;\n",
    "'''\n",
    "run_query(db,query)"
   ]
  },
  {
   "cell_type": "code",
   "execution_count": null,
   "metadata": {},
   "outputs": [],
   "source": []
  }
 ],
 "metadata": {
  "kernelspec": {
   "display_name": "Python 3",
   "language": "python",
   "name": "python3"
  },
  "language_info": {
   "codemirror_mode": {
    "name": "ipython",
    "version": 3
   },
   "file_extension": ".py",
   "mimetype": "text/x-python",
   "name": "python",
   "nbconvert_exporter": "python",
   "pygments_lexer": "ipython3",
   "version": "3.11.9"
  }
 },
 "nbformat": 4,
 "nbformat_minor": 2
}
